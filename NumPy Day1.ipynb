{
 "cells": [
  {
   "cell_type": "code",
   "execution_count": 1,
   "id": "07edcd7d-a8fa-4f50-93ae-a97f0b0215d5",
   "metadata": {},
   "outputs": [],
   "source": [
    "####NumPy++ Numeric Python....."
   ]
  },
  {
   "cell_type": "code",
   "execution_count": 2,
   "id": "8e32a31e-279e-472b-a057-799f2ae0cfde",
   "metadata": {},
   "outputs": [],
   "source": [
    "###it is design to Handle Numeric Values"
   ]
  },
  {
   "cell_type": "code",
   "execution_count": 3,
   "id": "e61e822a-4065-4b60-8ce3-667d07dedcfe",
   "metadata": {},
   "outputs": [],
   "source": [
    "###Numpy Has Multidimenssional Data 1D,2D,3D,4D"
   ]
  },
  {
   "cell_type": "code",
   "execution_count": 4,
   "id": "0852e04f-6e2b-4c8d-8170-20874fe093b3",
   "metadata": {},
   "outputs": [],
   "source": [
    "##1D---Only row Or Column"
   ]
  },
  {
   "cell_type": "code",
   "execution_count": 5,
   "id": "a4b722fe-9dc0-4e14-9e0d-56f0eaaf398d",
   "metadata": {},
   "outputs": [],
   "source": [
    "##2D--- Combination Row And Column"
   ]
  },
  {
   "cell_type": "code",
   "execution_count": 6,
   "id": "23e0d925-32a1-4287-9ec7-6ccc20b8ea00",
   "metadata": {},
   "outputs": [],
   "source": [
    "## There are index in numpy Data also .... Positive index and negetive index"
   ]
  },
  {
   "cell_type": "code",
   "execution_count": 7,
   "id": "a7656290-ad8b-4d4c-9c29-404ea79f0865",
   "metadata": {},
   "outputs": [],
   "source": [
    "#X[row,column]==there are first awlway rows and second always column"
   ]
  },
  {
   "cell_type": "code",
   "execution_count": null,
   "id": "53d02d6d-d1bb-4b92-bd6c-1771a286d385",
   "metadata": {},
   "outputs": [],
   "source": []
  },
  {
   "cell_type": "code",
   "execution_count": null,
   "id": "6a686072-5f24-4cd3-ad3c-a6bab10b5b2e",
   "metadata": {},
   "outputs": [],
   "source": []
  },
  {
   "cell_type": "code",
   "execution_count": 8,
   "id": "d94c3630-1633-4022-8f18-c718284639b7",
   "metadata": {},
   "outputs": [],
   "source": [
    "import numpy as np"
   ]
  },
  {
   "cell_type": "code",
   "execution_count": 11,
   "id": "2787ef14-a333-48c7-8e1c-075f1bfe8cf8",
   "metadata": {},
   "outputs": [],
   "source": [
    "data=np.random.randint(0,10) ##here we get ranndom value in bet 1to 9 ... every time we get new random value"
   ]
  },
  {
   "cell_type": "code",
   "execution_count": 12,
   "id": "361cd752-b0e5-4153-a0f6-baae7c3cf6d0",
   "metadata": {},
   "outputs": [
    {
     "data": {
      "text/plain": [
       "0"
      ]
     },
     "execution_count": 12,
     "metadata": {},
     "output_type": "execute_result"
    }
   ],
   "source": [
    "data"
   ]
  },
  {
   "cell_type": "code",
   "execution_count": 14,
   "id": "0e95aa85-e26c-4e9d-8b19-1f3eac14a92f",
   "metadata": {},
   "outputs": [],
   "source": [
    "data=np.random.randint(0,10,5)"
   ]
  },
  {
   "cell_type": "code",
   "execution_count": 16,
   "id": "114edc1c-3c8d-4d33-882b-71b6bb327d31",
   "metadata": {},
   "outputs": [
    {
     "data": {
      "text/plain": [
       "array([3, 9, 3, 6, 0], dtype=int32)"
      ]
     },
     "execution_count": 16,
     "metadata": {},
     "output_type": "execute_result"
    }
   ],
   "source": [
    "data ##here we get random 5 values in single row\n"
   ]
  },
  {
   "cell_type": "code",
   "execution_count": null,
   "id": "6e70ef49-8f35-4092-8923-e64a21c33ff4",
   "metadata": {},
   "outputs": [],
   "source": []
  },
  {
   "cell_type": "code",
   "execution_count": 17,
   "id": "477026c1-0365-43df-a6cc-3df1e25e8fb8",
   "metadata": {},
   "outputs": [],
   "source": [
    "data=np.random.randint(0,10,(5,5))"
   ]
  },
  {
   "cell_type": "code",
   "execution_count": 19,
   "id": "bddbb25e-f5ba-4a55-ac79-91bc88607646",
   "metadata": {},
   "outputs": [
    {
     "data": {
      "text/plain": [
       "array([[3, 8, 7, 5, 1],\n",
       "       [0, 3, 2, 0, 0],\n",
       "       [2, 3, 1, 1, 6],\n",
       "       [3, 4, 4, 0, 2],\n",
       "       [9, 9, 2, 0, 6]], dtype=int32)"
      ]
     },
     "execution_count": 19,
     "metadata": {},
     "output_type": "execute_result"
    }
   ],
   "source": [
    "data ## here we get rand values for 5row and 5 collumn..."
   ]
  },
  {
   "cell_type": "code",
   "execution_count": null,
   "id": "adbb75fe-4029-4b48-af17-e387bca3017a",
   "metadata": {},
   "outputs": [],
   "source": [
    "###  now for how to access data in "
   ]
  },
  {
   "cell_type": "code",
   "execution_count": 21,
   "id": "691a75db-a927-4d49-b5b0-109c0446e3fc",
   "metadata": {},
   "outputs": [
    {
     "data": {
      "text/plain": [
       "np.int32(3)"
      ]
     },
     "execution_count": 21,
     "metadata": {},
     "output_type": "execute_result"
    }
   ],
   "source": [
    "data[0,0]\n"
   ]
  },
  {
   "cell_type": "code",
   "execution_count": 23,
   "id": "8d056bd5-812f-4526-863a-d848c9282fc6",
   "metadata": {},
   "outputs": [
    {
     "data": {
      "text/plain": [
       "np.int32(1)"
      ]
     },
     "execution_count": 23,
     "metadata": {},
     "output_type": "execute_result"
    }
   ],
   "source": [
    "data[2,3]"
   ]
  },
  {
   "cell_type": "code",
   "execution_count": null,
   "id": "2840be97-0d91-4be4-b89b-2786af544bbc",
   "metadata": {},
   "outputs": [],
   "source": []
  },
  {
   "cell_type": "code",
   "execution_count": 22,
   "id": "9d29453f-5e6e-4315-8d08-6abd717a38f5",
   "metadata": {},
   "outputs": [
    {
     "data": {
      "text/plain": [
       "array([[1, 1],\n",
       "       [4, 0]], dtype=int32)"
      ]
     },
     "execution_count": 22,
     "metadata": {},
     "output_type": "execute_result"
    }
   ],
   "source": [
    "data[-3:-1,-3:-1]"
   ]
  },
  {
   "cell_type": "code",
   "execution_count": 24,
   "id": "1ad8cf17-455b-4aaa-b437-3c2d6788f7db",
   "metadata": {},
   "outputs": [
    {
     "data": {
      "text/plain": [
       "array([[2, 0],\n",
       "       [1, 1]], dtype=int32)"
      ]
     },
     "execution_count": 24,
     "metadata": {},
     "output_type": "execute_result"
    }
   ],
   "source": [
    "data[-4:-2,-3:-1]"
   ]
  },
  {
   "cell_type": "code",
   "execution_count": null,
   "id": "f0fc2a25-c17b-4e1e-8db9-b22817557036",
   "metadata": {},
   "outputs": [],
   "source": []
  },
  {
   "cell_type": "code",
   "execution_count": 28,
   "id": "3a93e6d6-79b5-4ec0-9e1f-4ebba0432a94",
   "metadata": {},
   "outputs": [
    {
     "data": {
      "text/plain": [
       "'\\nDifference between List And Array\\n1. List=if we have to do an operation with list it dose not allow it .. we ave do it element by elelment ot we have to use if...\\n  Array=it allows us do an operay over array in single attempt\\n2. List= list can keep data as same as which type of data is\\n   Arrays=list can covert whole data in sinle data type which is suitable\\n3. List=Heterogenious : it can contain all data types..\\n   Arrays= it conert data in single data type\\n'"
      ]
     },
     "execution_count": 28,
     "metadata": {},
     "output_type": "execute_result"
    }
   ],
   "source": [
    "\"\"\"\n",
    "Difference between List And Array\n",
    "1. List=if we have to do an operation with list it dose not allow it .. we ave do it element by elelment ot we have to use if...\n",
    "  Array=it allows us do an operay over array in single attempt\n",
    "2. List= list can keep data as same as which type of data is\n",
    "   Arrays=list can covert whole data in sinle data type which is suitable\n",
    "3. List=Heterogenious : it can contain all data types..\n",
    "   Arrays= it conert data in single data type\n",
    "\"\"\"\n",
    "\n",
    "# \"\"\" Shubham Sarade\"\"\": Doc strings"
   ]
  },
  {
   "cell_type": "code",
   "execution_count": 2,
   "id": "42b90205-a602-49e4-906c-64f64f90b1fe",
   "metadata": {},
   "outputs": [],
   "source": [
    "import numpy as np\n"
   ]
  },
  {
   "cell_type": "code",
   "execution_count": 1,
   "id": "1ec76adb-77d2-46a7-a6a5-98bf15c99251",
   "metadata": {},
   "outputs": [],
   "source": [
    "##Functions of ***Random Family Function***"
   ]
  },
  {
   "cell_type": "markdown",
   "id": "3bf95479-bc33-4cd5-8cd7-b4eacb74f371",
   "metadata": {},
   "source": []
  },
  {
   "cell_type": "code",
   "execution_count": null,
   "id": "5405287b-97f4-4534-a6ca-e109dd91259f",
   "metadata": {},
   "outputs": [],
   "source": []
  },
  {
   "cell_type": "code",
   "execution_count": null,
   "id": "1d16ef71-8698-4a7e-9b5c-f0fd2d64532d",
   "metadata": {},
   "outputs": [],
   "source": [
    "####RAndint"
   ]
  },
  {
   "cell_type": "code",
   "execution_count": 3,
   "id": "5c1a63b8-6465-4e83-a613-00df85c2d119",
   "metadata": {},
   "outputs": [
    {
     "data": {
      "text/plain": [
       "10"
      ]
     },
     "execution_count": 3,
     "metadata": {},
     "output_type": "execute_result"
    }
   ],
   "source": [
    "np.random.randint(0,100)"
   ]
  },
  {
   "cell_type": "code",
   "execution_count": null,
   "id": "8ba2cd7a-1a2b-4865-a2e7-895f59283885",
   "metadata": {},
   "outputs": [],
   "source": []
  },
  {
   "cell_type": "code",
   "execution_count": 4,
   "id": "28e1d881-fc99-4fe3-a388-5dcfad3e4a1b",
   "metadata": {},
   "outputs": [
    {
     "data": {
      "text/plain": [
       "array([74, 82, 66, 90, 54], dtype=int32)"
      ]
     },
     "execution_count": 4,
     "metadata": {},
     "output_type": "execute_result"
    }
   ],
   "source": [
    "np.random.randint(0,100,5)"
   ]
  },
  {
   "cell_type": "code",
   "execution_count": null,
   "id": "9bd84d28-fe28-4afc-aa6d-068a288f9b6b",
   "metadata": {},
   "outputs": [],
   "source": []
  },
  {
   "cell_type": "code",
   "execution_count": 5,
   "id": "179d62d3-15fb-4106-9282-0ce70c9732c3",
   "metadata": {},
   "outputs": [
    {
     "data": {
      "text/plain": [
       "array([[91, 36, 78,  3, 42,  5, 73, 98, 55, 19],\n",
       "       [27, 51, 80, 73, 21, 85, 35, 58, 91, 98],\n",
       "       [39, 86,  4, 89, 97, 82, 24, 53, 32, 79],\n",
       "       [71, 68, 11, 64, 79, 83, 12, 47,  8, 71],\n",
       "       [84,  5,  5, 35, 48, 41, 59, 81,  7, 99],\n",
       "       [25, 41, 76, 61, 35, 48, 77, 27, 86, 50],\n",
       "       [55, 72, 17,  7, 83, 46, 31, 66, 70, 60],\n",
       "       [95, 77, 46, 96, 88, 30, 62, 33, 76, 16],\n",
       "       [ 4, 84, 64, 25, 16, 71, 77, 10,  7, 60],\n",
       "       [94, 39, 15, 94, 20, 81, 53, 50, 32, 36]], dtype=int32)"
      ]
     },
     "execution_count": 5,
     "metadata": {},
     "output_type": "execute_result"
    }
   ],
   "source": [
    "np.random.randint(0,100,(10,10))"
   ]
  },
  {
   "cell_type": "code",
   "execution_count": 6,
   "id": "1d9f27cb-d8ad-40bf-a655-161608ff6d9e",
   "metadata": {},
   "outputs": [],
   "source": [
    "###Rand"
   ]
  },
  {
   "cell_type": "code",
   "execution_count": 9,
   "id": "fe0c7541-fc8e-4004-8e65-7952f6a84346",
   "metadata": {},
   "outputs": [
    {
     "data": {
      "text/plain": [
       "array([0.33829532, 0.69892056, 0.47488113, 0.0638585 , 0.72887525,\n",
       "       0.31527296, 0.59294045, 0.57686634, 0.1930357 , 0.18209401,\n",
       "       0.02159469, 0.90477744])"
      ]
     },
     "execution_count": 9,
     "metadata": {},
     "output_type": "execute_result"
    }
   ],
   "source": [
    "np.random.rand(12) ### in this function we ger random vallues in bet 0.00 to 0.9"
   ]
  },
  {
   "cell_type": "code",
   "execution_count": null,
   "id": "750e981c-5f6a-461d-bc1d-2f75ab3d9709",
   "metadata": {},
   "outputs": [],
   "source": []
  },
  {
   "cell_type": "code",
   "execution_count": 11,
   "id": "de9f9e98-0168-4425-94ce-b424d08f8b1d",
   "metadata": {},
   "outputs": [
    {
     "data": {
      "text/plain": [
       "array([[0.79397985, 0.0619814 , 0.11392009],\n",
       "       [0.69071095, 0.7351332 , 0.48661908],\n",
       "       [0.81777636, 0.56759874, 0.39785392]])"
      ]
     },
     "execution_count": 11,
     "metadata": {},
     "output_type": "execute_result"
    }
   ],
   "source": [
    "np.random.rand(3,3) # it gives 3 row and 3 collumn"
   ]
  },
  {
   "cell_type": "code",
   "execution_count": null,
   "id": "c0459ca7-204d-4db6-984f-eff59abbd599",
   "metadata": {},
   "outputs": [],
   "source": []
  },
  {
   "cell_type": "code",
   "execution_count": null,
   "id": "0eec28b5-cfd6-40b9-9b67-82923f641146",
   "metadata": {},
   "outputs": [],
   "source": []
  }
 ],
 "metadata": {
  "kernelspec": {
   "display_name": "Python 3 (ipykernel)",
   "language": "python",
   "name": "python3"
  },
  "language_info": {
   "codemirror_mode": {
    "name": "ipython",
    "version": 3
   },
   "file_extension": ".py",
   "mimetype": "text/x-python",
   "name": "python",
   "nbconvert_exporter": "python",
   "pygments_lexer": "ipython3",
   "version": "3.13.7"
  }
 },
 "nbformat": 4,
 "nbformat_minor": 5
}
