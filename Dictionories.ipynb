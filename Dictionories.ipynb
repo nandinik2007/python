{
 "cells": [
  {
   "cell_type": "code",
   "execution_count": 1,
   "id": "a425677c-38b1-4edc-b78d-9a4a080dbb00",
   "metadata": {},
   "outputs": [],
   "source": [
    "#####dict......"
   ]
  },
  {
   "cell_type": "code",
   "execution_count": 2,
   "id": "6a6ec000-8444-4e67-bec6-064064b052f7",
   "metadata": {},
   "outputs": [
    {
     "data": {
      "text/plain": [
       "dict"
      ]
     },
     "execution_count": 2,
     "metadata": {},
     "output_type": "execute_result"
    }
   ],
   "source": [
    "type({})"
   ]
  },
  {
   "cell_type": "code",
   "execution_count": 3,
   "id": "f2d9abcb-b64b-4942-8ad3-3b116ec518d5",
   "metadata": {},
   "outputs": [],
   "source": [
    "######they are the combination of keys and values"
   ]
  },
  {
   "cell_type": "code",
   "execution_count": 5,
   "id": "339fc652-cf09-4759-a0aa-15116e6cdf7b",
   "metadata": {},
   "outputs": [
    {
     "name": "stdout",
     "output_type": "stream",
     "text": [
      "{'name': 'shubham', 'age': 30}\n"
     ]
    }
   ],
   "source": [
    "x={'name':'shubham','age':30}\n",
    "type(x)\n",
    "print(x)"
   ]
  },
  {
   "cell_type": "code",
   "execution_count": 6,
   "id": "54c55a90-171a-42e3-9d8f-8d7024c9a898",
   "metadata": {},
   "outputs": [
    {
     "data": {
      "text/plain": [
       "dict"
      ]
     },
     "execution_count": 6,
     "metadata": {},
     "output_type": "execute_result"
    }
   ],
   "source": [
    "type(x)"
   ]
  },
  {
   "cell_type": "code",
   "execution_count": 7,
   "id": "f5bd1c5b-ee8f-4eff-bbd7-66dcea1a1ceb",
   "metadata": {},
   "outputs": [
    {
     "data": {
      "text/plain": [
       "'shubham'"
      ]
     },
     "execution_count": 7,
     "metadata": {},
     "output_type": "execute_result"
    }
   ],
   "source": [
    "x['name']"
   ]
  },
  {
   "cell_type": "code",
   "execution_count": 9,
   "id": "74a1b49f-24bc-4e3b-ba81-0988eda3a9c4",
   "metadata": {},
   "outputs": [
    {
     "data": {
      "text/plain": [
       "30"
      ]
     },
     "execution_count": 9,
     "metadata": {},
     "output_type": "execute_result"
    }
   ],
   "source": [
    "x['age']"
   ]
  },
  {
   "cell_type": "code",
   "execution_count": 10,
   "id": "bea5b685-98a7-45b0-b908-ad8404d61528",
   "metadata": {},
   "outputs": [
    {
     "ename": "KeyError",
     "evalue": "'shubham'",
     "output_type": "error",
     "traceback": [
      "\u001b[31m---------------------------------------------------------------------------\u001b[39m",
      "\u001b[31mKeyError\u001b[39m                                  Traceback (most recent call last)",
      "\u001b[36mCell\u001b[39m\u001b[36m \u001b[39m\u001b[32mIn[10]\u001b[39m\u001b[32m, line 1\u001b[39m\n\u001b[32m----> \u001b[39m\u001b[32m1\u001b[39m \u001b[43mx\u001b[49m\u001b[43m[\u001b[49m\u001b[33;43m'\u001b[39;49m\u001b[33;43mshubham\u001b[39;49m\u001b[33;43m'\u001b[39;49m\u001b[43m]\u001b[49m\u001b[38;5;66;03m#### we not able seperatebdata bye usin values to find\u001b[39;00m\n",
      "\u001b[31mKeyError\u001b[39m: 'shubham'"
     ]
    }
   ],
   "source": [
    "x['shubham']#### we not able seperatebdata bye usin values to find"
   ]
  },
  {
   "cell_type": "code",
   "execution_count": 11,
   "id": "3cc64a87-c966-465c-9ec5-cfcc290b371a",
   "metadata": {},
   "outputs": [],
   "source": [
    "### Keys==we can use any data type as key withoy list..we cany use list as key"
   ]
  },
  {
   "cell_type": "code",
   "execution_count": 39,
   "id": "f1f7f34c-8535-41d7-ab72-653df74a7005",
   "metadata": {},
   "outputs": [],
   "source": [
    "x= {\n",
    "\n",
    "\"EMP001\": {\n",
    "\n",
    "\"name\": \"Rahul Sharma\",\n",
    "\n",
    "\"age\":\n",
    "\n",
    "29,\n",
    "\n",
    "\"department\": \"Finance\"\n",
    "\n",
    "},\n",
    "\n",
    "\"EMP002\":\n",
    "\n",
    "{\n",
    "\n",
    "\"name\": \"Priya Iyer\",\n",
    "\n",
    "\"age\": 26,\n",
    "\n",
    "\"department\": \"Human Resources\"\n",
    "\n",
    "}}"
   ]
  },
  {
   "cell_type": "code",
   "execution_count": 24,
   "id": "2867308f-2508-4c06-8dcd-2ae916a30512",
   "metadata": {},
   "outputs": [
    {
     "data": {
      "text/plain": [
       "dict"
      ]
     },
     "execution_count": 24,
     "metadata": {},
     "output_type": "execute_result"
    }
   ],
   "source": [
    "type(x)"
   ]
  },
  {
   "cell_type": "code",
   "execution_count": 25,
   "id": "602004f9-fcf3-4ca9-82eb-940efa28dabb",
   "metadata": {},
   "outputs": [
    {
     "data": {
      "text/plain": [
       "'Rahul Sharma'"
      ]
     },
     "execution_count": 25,
     "metadata": {},
     "output_type": "execute_result"
    }
   ],
   "source": [
    "x[\"EMP001\"]['name']"
   ]
  },
  {
   "cell_type": "code",
   "execution_count": 27,
   "id": "6001b07f-ecb6-4eb0-8702-c1a6a850c7a6",
   "metadata": {},
   "outputs": [
    {
     "data": {
      "text/plain": [
       "29"
      ]
     },
     "execution_count": 27,
     "metadata": {},
     "output_type": "execute_result"
    }
   ],
   "source": [
    "x['EMP001']['age']"
   ]
  },
  {
   "cell_type": "code",
   "execution_count": 28,
   "id": "6c15bd89-965a-4a6c-8300-fac228c35bf1",
   "metadata": {},
   "outputs": [
    {
     "data": {
      "text/plain": [
       "'Finance'"
      ]
     },
     "execution_count": 28,
     "metadata": {},
     "output_type": "execute_result"
    }
   ],
   "source": [
    "x['EMP001']['department']"
   ]
  },
  {
   "cell_type": "code",
   "execution_count": 30,
   "id": "bf073831-349f-4bd4-be9a-23d363f2ca98",
   "metadata": {},
   "outputs": [
    {
     "data": {
      "text/plain": [
       "dict_keys(['EMP001', 'EMP002'])"
      ]
     },
     "execution_count": 30,
     "metadata": {},
     "output_type": "execute_result"
    }
   ],
   "source": [
    "x.keys()"
   ]
  },
  {
   "cell_type": "code",
   "execution_count": 31,
   "id": "90d6d9d8-5f69-466d-a436-ed7a1fc3635e",
   "metadata": {},
   "outputs": [
    {
     "data": {
      "text/plain": [
       "dict_keys(['name', 'age', 'department'])"
      ]
     },
     "execution_count": 31,
     "metadata": {},
     "output_type": "execute_result"
    }
   ],
   "source": [
    "x['EMP001'].keys()"
   ]
  },
  {
   "cell_type": "code",
   "execution_count": 43,
   "id": "2fb9ee89-cc93-41a2-94fb-aafbb3c981b6",
   "metadata": {},
   "outputs": [
    {
     "data": {
      "text/plain": [
       "'Rahul Sharma'"
      ]
     },
     "execution_count": 43,
     "metadata": {},
     "output_type": "execute_result"
    }
   ],
   "source": [
    "x['EMP001']['name']"
   ]
  },
  {
   "cell_type": "code",
   "execution_count": 44,
   "id": "11ad4775-53fc-4b8c-a325-f56327e51d05",
   "metadata": {},
   "outputs": [],
   "source": [
    "### as same of keys there is values .values used for find values"
   ]
  },
  {
   "cell_type": "code",
   "execution_count": 45,
   "id": "40f45285-6bf3-4c21-8f4d-1eccee4bfdda",
   "metadata": {},
   "outputs": [],
   "source": [
    "####.items for find keys and velues "
   ]
  },
  {
   "cell_type": "code",
   "execution_count": null,
   "id": "94d5025d-b698-483b-92ee-f1a55341b131",
   "metadata": {},
   "outputs": [],
   "source": []
  },
  {
   "cell_type": "code",
   "execution_count": null,
   "id": "c8ab4d5e-4907-4229-88ab-cb054dd63193",
   "metadata": {},
   "outputs": [],
   "source": []
  },
  {
   "cell_type": "code",
   "execution_count": 46,
   "id": "84135345-b1a7-46c8-8151-4ad067cb004a",
   "metadata": {},
   "outputs": [],
   "source": [
    "x={'dtaa':[1,2,3],'machin':[1,2,3]}"
   ]
  },
  {
   "cell_type": "code",
   "execution_count": 47,
   "id": "4397b9af-b8e8-4e67-88e2-8049bdf6e231",
   "metadata": {},
   "outputs": [
    {
     "data": {
      "text/plain": [
       "dict"
      ]
     },
     "execution_count": 47,
     "metadata": {},
     "output_type": "execute_result"
    }
   ],
   "source": [
    "type(x)"
   ]
  },
  {
   "cell_type": "code",
   "execution_count": 48,
   "id": "8ca1097c-cd1b-4979-9fb5-3d4090e55cd7",
   "metadata": {},
   "outputs": [],
   "source": [
    "x['shubham']='sarade'"
   ]
  },
  {
   "cell_type": "code",
   "execution_count": 49,
   "id": "d6f97d23-92ed-436d-932d-cacf1382b6cd",
   "metadata": {},
   "outputs": [
    {
     "data": {
      "text/plain": [
       "{'dtaa': [1, 2, 3], 'machin': [1, 2, 3], 'shubham': 'sarade'}"
      ]
     },
     "execution_count": 49,
     "metadata": {},
     "output_type": "execute_result"
    }
   ],
   "source": [
    "x"
   ]
  },
  {
   "cell_type": "code",
   "execution_count": 55,
   "id": "3123db75-7d22-4462-aed3-c063dc064b33",
   "metadata": {},
   "outputs": [],
   "source": [
    "x.update({'surname':'sarade'})"
   ]
  },
  {
   "cell_type": "code",
   "execution_count": 56,
   "id": "673418dc-8fa7-4541-a766-ebdd59dbd939",
   "metadata": {},
   "outputs": [
    {
     "data": {
      "text/plain": [
       "{'dtaa': [1, 2, 3],\n",
       " 'machin': [1, 2, 3],\n",
       " 'shubham': 'sarade',\n",
       " 'surname': 'sarade'}"
      ]
     },
     "execution_count": 56,
     "metadata": {},
     "output_type": "execute_result"
    }
   ],
   "source": [
    "x"
   ]
  },
  {
   "cell_type": "code",
   "execution_count": 63,
   "id": "9527c1f2-b045-4f17-bf50-c0862533ba4b",
   "metadata": {},
   "outputs": [
    {
     "ename": "KeyError",
     "evalue": "'machin'",
     "output_type": "error",
     "traceback": [
      "\u001b[31m---------------------------------------------------------------------------\u001b[39m",
      "\u001b[31mKeyError\u001b[39m                                  Traceback (most recent call last)",
      "\u001b[36mCell\u001b[39m\u001b[36m \u001b[39m\u001b[32mIn[63]\u001b[39m\u001b[32m, line 1\u001b[39m\n\u001b[32m----> \u001b[39m\u001b[32m1\u001b[39m \u001b[43mx\u001b[49m\u001b[43m.\u001b[49m\u001b[43mpop\u001b[49m\u001b[43m(\u001b[49m\u001b[33;43m'\u001b[39;49m\u001b[33;43mmachin\u001b[39;49m\u001b[33;43m'\u001b[39;49m\u001b[43m)\u001b[49m \u001b[38;5;66;03m###removing specific item\u001b[39;00m\n",
      "\u001b[31mKeyError\u001b[39m: 'machin'"
     ]
    }
   ],
   "source": [
    "x.pop('machin') ###removing specific item"
   ]
  },
  {
   "cell_type": "code",
   "execution_count": 64,
   "id": "bee967ba-9185-4592-8753-950d38d77e09",
   "metadata": {},
   "outputs": [
    {
     "data": {
      "text/plain": [
       "{'dtaa': [1, 2, 3], 'shubham': 'sarade', 'surname': 'sarade'}"
      ]
     },
     "execution_count": 64,
     "metadata": {},
     "output_type": "execute_result"
    }
   ],
   "source": [
    "x"
   ]
  },
  {
   "cell_type": "code",
   "execution_count": 65,
   "id": "c3290066-6331-48af-b0c7-f90163b681dd",
   "metadata": {},
   "outputs": [
    {
     "data": {
      "text/plain": [
       "('surname', 'sarade')"
      ]
     },
     "execution_count": 65,
     "metadata": {},
     "output_type": "execute_result"
    }
   ],
   "source": [
    "x.popitem()"
   ]
  },
  {
   "cell_type": "code",
   "execution_count": 66,
   "id": "2802a7e4-1f2d-4315-820b-4334fb7c9b21",
   "metadata": {},
   "outputs": [
    {
     "data": {
      "text/plain": [
       "{'dtaa': [1, 2, 3], 'shubham': 'sarade'}"
      ]
     },
     "execution_count": 66,
     "metadata": {},
     "output_type": "execute_result"
    }
   ],
   "source": [
    "x"
   ]
  },
  {
   "cell_type": "code",
   "execution_count": 67,
   "id": "47a0d94a-976e-41ff-b398-4826a44b4532",
   "metadata": {},
   "outputs": [],
   "source": [
    "x.clear() #####clear all data of dict....."
   ]
  },
  {
   "cell_type": "code",
   "execution_count": 68,
   "id": "fb8676f6-37ec-4966-b342-bae1bd2661ee",
   "metadata": {},
   "outputs": [
    {
     "data": {
      "text/plain": [
       "{}"
      ]
     },
     "execution_count": 68,
     "metadata": {},
     "output_type": "execute_result"
    }
   ],
   "source": [
    "x"
   ]
  },
  {
   "cell_type": "code",
   "execution_count": null,
   "id": "897c7f4a-88f5-4834-bd00-38385a230067",
   "metadata": {},
   "outputs": [],
   "source": []
  },
  {
   "cell_type": "code",
   "execution_count": null,
   "id": "06ce5761-980c-4a0d-8d1f-88bf0579edca",
   "metadata": {},
   "outputs": [],
   "source": []
  },
  {
   "cell_type": "code",
   "execution_count": null,
   "id": "82987c2b-a4f7-4ef8-a32b-91b842158d29",
   "metadata": {},
   "outputs": [],
   "source": []
  },
  {
   "cell_type": "code",
   "execution_count": null,
   "id": "9c5dabef-55f0-4b9d-a30b-9857b12ace92",
   "metadata": {},
   "outputs": [],
   "source": []
  },
  {
   "cell_type": "code",
   "execution_count": null,
   "id": "902e1d06-d981-4556-aabd-ea31dce8bcc4",
   "metadata": {},
   "outputs": [],
   "source": []
  },
  {
   "cell_type": "code",
   "execution_count": null,
   "id": "a42ed8a9-b2e8-425a-85f7-7e9485604114",
   "metadata": {},
   "outputs": [],
   "source": []
  }
 ],
 "metadata": {
  "kernelspec": {
   "display_name": "Python 3 (ipykernel)",
   "language": "python",
   "name": "python3"
  },
  "language_info": {
   "codemirror_mode": {
    "name": "ipython",
    "version": 3
   },
   "file_extension": ".py",
   "mimetype": "text/x-python",
   "name": "python",
   "nbconvert_exporter": "python",
   "pygments_lexer": "ipython3",
   "version": "3.13.5"
  }
 },
 "nbformat": 4,
 "nbformat_minor": 5
}
