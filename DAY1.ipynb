{
 "cells": [
  {
   "cell_type": "code",
   "execution_count": null,
   "id": "4e08c8a2-d272-454b-b758-d77a678f0b71",
   "metadata": {},
   "outputs": [],
   "source": [
    "#### A for create new cell Above\n"
   ]
  },
  {
   "cell_type": "code",
   "execution_count": null,
   "id": "71de6228-ca56-465a-8793-32165f064d32",
   "metadata": {},
   "outputs": [],
   "source": [
    "### B for Create New Cell Bellow"
   ]
  },
  {
   "cell_type": "code",
   "execution_count": null,
   "id": "6f997929-03d1-482d-9ce0-3cbb52480870",
   "metadata": {},
   "outputs": [],
   "source": [
    "## D for delete cell"
   ]
  },
  {
   "cell_type": "code",
   "execution_count": null,
   "id": "941818f4-58cb-445c-afcb-f0a9569d6647",
   "metadata": {},
   "outputs": [],
   "source": [
    "## Shift+enter To exicute"
   ]
  },
  {
   "cell_type": "code",
   "execution_count": null,
   "id": "e76dfb94-b2d8-439d-955f-71639bcb24d6",
   "metadata": {},
   "outputs": [],
   "source": []
  },
  {
   "cell_type": "code",
   "execution_count": 1,
   "id": "d37ee1a5-9386-41ab-a18c-427a5d0a4206",
   "metadata": {},
   "outputs": [],
   "source": [
    "x=10"
   ]
  },
  {
   "cell_type": "code",
   "execution_count": 2,
   "id": "abf622f4-8dbc-4889-8b32-c381aa8e4ef5",
   "metadata": {},
   "outputs": [
    {
     "name": "stdout",
     "output_type": "stream",
     "text": [
      "10\n"
     ]
    }
   ],
   "source": [
    "print(x)"
   ]
  },
  {
   "cell_type": "code",
   "execution_count": 3,
   "id": "34a47f90-4f9f-45ad-a42c-a50ed82db382",
   "metadata": {},
   "outputs": [
    {
     "data": {
      "text/plain": [
       "int"
      ]
     },
     "execution_count": 3,
     "metadata": {},
     "output_type": "execute_result"
    }
   ],
   "source": [
    "type(x) ### to find the type of variable"
   ]
  },
  {
   "cell_type": "code",
   "execution_count": 4,
   "id": "df3ae886-7366-4443-bda1-f4902f568ff6",
   "metadata": {},
   "outputs": [],
   "source": [
    "x='abcd'"
   ]
  },
  {
   "cell_type": "code",
   "execution_count": 6,
   "id": "22915c7c-1517-4afc-8b6b-81d7ee559c86",
   "metadata": {},
   "outputs": [
    {
     "name": "stdout",
     "output_type": "stream",
     "text": [
      "abcd\n"
     ]
    }
   ],
   "source": [
    "print(x)\n"
   ]
  },
  {
   "cell_type": "code",
   "execution_count": 7,
   "id": "d6008a17-5a6b-47dc-bb24-b0ee6aeb93dc",
   "metadata": {},
   "outputs": [
    {
     "data": {
      "text/plain": [
       "str"
      ]
     },
     "execution_count": 7,
     "metadata": {},
     "output_type": "execute_result"
    }
   ],
   "source": [
    "type(x) ##type of variable is String function"
   ]
  },
  {
   "cell_type": "code",
   "execution_count": 8,
   "id": "fa38bfa1-bd72-4b9e-b381-fb7e282c67bb",
   "metadata": {},
   "outputs": [],
   "source": [
    "x='123shubh'"
   ]
  },
  {
   "cell_type": "code",
   "execution_count": 9,
   "id": "14baef9c-3f37-4567-802f-f4e042ba9d68",
   "metadata": {},
   "outputs": [
    {
     "name": "stdout",
     "output_type": "stream",
     "text": [
      "123shubh\n"
     ]
    }
   ],
   "source": [
    "print(x)"
   ]
  },
  {
   "cell_type": "code",
   "execution_count": 10,
   "id": "bb5e4386-0b33-475c-97d2-8355b938a383",
   "metadata": {},
   "outputs": [
    {
     "data": {
      "text/plain": [
       "str"
      ]
     },
     "execution_count": 10,
     "metadata": {},
     "output_type": "execute_result"
    }
   ],
   "source": [
    "type(x)"
   ]
  },
  {
   "cell_type": "code",
   "execution_count": 14,
   "id": "a4a623e6-1998-4a33-9e83-cf9cad3c5436",
   "metadata": {},
   "outputs": [],
   "source": [
    "x='shubham sarade'"
   ]
  },
  {
   "cell_type": "code",
   "execution_count": 15,
   "id": "47d37f5a-2265-4ea3-b882-58d6de3f5df7",
   "metadata": {},
   "outputs": [
    {
     "data": {
      "text/plain": [
       "str"
      ]
     },
     "execution_count": 15,
     "metadata": {},
     "output_type": "execute_result"
    }
   ],
   "source": [
    "type(x)"
   ]
  },
  {
   "cell_type": "code",
   "execution_count": null,
   "id": "4c6c7c92-e877-43b7-8233-cd4363d284d2",
   "metadata": {},
   "outputs": [],
   "source": [
    "###Upper Case Tranformation\n",
    "  ###lower to Upper\n",
    "##x.upper()\n"
   ]
  },
  {
   "cell_type": "code",
   "execution_count": 16,
   "id": "5675aecd-b0d4-402a-aab2-d0c45d032ac8",
   "metadata": {},
   "outputs": [
    {
     "data": {
      "text/plain": [
       "'SHUBHAM SARADE'"
      ]
     },
     "execution_count": 16,
     "metadata": {},
     "output_type": "execute_result"
    }
   ],
   "source": [
    "x.upper()"
   ]
  },
  {
   "cell_type": "code",
   "execution_count": null,
   "id": "203edf89-850d-4d1d-96da-b5be9b78da20",
   "metadata": {},
   "outputs": [],
   "source": [
    "##Lower Case Transformation\n",
    "  ## Upeer to lower\n",
    "  ##x.lower()\n"
   ]
  },
  {
   "cell_type": "code",
   "execution_count": 17,
   "id": "f7feca4f-1f9b-46bd-9393-b4a4b7fe1ecf",
   "metadata": {},
   "outputs": [],
   "source": [
    "x='ShuBham SArade'"
   ]
  },
  {
   "cell_type": "code",
   "execution_count": 18,
   "id": "e58672ee-c013-4dda-8fb3-2f6e9329f5f8",
   "metadata": {},
   "outputs": [
    {
     "data": {
      "text/plain": [
       "'shubham sarade'"
      ]
     },
     "execution_count": 18,
     "metadata": {},
     "output_type": "execute_result"
    }
   ],
   "source": [
    "x.lower()"
   ]
  },
  {
   "cell_type": "code",
   "execution_count": null,
   "id": "4d37cafd-2447-4bd5-b94a-2b8adc80fb3d",
   "metadata": {},
   "outputs": [],
   "source": [
    "##swapcase Transformation\n",
    "##is convert lower letters touppe and upper letters in lower"
   ]
  },
  {
   "cell_type": "code",
   "execution_count": 20,
   "id": "05fdde24-f307-4648-b53d-e0e60603d42a",
   "metadata": {},
   "outputs": [
    {
     "data": {
      "text/plain": [
       "'sHUbHAM saRADE'"
      ]
     },
     "execution_count": 20,
     "metadata": {},
     "output_type": "execute_result"
    }
   ],
   "source": [
    "x.swapcase()"
   ]
  },
  {
   "cell_type": "code",
   "execution_count": 21,
   "id": "0531df46-2cfb-4931-b2db-13fa905e2819",
   "metadata": {},
   "outputs": [],
   "source": [
    "##Title Transformatiom\n",
    "##its capitilize first letter of every word\n"
   ]
  },
  {
   "cell_type": "code",
   "execution_count": 22,
   "id": "33d80fa3-65a1-4a5b-8aca-681b93a95ee2",
   "metadata": {},
   "outputs": [
    {
     "data": {
      "text/plain": [
       "'Shubham Sarade'"
      ]
     },
     "execution_count": 22,
     "metadata": {},
     "output_type": "execute_result"
    }
   ],
   "source": [
    "x.title()"
   ]
  },
  {
   "cell_type": "code",
   "execution_count": 23,
   "id": "1ad904f8-f1d1-4fa3-b153-466e06428974",
   "metadata": {},
   "outputs": [],
   "source": [
    "##Capitalize Transformation \n",
    "##its capitlize the only first letter of every line"
   ]
  },
  {
   "cell_type": "code",
   "execution_count": 24,
   "id": "9fd52c0c-2f37-4c2a-99c7-67527a871a7b",
   "metadata": {},
   "outputs": [
    {
     "data": {
      "text/plain": [
       "'Shubham sarade'"
      ]
     },
     "execution_count": 24,
     "metadata": {},
     "output_type": "execute_result"
    }
   ],
   "source": [
    "x.capitalize()"
   ]
  },
  {
   "cell_type": "code",
   "execution_count": null,
   "id": "d38857fa-7350-430f-8730-3d6a14255b01",
   "metadata": {},
   "outputs": [],
   "source": []
  },
  {
   "cell_type": "code",
   "execution_count": 25,
   "id": "219963a6-f96d-40d7-9338-bcf0e7ccede1",
   "metadata": {},
   "outputs": [],
   "source": [
    "## Is Function Its bool type function give outpun in the form of True Or Flase"
   ]
  },
  {
   "cell_type": "code",
   "execution_count": 27,
   "id": "49cede2c-0fc6-4d5f-a861-5e56cf3de3ee",
   "metadata": {},
   "outputs": [
    {
     "data": {
      "text/plain": [
       "False"
      ]
     },
     "execution_count": 27,
     "metadata": {},
     "output_type": "execute_result"
    }
   ],
   "source": [
    "x.isalpha()"
   ]
  },
  {
   "cell_type": "code",
   "execution_count": 28,
   "id": "277710eb-f7c4-4bc5-829e-a8ffa77d0611",
   "metadata": {},
   "outputs": [],
   "source": [
    "##above statement becase there is Space in The function"
   ]
  },
  {
   "cell_type": "code",
   "execution_count": null,
   "id": "7204ba4f-fec8-4a84-9c70-377fd06b9ab4",
   "metadata": {},
   "outputs": [],
   "source": []
  },
  {
   "cell_type": "code",
   "execution_count": 31,
   "id": "f848c1b2-64fe-486a-8773-d657bd3503b7",
   "metadata": {},
   "outputs": [],
   "source": [
    "x='Shubhamsarade'"
   ]
  },
  {
   "cell_type": "code",
   "execution_count": 32,
   "id": "67bff8fd-4f6b-4463-bf31-261e38bff22b",
   "metadata": {},
   "outputs": [
    {
     "data": {
      "text/plain": [
       "True"
      ]
     },
     "execution_count": 32,
     "metadata": {},
     "output_type": "execute_result"
    }
   ],
   "source": [
    "x.isalpha()"
   ]
  },
  {
   "cell_type": "code",
   "execution_count": null,
   "id": "cc743e1a-f5bc-4dfc-9e82-50f08d9d440b",
   "metadata": {},
   "outputs": [],
   "source": []
  },
  {
   "cell_type": "code",
   "execution_count": 35,
   "id": "af46bb9e-7f44-4ce1-817a-e73c537bc295",
   "metadata": {},
   "outputs": [],
   "source": [
    "x='shubh4797'"
   ]
  },
  {
   "cell_type": "code",
   "execution_count": 38,
   "id": "62163e1e-5a69-4820-8892-00a2abaf20f9",
   "metadata": {},
   "outputs": [
    {
     "data": {
      "text/plain": [
       "True"
      ]
     },
     "execution_count": 38,
     "metadata": {},
     "output_type": "execute_result"
    }
   ],
   "source": [
    "x.isalnum()"
   ]
  },
  {
   "cell_type": "code",
   "execution_count": null,
   "id": "b8898fa7-272b-4218-885f-4a29ed4b6c26",
   "metadata": {},
   "outputs": [],
   "source": []
  },
  {
   "cell_type": "code",
   "execution_count": 20,
   "id": "1ac5f3d3-bcf7-472a-bb67-039f55818179",
   "metadata": {},
   "outputs": [],
   "source": [
    "x='123456'"
   ]
  },
  {
   "cell_type": "code",
   "execution_count": 21,
   "id": "58ddbdee-b726-46fc-a87e-b45f37f04a75",
   "metadata": {},
   "outputs": [
    {
     "data": {
      "text/plain": [
       "str"
      ]
     },
     "execution_count": 21,
     "metadata": {},
     "output_type": "execute_result"
    }
   ],
   "source": [
    "type(x)\n"
   ]
  },
  {
   "cell_type": "code",
   "execution_count": 26,
   "id": "fee8c00f-e9e6-4ccb-8487-6c6e4876f41e",
   "metadata": {},
   "outputs": [
    {
     "data": {
      "text/plain": [
       "True"
      ]
     },
     "execution_count": 26,
     "metadata": {},
     "output_type": "execute_result"
    }
   ],
   "source": [
    "x.endswith('6')"
   ]
  },
  {
   "cell_type": "code",
   "execution_count": null,
   "id": "7963014c-f6fd-4b09-a12c-2846cbb5978c",
   "metadata": {},
   "outputs": [],
   "source": []
  },
  {
   "cell_type": "code",
   "execution_count": 36,
   "id": "80c9b425-c953-47ef-ba16-12f4508176f6",
   "metadata": {},
   "outputs": [],
   "source": [
    "x='213226'"
   ]
  },
  {
   "cell_type": "code",
   "execution_count": 37,
   "id": "c7de2580-7275-4b8c-8165-65be3ffca171",
   "metadata": {},
   "outputs": [
    {
     "data": {
      "text/plain": [
       "str"
      ]
     },
     "execution_count": 37,
     "metadata": {},
     "output_type": "execute_result"
    }
   ],
   "source": [
    "type(x)"
   ]
  },
  {
   "cell_type": "code",
   "execution_count": 38,
   "id": "25f0019a-e973-4758-94dc-abaa23c0fb6c",
   "metadata": {},
   "outputs": [
    {
     "data": {
      "text/plain": [
       "True"
      ]
     },
     "execution_count": 38,
     "metadata": {},
     "output_type": "execute_result"
    }
   ],
   "source": [
    "x.isalnum()"
   ]
  },
  {
   "cell_type": "code",
   "execution_count": 39,
   "id": "599ca262-c240-44f4-ab7d-a0c4e40a8805",
   "metadata": {},
   "outputs": [
    {
     "data": {
      "text/plain": [
       "True"
      ]
     },
     "execution_count": 39,
     "metadata": {},
     "output_type": "execute_result"
    }
   ],
   "source": [
    "x.isdigit()"
   ]
  },
  {
   "cell_type": "code",
   "execution_count": null,
   "id": "a8814416-b3ad-49d6-8613-a96221d55de6",
   "metadata": {},
   "outputs": [],
   "source": []
  },
  {
   "cell_type": "code",
   "execution_count": 10,
   "id": "fc90e67a-5f12-478a-9732-ef99d59d2aff",
   "metadata": {},
   "outputs": [],
   "source": [
    "##Split--- basically devide with basis of space.. ifthere is space present"
   ]
  },
  {
   "cell_type": "code",
   "execution_count": 11,
   "id": "002675cb-0e95-492d-a839-5e1b3705b7c6",
   "metadata": {},
   "outputs": [],
   "source": [
    "###also we have to mention at what basic of we have to device date...like any alphabet,special cjaracter,number etc"
   ]
  },
  {
   "cell_type": "code",
   "execution_count": 12,
   "id": "0c0a5392-a80a-4025-93a5-cc4dad3a182b",
   "metadata": {},
   "outputs": [],
   "source": [
    "x='Shubham sarade'"
   ]
  },
  {
   "cell_type": "code",
   "execution_count": 13,
   "id": "ca63c95e-244b-4b23-92ce-8c5593c0295c",
   "metadata": {},
   "outputs": [
    {
     "name": "stdout",
     "output_type": "stream",
     "text": [
      "Shubham sarade\n"
     ]
    }
   ],
   "source": [
    "print(x)"
   ]
  },
  {
   "cell_type": "code",
   "execution_count": 14,
   "id": "e03345c3-fac5-4aa2-a2cc-2e98f3a2a573",
   "metadata": {},
   "outputs": [
    {
     "data": {
      "text/plain": [
       "['Shubham', 'sarade']"
      ]
     },
     "execution_count": 14,
     "metadata": {},
     "output_type": "execute_result"
    }
   ],
   "source": [
    "x.split()"
   ]
  },
  {
   "cell_type": "code",
   "execution_count": null,
   "id": "c25d5e63-d245-4fec-a56b-d55b1246b858",
   "metadata": {},
   "outputs": [],
   "source": []
  },
  {
   "cell_type": "code",
   "execution_count": 15,
   "id": "de8a26fb-6f55-4916-a41f-3c586cc47a94",
   "metadata": {},
   "outputs": [],
   "source": [
    "x='shubhamsarade'"
   ]
  },
  {
   "cell_type": "code",
   "execution_count": 17,
   "id": "d00376dc-6037-4a71-9dd7-2c9ca7e9c51a",
   "metadata": {},
   "outputs": [
    {
     "data": {
      "text/plain": [
       "['shubha', 'sarade']"
      ]
     },
     "execution_count": 17,
     "metadata": {},
     "output_type": "execute_result"
    }
   ],
   "source": [
    "x.split('m')"
   ]
  },
  {
   "cell_type": "code",
   "execution_count": null,
   "id": "f49db6f8-98e1-4c9f-9d5e-58469515a995",
   "metadata": {},
   "outputs": [],
   "source": []
  },
  {
   "cell_type": "code",
   "execution_count": 40,
   "id": "e61b7cad-f759-4b87-89b0-e5e78509ae0f",
   "metadata": {},
   "outputs": [],
   "source": [
    "x='raja'"
   ]
  },
  {
   "cell_type": "code",
   "execution_count": 41,
   "id": "f926a26b-ebf4-41c9-b469-895d8a9a70a6",
   "metadata": {},
   "outputs": [
    {
     "data": {
      "text/plain": [
       "['r', 'j', '']"
      ]
     },
     "execution_count": 41,
     "metadata": {},
     "output_type": "execute_result"
    }
   ],
   "source": [
    "x.split('a')"
   ]
  },
  {
   "cell_type": "code",
   "execution_count": null,
   "id": "84ee5897-f96d-44b5-bb44-8f0ad5fce95e",
   "metadata": {},
   "outputs": [],
   "source": []
  }
 ],
 "metadata": {
  "kernelspec": {
   "display_name": "Python [conda env:base] *",
   "language": "python",
   "name": "conda-base-py"
  },
  "language_info": {
   "codemirror_mode": {
    "name": "ipython",
    "version": 3
   },
   "file_extension": ".py",
   "mimetype": "text/x-python",
   "name": "python",
   "nbconvert_exporter": "python",
   "pygments_lexer": "ipython3",
   "version": "3.13.5"
  }
 },
 "nbformat": 4,
 "nbformat_minor": 5
}
