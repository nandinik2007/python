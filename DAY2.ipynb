{
 "cells": [
  {
   "cell_type": "code",
   "execution_count": 1,
   "id": "f424ddbe-746d-4b0a-bdc0-e2bb5970721e",
   "metadata": {},
   "outputs": [],
   "source": [
    "###Replace.. "
   ]
  },
  {
   "cell_type": "code",
   "execution_count": 2,
   "id": "3250cc61-86a3-4bf1-98af-fb3fdb8f3174",
   "metadata": {},
   "outputs": [],
   "source": [
    "x='shubham sarade'"
   ]
  },
  {
   "cell_type": "code",
   "execution_count": 13,
   "id": "56203a78-94f6-4b6e-b637-d295efb69987",
   "metadata": {},
   "outputs": [
    {
     "data": {
      "text/plain": [
       "'Bala sarade'"
      ]
     },
     "execution_count": 13,
     "metadata": {},
     "output_type": "execute_result"
    }
   ],
   "source": [
    "x.replace('shubham','Bala')\n",
    "\n"
   ]
  },
  {
   "cell_type": "code",
   "execution_count": null,
   "id": "ce6c0a9e-b2a1-45c0-afcb-b90f0efdff55",
   "metadata": {},
   "outputs": [],
   "source": []
  },
  {
   "cell_type": "code",
   "execution_count": 8,
   "id": "0a398e8d-cccb-4454-97da-d7748790f8f0",
   "metadata": {},
   "outputs": [],
   "source": [
    "##index--index is to find occurance of word in number(position)"
   ]
  },
  {
   "cell_type": "code",
   "execution_count": 14,
   "id": "72995f66-dfab-4c73-b98a-592e4a523b0d",
   "metadata": {},
   "outputs": [
    {
     "data": {
      "text/plain": [
       "5"
      ]
     },
     "execution_count": 14,
     "metadata": {},
     "output_type": "execute_result"
    }
   ],
   "source": [
    "x.index('a')"
   ]
  },
  {
   "cell_type": "code",
   "execution_count": null,
   "id": "7ce04b47-c6a7-485d-8ad4-f9edbcf0f758",
   "metadata": {},
   "outputs": [],
   "source": []
  },
  {
   "cell_type": "code",
   "execution_count": 15,
   "id": "7f7ed352-a8b1-4cde-bf79-d79527fbc307",
   "metadata": {},
   "outputs": [
    {
     "data": {
      "text/plain": [
       "'sh'"
      ]
     },
     "execution_count": 15,
     "metadata": {},
     "output_type": "execute_result"
    }
   ],
   "source": [
    "x[:2]"
   ]
  },
  {
   "cell_type": "code",
   "execution_count": null,
   "id": "06d9c08d-b44b-46eb-8efc-96d1408762d5",
   "metadata": {},
   "outputs": [],
   "source": []
  },
  {
   "cell_type": "code",
   "execution_count": 16,
   "id": "1bfb0c2e-439f-4254-a14c-f20404fc1121",
   "metadata": {},
   "outputs": [
    {
     "data": {
      "text/plain": [
       "'SHUBHA'"
      ]
     },
     "execution_count": 16,
     "metadata": {},
     "output_type": "execute_result"
    }
   ],
   "source": [
    "x[0:6].upper()"
   ]
  },
  {
   "cell_type": "code",
   "execution_count": null,
   "id": "560dfcb6-2acf-4a35-8e0e-48748f8105a6",
   "metadata": {},
   "outputs": [],
   "source": []
  },
  {
   "cell_type": "code",
   "execution_count": 17,
   "id": "97e4a81f-5cc7-4104-9ccc-cb77fe2dc170",
   "metadata": {},
   "outputs": [],
   "source": [
    "x='data SCIENce'"
   ]
  },
  {
   "cell_type": "code",
   "execution_count": 18,
   "id": "d5ab1668-820a-4c7c-9345-3fbda0684904",
   "metadata": {},
   "outputs": [
    {
     "data": {
      "text/plain": [
       "'data SCIENce'"
      ]
     },
     "execution_count": 18,
     "metadata": {},
     "output_type": "execute_result"
    }
   ],
   "source": [
    "x"
   ]
  },
  {
   "cell_type": "code",
   "execution_count": 19,
   "id": "89a34477-cb4f-4047-87cb-1b306e98ae84",
   "metadata": {},
   "outputs": [
    {
     "data": {
      "text/plain": [
       "'scienCE'"
      ]
     },
     "execution_count": 19,
     "metadata": {},
     "output_type": "execute_result"
    }
   ],
   "source": [
    "x[-7:].swapcase()"
   ]
  },
  {
   "cell_type": "code",
   "execution_count": null,
   "id": "deb8c5f4-cf6c-4e9d-baa7-c9a584421795",
   "metadata": {},
   "outputs": [],
   "source": []
  },
  {
   "cell_type": "code",
   "execution_count": 20,
   "id": "d422ad2a-daf2-4267-a082-353cb7289ab2",
   "metadata": {},
   "outputs": [],
   "source": [
    "##Expandtabs---"
   ]
  },
  {
   "cell_type": "code",
   "execution_count": 21,
   "id": "1a690007-56a5-4c5a-93b5-c97795b158d6",
   "metadata": {},
   "outputs": [],
   "source": [
    "x=\"data \\tscience\""
   ]
  },
  {
   "cell_type": "code",
   "execution_count": 22,
   "id": "2ca8bcb2-11fd-4e6e-8cf5-786debfc5a2e",
   "metadata": {},
   "outputs": [
    {
     "data": {
      "text/plain": [
       "'data \\tscience'"
      ]
     },
     "execution_count": 22,
     "metadata": {},
     "output_type": "execute_result"
    }
   ],
   "source": [
    "x\n"
   ]
  },
  {
   "cell_type": "code",
   "execution_count": 23,
   "id": "4cace6ad-eeb1-4da6-a12a-1317e0dbfdc3",
   "metadata": {},
   "outputs": [
    {
     "data": {
      "text/plain": [
       "'data      science'"
      ]
     },
     "execution_count": 23,
     "metadata": {},
     "output_type": "execute_result"
    }
   ],
   "source": [
    "x.expandtabs(10)"
   ]
  },
  {
   "cell_type": "code",
   "execution_count": null,
   "id": "bf962333-525a-486e-a310-9c7a23cb1e9b",
   "metadata": {},
   "outputs": [],
   "source": []
  },
  {
   "cell_type": "code",
   "execution_count": 24,
   "id": "ba7b3f8b-902f-4c25-93a3-47d94729d40d",
   "metadata": {},
   "outputs": [
    {
     "data": {
      "text/plain": [
       "'data                                              science'"
      ]
     },
     "execution_count": 24,
     "metadata": {},
     "output_type": "execute_result"
    }
   ],
   "source": [
    "x.expandtabs(50)"
   ]
  },
  {
   "cell_type": "code",
   "execution_count": null,
   "id": "397574ca-00a1-4540-a366-e4ca76a4ad2d",
   "metadata": {},
   "outputs": [],
   "source": []
  },
  {
   "cell_type": "code",
   "execution_count": 25,
   "id": "d932ffe5-bbcf-4bad-af19-edd06e9f3229",
   "metadata": {},
   "outputs": [],
   "source": [
    "x='shubham sarade'"
   ]
  },
  {
   "cell_type": "code",
   "execution_count": 26,
   "id": "53d6899b-f83c-45fc-ad2a-434d05234284",
   "metadata": {},
   "outputs": [
    {
     "data": {
      "text/plain": [
       "'shubham sarade'"
      ]
     },
     "execution_count": 26,
     "metadata": {},
     "output_type": "execute_result"
    }
   ],
   "source": [
    "x"
   ]
  },
  {
   "cell_type": "code",
   "execution_count": 27,
   "id": "e71cca0b-37af-4f11-8fa7-5d3a8a637c1d",
   "metadata": {},
   "outputs": [
    {
     "data": {
      "text/plain": [
       "3"
      ]
     },
     "execution_count": 27,
     "metadata": {},
     "output_type": "execute_result"
    }
   ],
   "source": [
    "x.find('b')"
   ]
  },
  {
   "cell_type": "code",
   "execution_count": 29,
   "id": "7c009fc0-d110-47fc-a375-79e7fa04205e",
   "metadata": {},
   "outputs": [
    {
     "data": {
      "text/plain": [
       "5"
      ]
     },
     "execution_count": 29,
     "metadata": {},
     "output_type": "execute_result"
    }
   ],
   "source": [
    "x.find('a')"
   ]
  },
  {
   "cell_type": "code",
   "execution_count": null,
   "id": "528949a2-20fb-45e3-8ea3-fd3606730e59",
   "metadata": {},
   "outputs": [],
   "source": []
  },
  {
   "cell_type": "code",
   "execution_count": 30,
   "id": "bfd17771-cf66-4339-8cfc-2e93f16ad8b0",
   "metadata": {},
   "outputs": [
    {
     "data": {
      "text/plain": [
       "9"
      ]
     },
     "execution_count": 30,
     "metadata": {},
     "output_type": "execute_result"
    }
   ],
   "source": [
    "x.find('a',6)"
   ]
  },
  {
   "cell_type": "code",
   "execution_count": null,
   "id": "3af9b8bd-ca0b-46bd-8114-a21c8a428311",
   "metadata": {},
   "outputs": [],
   "source": []
  },
  {
   "cell_type": "code",
   "execution_count": 31,
   "id": "4c0a93d8-dd0e-4695-8666-7a6e2a2b0d92",
   "metadata": {},
   "outputs": [
    {
     "data": {
      "text/plain": [
       "-1"
      ]
     },
     "execution_count": 31,
     "metadata": {},
     "output_type": "execute_result"
    }
   ],
   "source": [
    "x.find('l')"
   ]
  },
  {
   "cell_type": "code",
   "execution_count": 32,
   "id": "a0302aba-44c3-4048-8373-fa28d243e67e",
   "metadata": {},
   "outputs": [],
   "source": [
    "##if there is no result to show its alway shows us -1"
   ]
  },
  {
   "cell_type": "code",
   "execution_count": null,
   "id": "290296a5-bef3-4997-809d-894c36390578",
   "metadata": {},
   "outputs": [],
   "source": [
    "###center-----"
   ]
  },
  {
   "cell_type": "code",
   "execution_count": 33,
   "id": "15c28b44-6b66-4848-be52-6aed06e9351e",
   "metadata": {},
   "outputs": [],
   "source": [
    "x=\"shubham\""
   ]
  },
  {
   "cell_type": "code",
   "execution_count": 34,
   "id": "33c98071-ced4-44b8-a4c5-d6b8532158b3",
   "metadata": {},
   "outputs": [
    {
     "data": {
      "text/plain": [
       "'shubham'"
      ]
     },
     "execution_count": 34,
     "metadata": {},
     "output_type": "execute_result"
    }
   ],
   "source": [
    "x"
   ]
  },
  {
   "cell_type": "code",
   "execution_count": 35,
   "id": "1228bb1e-ee4d-4f9b-b1e0-910098e5726e",
   "metadata": {},
   "outputs": [
    {
     "data": {
      "text/plain": [
       "'#shubham##'"
      ]
     },
     "execution_count": 35,
     "metadata": {},
     "output_type": "execute_result"
    }
   ],
   "source": [
    "x.center(10,'#')"
   ]
  },
  {
   "cell_type": "code",
   "execution_count": 36,
   "id": "015636d4-1136-4be8-be0a-d898d7845ef2",
   "metadata": {},
   "outputs": [
    {
     "data": {
      "text/plain": [
       "'$$$$shubham$$$$'"
      ]
     },
     "execution_count": 36,
     "metadata": {},
     "output_type": "execute_result"
    }
   ],
   "source": [
    "x.center(15,\"$\")"
   ]
  },
  {
   "cell_type": "code",
   "execution_count": null,
   "id": "6898e451-036a-4d5b-9571-df24239c7543",
   "metadata": {},
   "outputs": [],
   "source": []
  },
  {
   "cell_type": "code",
   "execution_count": 37,
   "id": "757bbaed-57be-47d3-9b53-a9241aae9937",
   "metadata": {},
   "outputs": [],
   "source": [
    "###Zero feel----"
   ]
  },
  {
   "cell_type": "code",
   "execution_count": 38,
   "id": "eb38d6f2-1576-4e97-a1d9-328d7c75ed55",
   "metadata": {},
   "outputs": [
    {
     "data": {
      "text/plain": [
       "'00000000shubham'"
      ]
     },
     "execution_count": 38,
     "metadata": {},
     "output_type": "execute_result"
    }
   ],
   "source": [
    "x.zfill(15)"
   ]
  },
  {
   "cell_type": "code",
   "execution_count": null,
   "id": "9760a1c8-6a46-4dfa-a008-f00c69081200",
   "metadata": {},
   "outputs": [],
   "source": []
  },
  {
   "cell_type": "code",
   "execution_count": 39,
   "id": "66cc4d1e-3b0a-4cdb-9000-6b0798703a36",
   "metadata": {},
   "outputs": [],
   "source": [
    "###Strip---- for management space,word etc"
   ]
  },
  {
   "cell_type": "code",
   "execution_count": 40,
   "id": "5276cd02-166b-427c-9d42-5ff2f499d9f8",
   "metadata": {},
   "outputs": [],
   "source": [
    "x=\" shubham\""
   ]
  },
  {
   "cell_type": "code",
   "execution_count": 41,
   "id": "a7f2f3d9-e44a-48d9-bf34-893b46e88438",
   "metadata": {},
   "outputs": [
    {
     "data": {
      "text/plain": [
       "'shubham'"
      ]
     },
     "execution_count": 41,
     "metadata": {},
     "output_type": "execute_result"
    }
   ],
   "source": [
    "x.lstrip()"
   ]
  },
  {
   "cell_type": "code",
   "execution_count": 43,
   "id": "805f3b31-65e9-46fa-b6ca-3a94d30edfae",
   "metadata": {},
   "outputs": [
    {
     "data": {
      "text/plain": [
       "' shubham'"
      ]
     },
     "execution_count": 43,
     "metadata": {},
     "output_type": "execute_result"
    }
   ],
   "source": [
    "x.lstrip('2')"
   ]
  },
  {
   "cell_type": "code",
   "execution_count": null,
   "id": "2e579caf-b780-4a6b-8a4a-319c40e07337",
   "metadata": {},
   "outputs": [],
   "source": []
  },
  {
   "cell_type": "code",
   "execution_count": 44,
   "id": "f74cba5b-1184-461b-b69e-7be2732e6a83",
   "metadata": {},
   "outputs": [
    {
     "data": {
      "text/plain": [
       "' shubham'"
      ]
     },
     "execution_count": 44,
     "metadata": {},
     "output_type": "execute_result"
    }
   ],
   "source": [
    "x.rstrip()"
   ]
  },
  {
   "cell_type": "code",
   "execution_count": 48,
   "id": "351b30c8-d5d5-46dc-ad6a-f41a8c6b8aa3",
   "metadata": {},
   "outputs": [
    {
     "data": {
      "text/plain": [
       "' shubham'"
      ]
     },
     "execution_count": 48,
     "metadata": {},
     "output_type": "execute_result"
    }
   ],
   "source": [
    "x.rstrip()"
   ]
  },
  {
   "cell_type": "code",
   "execution_count": null,
   "id": "aeda080b-92da-45c4-b8f5-f1812ea1a098",
   "metadata": {},
   "outputs": [],
   "source": []
  },
  {
   "cell_type": "code",
   "execution_count": 49,
   "id": "a88270a6-f9c2-4a88-97f8-74f4ee2312c8",
   "metadata": {},
   "outputs": [
    {
     "data": {
      "text/plain": [
       "'shubham'"
      ]
     },
     "execution_count": 49,
     "metadata": {},
     "output_type": "execute_result"
    }
   ],
   "source": [
    "x.strip()"
   ]
  },
  {
   "cell_type": "code",
   "execution_count": null,
   "id": "d60bb696-1ce2-4833-a87d-55d691c6ad02",
   "metadata": {},
   "outputs": [],
   "source": [
    "###adjust---justify"
   ]
  },
  {
   "cell_type": "code",
   "execution_count": 54,
   "id": "f137f0ce-0686-4329-b45c-641c9b582c23",
   "metadata": {},
   "outputs": [],
   "source": [
    "x=\"shubham\""
   ]
  },
  {
   "cell_type": "code",
   "execution_count": 55,
   "id": "938256c3-1c00-43df-9d71-27cc752ca6e0",
   "metadata": {},
   "outputs": [
    {
     "data": {
      "text/plain": [
       "'shubham'"
      ]
     },
     "execution_count": 55,
     "metadata": {},
     "output_type": "execute_result"
    }
   ],
   "source": [
    "x"
   ]
  },
  {
   "cell_type": "code",
   "execution_count": 60,
   "id": "271e3c38-8d0e-4d7b-92ce-ce5f0a096d3e",
   "metadata": {},
   "outputs": [
    {
     "data": {
      "text/plain": [
       "'shubham                  '"
      ]
     },
     "execution_count": 60,
     "metadata": {},
     "output_type": "execute_result"
    }
   ],
   "source": [
    "x.ljust(25)"
   ]
  },
  {
   "cell_type": "raw",
   "id": "b2f2bb3c-edfd-41e3-9a99-a36bf9b10482",
   "metadata": {},
   "source": []
  },
  {
   "cell_type": "code",
   "execution_count": 62,
   "id": "23e04f4f-b337-4e89-9bd1-47e87111fac2",
   "metadata": {},
   "outputs": [
    {
     "data": {
      "text/plain": [
       "'        shubham'"
      ]
     },
     "execution_count": 62,
     "metadata": {},
     "output_type": "execute_result"
    }
   ],
   "source": [
    "x.rjust(15)"
   ]
  },
  {
   "cell_type": "code",
   "execution_count": null,
   "id": "1f262c48-1466-47bf-9eba-a61f12a5dca5",
   "metadata": {},
   "outputs": [],
   "source": []
  },
  {
   "cell_type": "code",
   "execution_count": 64,
   "id": "2cf915a7-f7d8-44c7-865c-bb999ab588a8",
   "metadata": {},
   "outputs": [
    {
     "data": {
      "text/plain": [
       "'shubham$$$'"
      ]
     },
     "execution_count": 64,
     "metadata": {},
     "output_type": "execute_result"
    }
   ],
   "source": [
    "x.ljust(10,\"$\")"
   ]
  },
  {
   "cell_type": "code",
   "execution_count": null,
   "id": "34e6b179-a084-4f3e-9a13-78db7477cd33",
   "metadata": {},
   "outputs": [],
   "source": []
  },
  {
   "cell_type": "code",
   "execution_count": 65,
   "id": "84fa4a2e-1d2d-4059-8326-a90e9219d0f7",
   "metadata": {},
   "outputs": [
    {
     "data": {
      "text/plain": [
       "'******************shubham'"
      ]
     },
     "execution_count": 65,
     "metadata": {},
     "output_type": "execute_result"
    }
   ],
   "source": [
    "x.rjust(25,\"*\")"
   ]
  },
  {
   "cell_type": "code",
   "execution_count": null,
   "id": "e618fd46-d273-4d40-81a1-374028966f2c",
   "metadata": {},
   "outputs": [],
   "source": []
  }
 ],
 "metadata": {
  "kernelspec": {
   "display_name": "Python 3 (ipykernel)",
   "language": "python",
   "name": "python3"
  },
  "language_info": {
   "codemirror_mode": {
    "name": "ipython",
    "version": 3
   },
   "file_extension": ".py",
   "mimetype": "text/x-python",
   "name": "python",
   "nbconvert_exporter": "python",
   "pygments_lexer": "ipython3",
   "version": "3.13.5"
  }
 },
 "nbformat": 4,
 "nbformat_minor": 5
}
