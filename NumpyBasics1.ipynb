{
 "cells": [
  {
   "cell_type": "code",
   "execution_count": 1,
   "id": "76c68a88-2558-494b-878a-4b73df2eba81",
   "metadata": {},
   "outputs": [],
   "source": [
    "###numpy arrays are comparitively fast than list\n",
    "### list is comparatively slow"
   ]
  },
  {
   "cell_type": "code",
   "execution_count": 2,
   "id": "3bcf5499-f5e2-4fcb-8f4f-eb0987a084e3",
   "metadata": {},
   "outputs": [],
   "source": [
    "##in VS Code shortcut For Terminal open cntr+ ~"
   ]
  },
  {
   "cell_type": "code",
   "execution_count": 4,
   "id": "7ae47819-b334-4de0-baf2-e144a6cadd14",
   "metadata": {},
   "outputs": [],
   "source": [
    "import numpy as np"
   ]
  },
  {
   "cell_type": "code",
   "execution_count": 7,
   "id": "bb4a3d77-6c2c-44a1-b6b0-e2667b98419c",
   "metadata": {},
   "outputs": [
    {
     "name": "stdout",
     "output_type": "stream",
     "text": [
      "2.3.2\n"
     ]
    }
   ],
   "source": [
    "print(np.__version__) ##cheching which version we currently having\n"
   ]
  },
  {
   "cell_type": "code",
   "execution_count": 8,
   "id": "38b28acf-8eeb-4c55-8c4e-d86c5ac59963",
   "metadata": {},
   "outputs": [
    {
     "name": "stdout",
     "output_type": "stream",
     "text": [
      "[1 2 3]\n"
     ]
    }
   ],
   "source": [
    "array=np.array([1,2,3])\n",
    "print(array)"
   ]
  },
  {
   "cell_type": "code",
   "execution_count": null,
   "id": "07752970-0f4b-441a-8b44-d07215167022",
   "metadata": {},
   "outputs": [],
   "source": []
  },
  {
   "cell_type": "code",
   "execution_count": 10,
   "id": "11f980f6-1055-4a9a-9033-e1457e1bb70c",
   "metadata": {},
   "outputs": [
    {
     "name": "stdout",
     "output_type": "stream",
     "text": [
      "<class 'numpy.ndarray'>\n"
     ]
    }
   ],
   "source": [
    "print(type(array))"
   ]
  },
  {
   "cell_type": "code",
   "execution_count": null,
   "id": "6a750ab6-f76c-43a6-95cf-fa5102359051",
   "metadata": {},
   "outputs": [],
   "source": []
  },
  {
   "cell_type": "code",
   "execution_count": 11,
   "id": "bb63ccd3-c3be-4d9e-b5c6-6f54e6ec89c8",
   "metadata": {},
   "outputs": [],
   "source": [
    "###Multidimensional Arrays===\n"
   ]
  },
  {
   "cell_type": "code",
   "execution_count": 12,
   "id": "93aeb4be-5c12-4698-ba0e-9f7c5d474f3d",
   "metadata": {},
   "outputs": [],
   "source": [
    "array=np.array(\"a\")"
   ]
  },
  {
   "cell_type": "code",
   "execution_count": 13,
   "id": "d7a1bfbd-105d-45fb-8744-7182a4342926",
   "metadata": {},
   "outputs": [
    {
     "name": "stdout",
     "output_type": "stream",
     "text": [
      "0\n"
     ]
    }
   ],
   "source": [
    "print(array.ndim) ##its for checking dimension of array\n"
   ]
  },
  {
   "cell_type": "code",
   "execution_count": null,
   "id": "ab37fadc-6beb-42bd-816d-916ae38e4612",
   "metadata": {},
   "outputs": [],
   "source": []
  },
  {
   "cell_type": "code",
   "execution_count": 15,
   "id": "88e30250-e98e-4db0-86ab-20e1994f7e86",
   "metadata": {},
   "outputs": [],
   "source": [
    "array=np.array([\"a\"])"
   ]
  },
  {
   "cell_type": "code",
   "execution_count": 17,
   "id": "f097e0ca-d22e-4c35-9f7d-154845834d38",
   "metadata": {},
   "outputs": [
    {
     "name": "stdout",
     "output_type": "stream",
     "text": [
      "1\n"
     ]
    }
   ],
   "source": [
    "print(array.ndim)"
   ]
  },
  {
   "cell_type": "code",
   "execution_count": null,
   "id": "bc249948-4b46-4fc4-b1fe-588bc8001d59",
   "metadata": {},
   "outputs": [],
   "source": []
  },
  {
   "cell_type": "code",
   "execution_count": 18,
   "id": "acc1199a-a6b6-4a5b-9667-a6f43167c8c5",
   "metadata": {},
   "outputs": [
    {
     "name": "stdout",
     "output_type": "stream",
     "text": [
      "2\n"
     ]
    }
   ],
   "source": [
    "array=np.array([[1,2,3],[4,5,6],[7,8,9]])\n",
    "print(array.ndim)"
   ]
  },
  {
   "cell_type": "code",
   "execution_count": null,
   "id": "373c0968-1b3d-498e-b09b-42f7be17f514",
   "metadata": {},
   "outputs": [],
   "source": []
  },
  {
   "cell_type": "code",
   "execution_count": 7,
   "id": "4deaf338-936e-45ec-a3a7-c039bc4b537f",
   "metadata": {},
   "outputs": [
    {
     "name": "stdout",
     "output_type": "stream",
     "text": [
      "3\n"
     ]
    }
   ],
   "source": [
    "array=np.array([[[1,2,3],[4,5,6],[7,8,9]],\n",
    "                [[10,11,12],[13,14,15],[16,17,18]],\n",
    "                [[19,20,21],[22,23,24],[25,26,27]]])\n",
    "print(array.ndim)"
   ]
  },
  {
   "cell_type": "code",
   "execution_count": null,
   "id": "820c3c41-a9cd-4ebc-b4bd-3f90a4a7dc9c",
   "metadata": {},
   "outputs": [],
   "source": []
  },
  {
   "cell_type": "code",
   "execution_count": 21,
   "id": "bb6428fc-db4d-43e2-bb81-7ddca37a394c",
   "metadata": {},
   "outputs": [
    {
     "name": "stdout",
     "output_type": "stream",
     "text": [
      "(3, 3, 3)\n"
     ]
    }
   ],
   "source": [
    "print(array.shape) ##it give the depth,no of rows and no of collumn"
   ]
  },
  {
   "cell_type": "code",
   "execution_count": null,
   "id": "f7872074-a2a3-43c8-9973-bb351ec6f7b6",
   "metadata": {},
   "outputs": [],
   "source": []
  },
  {
   "cell_type": "code",
   "execution_count": 22,
   "id": "6a04721a-5860-4b6d-aa19-9f22fe1f9acf",
   "metadata": {},
   "outputs": [],
   "source": [
    "###print(array[===t])=This is used for accesing data in arrya"
   ]
  },
  {
   "cell_type": "code",
   "execution_count": 23,
   "id": "b9412f9c-8ecd-40de-90b7-6b064e63ff33",
   "metadata": {},
   "outputs": [
    {
     "name": "stdout",
     "output_type": "stream",
     "text": [
      "1\n"
     ]
    }
   ],
   "source": [
    "print (array[0][0][0])"
   ]
  },
  {
   "cell_type": "code",
   "execution_count": 24,
   "id": "f7795bdf-b42e-40b0-9f37-3a40f36b7a41",
   "metadata": {},
   "outputs": [
    {
     "name": "stdout",
     "output_type": "stream",
     "text": [
      "4\n"
     ]
    }
   ],
   "source": [
    "print(array[0][1][0])"
   ]
  },
  {
   "cell_type": "code",
   "execution_count": 27,
   "id": "e2e48587-67d8-4cb9-9e21-dbd29bb9d2ca",
   "metadata": {},
   "outputs": [
    {
     "name": "stdout",
     "output_type": "stream",
     "text": [
      "14\n"
     ]
    }
   ],
   "source": [
    "print (array[1][1][1])"
   ]
  },
  {
   "cell_type": "code",
   "execution_count": 9,
   "id": "3188c415-fc3a-4373-920f-b1e902410388",
   "metadata": {},
   "outputs": [
    {
     "name": "stdout",
     "output_type": "stream",
     "text": [
      "20\n"
     ]
    }
   ],
   "source": [
    "number=array[0,0,0]+array[2,0,0]\n",
    "print(number)"
   ]
  },
  {
   "cell_type": "raw",
   "id": "e606e5de-0a90-4a4d-aa64-c3d577c6f078",
   "metadata": {},
   "source": [
    "print(number)"
   ]
  },
  {
   "cell_type": "code",
   "execution_count": 32,
   "id": "5022db98-c936-4571-91ef-13dfa884cd1a",
   "metadata": {},
   "outputs": [],
   "source": [
    "###self assignment... make a to z array and then by using sclicing make your full name"
   ]
  },
  {
   "cell_type": "code",
   "execution_count": 17,
   "id": "39757259-6692-404b-bf37-871e0d1741f4",
   "metadata": {},
   "outputs": [
    {
     "name": "stdout",
     "output_type": "stream",
     "text": [
      "[[['a' 'b' 'c']\n",
      "  ['d' 'e' 'f']\n",
      "  ['g' 'h' 'i']]\n",
      "\n",
      " [['j' 'k' 'l']\n",
      "  ['m' 'n' 'o']\n",
      "  ['p' 'q' 'r']]\n",
      "\n",
      " [['s' 't' 'u']\n",
      "  ['v' 'w' 'x']\n",
      "  ['y' 'z' ' ']]]\n"
     ]
    }
   ],
   "source": [
    "array=np.array([[['a','b','c'],['d','e','f'],['g','h','i']],\n",
    "          [['j','k','l'],['m','n','o'],['p','q','r']],\n",
    "          [['s','t','u'],['v','w','x'],['y','z',' ']]])\n",
    "print(array)\n"
   ]
  },
  {
   "cell_type": "code",
   "execution_count": 36,
   "id": "3f632a11-0697-4732-81fe-530f344c64c5",
   "metadata": {},
   "outputs": [],
   "source": [
    "My_name=array[2,0,0]+array[0,2,1]+array[2,0,2]+array[0,0,1]+array[0,2,1]+array[0,0,0]+array[1,1,0]+array[2,2,2]+array[2,0,0]+array[0,0,0]+array[1,2,2]+array[0,0,0]+array[0,1,0]+array[0,1,1]\n",
    "       \n",
    "         \n"
   ]
  },
  {
   "cell_type": "code",
   "execution_count": 38,
   "id": "d72a6ffd-5109-4531-9b6b-c2881caad8e9",
   "metadata": {},
   "outputs": [
    {
     "name": "stdout",
     "output_type": "stream",
     "text": [
      "shubham sarade\n"
     ]
    }
   ],
   "source": [
    "print(My_name)"
   ]
  },
  {
   "cell_type": "code",
   "execution_count": null,
   "id": "85c2546f-9b8a-4309-a2ad-896a0e150e63",
   "metadata": {},
   "outputs": [],
   "source": []
  },
  {
   "cell_type": "code",
   "execution_count": null,
   "id": "eba52c60-b833-48bb-8794-d04c5b4340b5",
   "metadata": {},
   "outputs": [],
   "source": []
  },
  {
   "cell_type": "code",
   "execution_count": null,
   "id": "8b20b344-111b-418d-8371-83daf5e2f9a6",
   "metadata": {},
   "outputs": [],
   "source": []
  }
 ],
 "metadata": {
  "kernelspec": {
   "display_name": "Python 3 (ipykernel)",
   "language": "python",
   "name": "python3"
  },
  "language_info": {
   "codemirror_mode": {
    "name": "ipython",
    "version": 3
   },
   "file_extension": ".py",
   "mimetype": "text/x-python",
   "name": "python",
   "nbconvert_exporter": "python",
   "pygments_lexer": "ipython3",
   "version": "3.13.7"
  }
 },
 "nbformat": 4,
 "nbformat_minor": 5
}
