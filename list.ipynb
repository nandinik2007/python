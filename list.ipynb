{
  "nbformat": 4,
  "nbformat_minor": 0,
  "metadata": {
    "colab": {
      "provenance": [],
      "toc_visible": true
    },
    "kernelspec": {
      "name": "python3",
      "display_name": "Python 3"
    },
    "language_info": {
      "name": "python"
    }
  },
  "cells": [
    {
      "cell_type": "code",
      "execution_count": null,
      "metadata": {
        "id": "a5-eyYB-057Q"
      },
      "outputs": [],
      "source": [
        "print(\"\\nQuestion 50: Check if string is a valid credit card number: '4532015112830366'\")\n",
        "\n",
        "def luhn_check(card_number):\n",
        "    def digits_of(n):\n",
        "        return [int(d) for d in str(n)]\n",
        "    digits = digits_of(card_number)\n",
        "    checksum = 0\n",
        "    # Double every second digit from the right\n",
        "    odd_digits = digits[-1::-2]\n",
        "    even_digits = digits[-2::-2]\n",
        "    checksum += sum(odd_digits)\n",
        "    for d in even_digits:\n",
        "        checksum += sum(digits_of(d*2))\n",
        "    return checksum % 10 == 0\n",
        "\n",
        "card_number = \"4532015112830366\"\n",
        "print(\"Valid credit card number\" if luhn_check(card_number) else \"Invalid credit card number\")\n"
      ]
    },
    {
      "cell_type": "markdown",
      "source": [
        "# New Section"
      ],
      "metadata": {
        "id": "ouNd622k1DTD"
      }
    },
    {
      "cell_type": "code",
      "source": [
        "# Question 1: Create a list of first 10 square numbers\n",
        "print(\"Question 1: Create a list of first 10 square numbers\")\n",
        "# Your code here\n",
        "print(\"Question 1: Create a list of first 10 square numbers\")\n",
        "squares = [i**2 for i in range(1, 11)]\n",
        "print(squares)\n"
      ],
      "metadata": {
        "id": "3dZLoWxy1Ey_",
        "colab": {
          "base_uri": "https://localhost:8080/"
        },
        "outputId": "51287a5d-e9a1-4d85-df84-88573c568fdd"
      },
      "execution_count": null,
      "outputs": [
        {
          "output_type": "stream",
          "name": "stdout",
          "text": [
            "Question 1: Create a list of first 10 square numbers\n",
            "Question 1: Create a list of first 10 square numbers\n",
            "[1, 4, 9, 16, 25, 36, 49, 64, 81, 100]\n"
          ]
        }
      ]
    },
    {
      "cell_type": "code",
      "source": [
        "print(\"Question 1: Create a list of first 10 square numbers\")\n",
        "squares = [i**2 for i in range(1, 11)]\n",
        "print(squares)\n",
        "Question 1: Create a list of first 10 square numbers\n",
        "[1, 4, 9, 16, 25, 36, 49, 64, 81, 100]\n"
      ],
      "metadata": {
        "id": "cRtyvSKq1E2f",
        "colab": {
          "base_uri": "https://localhost:8080/",
          "height": 106
        },
        "outputId": "8502d07a-fb6e-4fc3-a9a3-b615c702ee11"
      },
      "execution_count": null,
      "outputs": [
        {
          "output_type": "error",
          "ename": "SyntaxError",
          "evalue": "invalid syntax (ipython-input-3163735871.py, line 4)",
          "traceback": [
            "\u001b[0;36m  File \u001b[0;32m\"/tmp/ipython-input-3163735871.py\"\u001b[0;36m, line \u001b[0;32m4\u001b[0m\n\u001b[0;31m    Question 1: Create a list of first 10 square numbers\u001b[0m\n\u001b[0m             ^\u001b[0m\n\u001b[0;31mSyntaxError\u001b[0m\u001b[0;31m:\u001b[0m invalid syntax\n"
          ]
        }
      ]
    },
    {
      "cell_type": "code",
      "source": [
        "# Question 3: Remove duplicates from [1, 2, 2, 3, 4, 4, 5, 6, 6, 7]\n",
        "print(\"\\nQuestion 3: Remove duplicates from [1, 2, 2, 3, 4, 4, 5, 6, 6, 7]\")\n",
        "print(\"\\nQuestion 3: Remove duplicates from [1, 2, 2, 3, 4, 4, 5, 6, 6, 7]\")\n",
        "original_list = [1, 2, 2, 3, 4, 4, 5, 6, 6, 7]\n",
        "# Using a set to remove duplicates, then converting back to list\n",
        "unique_list = list(set(original_list))\n",
        "print(unique_list)\n"
      ],
      "metadata": {
        "colab": {
          "base_uri": "https://localhost:8080/"
        },
        "id": "nw3WfYneT5ua",
        "outputId": "b3011e07-fc78-486d-8d89-d26380fdcfa3"
      },
      "execution_count": null,
      "outputs": [
        {
          "output_type": "stream",
          "name": "stdout",
          "text": [
            "\n",
            "Question 3: Remove duplicates from [1, 2, 2, 3, 4, 4, 5, 6, 6, 7]\n",
            "\n",
            "Question 3: Remove duplicates from [1, 2, 2, 3, 4, 4, 5, 6, 6, 7]\n",
            "[1, 2, 3, 4, 5, 6, 7]\n"
          ]
        }
      ]
    },
    {
      "cell_type": "code",
      "source": [
        "# Question 4: Sort the list [64, 34, 25, 12, 22, 11, 90] in descending order\n",
        "print(\"\\nQuestion 4: Sort the list [64, 34, 25, 12, 22, 11, 90] in descending order\")\n",
        "# Your code here\n",
        "print(\"\\nQuestion 4: Sort the list [64, 34, 25, 12, 22, 11, 90] in descending order\")\n",
        "lst = [64, 34, 25, 12, 22, 11, 90]\n",
        "lst.sort(reverse=True)\n",
        "print(lst)\n"
      ],
      "metadata": {
        "colab": {
          "base_uri": "https://localhost:8080/"
        },
        "id": "_wvGiL96T5zQ",
        "outputId": "4e86ebd7-5a65-48ff-8175-a9df6138d6a8"
      },
      "execution_count": null,
      "outputs": [
        {
          "output_type": "stream",
          "name": "stdout",
          "text": [
            "\n",
            "Question 4: Sort the list [64, 34, 25, 12, 22, 11, 90] in descending order\n",
            "\n",
            "Question 4: Sort the list [64, 34, 25, 12, 22, 11, 90] in descending order\n",
            "[90, 64, 34, 25, 22, 12, 11]\n"
          ]
        }
      ]
    },
    {
      "cell_type": "code",
      "source": [
        "# Question 5: Find the average of numbers in [15, 23, 31, 42, 56, 78, 91]\n",
        "print(\"\\nQuestion 5: Find the average of numbers in [15, 23, 31, 42, 56, 78, 91]\")\n",
        "# Your code here\n",
        "print(\"\\nQuestion 5: Find the average of numbers in [15, 23, 31, 42, 56, 78, 91]\")\n",
        "numbers = [15, 23, 31, 42, 56, 78, 91]\n",
        "average = sum(numbers) / len(numbers)\n",
        "print(average)\n"
      ],
      "metadata": {
        "colab": {
          "base_uri": "https://localhost:8080/"
        },
        "id": "fe_jQ2GVT6Cs",
        "outputId": "12ac1c68-5c46-4663-e045-2fede6dce1a8"
      },
      "execution_count": null,
      "outputs": [
        {
          "output_type": "stream",
          "name": "stdout",
          "text": [
            "\n",
            "Question 5: Find the average of numbers in [15, 23, 31, 42, 56, 78, 91]\n",
            "\n",
            "Question 5: Find the average of numbers in [15, 23, 31, 42, 56, 78, 91]\n",
            "48.0\n"
          ]
        }
      ]
    },
    {
      "cell_type": "code",
      "source": [
        "\n",
        "\n",
        "\n"
      ],
      "metadata": {
        "id": "jnWE_ZCDT6IS"
      },
      "execution_count": null,
      "outputs": []
    },
    {
      "cell_type": "code",
      "source": [
        "# Question 6: Create a list of first 15 Fibonacci numbers\n",
        "print(\"\\nQuestion 6: Create a list of first 15 Fibonacci numbers\")\n",
        "# Your code here\n",
        "print(\"\\nQuestion 6: Create a list of first 15 Fibonacci numbers\")\n",
        "fib = [0, 1]\n",
        "for _ in range(2, 15):\n",
        "    fib.append(fib[-1] + fib[-2])\n",
        "print(fib)\n"
      ],
      "metadata": {
        "colab": {
          "base_uri": "https://localhost:8080/"
        },
        "id": "eZE5CwZpT6Nb",
        "outputId": "a8e70546-97c9-44ed-c25f-a4ec35786dca"
      },
      "execution_count": null,
      "outputs": [
        {
          "output_type": "stream",
          "name": "stdout",
          "text": [
            "\n",
            "Question 6: Create a list of first 15 Fibonacci numbers\n",
            "\n",
            "Question 6: Create a list of first 15 Fibonacci numbers\n",
            "[0, 1, 1, 2, 3, 5, 8, 13, 21, 34, 55, 89, 144, 233, 377]\n"
          ]
        }
      ]
    },
    {
      "cell_type": "code",
      "source": [
        "# Question 7: Find the second largest number in [45, 67, 23, 89, 12, 34, 78]\n",
        "print(\"\\nQuestion 7: Find the second largest number in [45, 67, 23, 89, 12, 34, 78]\")\n",
        "# Your code here\n",
        "print(\"\\nQuestion 7: Find the second largest number in [45, 67, 23, 89, 12, 34, 78]\")\n",
        "numbers = [45, 67, 23, 89, 12, 34, 78]\n",
        "unique_numbers = list(set(numbers))\n",
        "unique_numbers.sort()\n",
        "second_largest = unique_numbers[-2]\n",
        "print(second_largest)\n"
      ],
      "metadata": {
        "colab": {
          "base_uri": "https://localhost:8080/"
        },
        "id": "PI6o4029T6SL",
        "outputId": "aca274c3-585a-430d-ece5-1bfd77bbcd34"
      },
      "execution_count": null,
      "outputs": [
        {
          "output_type": "stream",
          "name": "stdout",
          "text": [
            "\n",
            "Question 7: Find the second largest number in [45, 67, 23, 89, 12, 34, 78]\n",
            "\n",
            "Question 7: Find the second largest number in [45, 67, 23, 89, 12, 34, 78]\n",
            "78\n"
          ]
        }
      ]
    },
    {
      "cell_type": "code",
      "source": [
        "# Question 8: Reverse the list [1, 2, 3, 4, 5, 6, 7, 8, 9, 10]\n",
        "print(\"\\nQuestion 8: Reverse the list [1, 2, 3, 4, 5, 6, 7, 8, 9, 10]\")\n",
        "# Your code here\n",
        "print(\"\\nQuestion 8: Reverse the list [1, 2, 3, 4, 5, 6, 7, 8, 9, 10]\")\n",
        "lst = [1, 2, 3, 4, 5, 6, 7, 8, 9, 10]\n",
        "reversed_lst = lst[::-1]\n",
        "print(reversed_lst)\n"
      ],
      "metadata": {
        "colab": {
          "base_uri": "https://localhost:8080/"
        },
        "id": "VCMj4hv-T6XX",
        "outputId": "f1f1cc65-6714-429b-e1f4-da9a763725c7"
      },
      "execution_count": null,
      "outputs": [
        {
          "output_type": "stream",
          "name": "stdout",
          "text": [
            "\n",
            "Question 8: Reverse the list [1, 2, 3, 4, 5, 6, 7, 8, 9, 10]\n",
            "\n",
            "Question 8: Reverse the list [1, 2, 3, 4, 5, 6, 7, 8, 9, 10]\n",
            "[10, 9, 8, 7, 6, 5, 4, 3, 2, 1]\n"
          ]
        }
      ]
    },
    {
      "cell_type": "code",
      "source": [
        "# Question 9: Count how many times 5 appears in [1, 5, 2, 5, 3, 5, 4, 5, 6]\n",
        "print(\"\\nQuestion 9: Count how many times 5 appears in [1, 5, 2, 5, 3, 5, 4, 5, 6]\")\n",
        "print(\"\\nQuestion 9: Count how many times 5 appears in [1, 5, 2, 5, 3, 5, 4, 5, 6]\")\n",
        "lst = [1, 5, 2, 5, 3, 5, 4, 5, 6]\n",
        "count_5 = lst.count(5)\n",
        "print(count_5)\n"
      ],
      "metadata": {
        "colab": {
          "base_uri": "https://localhost:8080/"
        },
        "id": "pEppbVTIT6ch",
        "outputId": "05e8fcd0-8c79-45f8-9e5c-07dca5fc16b8"
      },
      "execution_count": null,
      "outputs": [
        {
          "output_type": "stream",
          "name": "stdout",
          "text": [
            "\n",
            "Question 9: Count how many times 5 appears in [1, 5, 2, 5, 3, 5, 4, 5, 6]\n",
            "\n",
            "Question 9: Count how many times 5 appears in [1, 5, 2, 5, 3, 5, 4, 5, 6]\n",
            "4\n"
          ]
        }
      ]
    },
    {
      "cell_type": "code",
      "source": [
        "# Question 10: Create a list of prime numbers between 1 and 50\n",
        "print(\"\\nQuestion 10: Create a list of prime numbers between 1 and 50\")\n",
        "# Your code here\n",
        "print(\"\\nQuestion 10: Create a list of prime numbers between 1 and 50\")\n",
        "\n",
        "def is_prime(n):\n",
        "    if n <= 1:\n",
        "        return False\n",
        "    if n == 2:\n",
        "        return True\n",
        "    if n % 2 == 0:\n",
        "        return False\n",
        "    for i in range(3, int(n**0.5) + 1, 2):\n",
        "        if n % i == 0:\n",
        "            return False\n",
        "    return True\n",
        "\n",
        "primes = [num for num in range(1, 51) if is_prime(num)]\n",
        "print(primes)\n"
      ],
      "metadata": {
        "colab": {
          "base_uri": "https://localhost:8080/"
        },
        "id": "3-rplAE5T6h6",
        "outputId": "2e3683ea-b9ee-4684-9aef-4138c96dccb1"
      },
      "execution_count": null,
      "outputs": [
        {
          "output_type": "stream",
          "name": "stdout",
          "text": [
            "\n",
            "Question 10: Create a list of prime numbers between 1 and 50\n",
            "\n",
            "Question 10: Create a list of prime numbers between 1 and 50\n",
            "[2, 3, 5, 7, 11, 13, 17, 19, 23, 29, 31, 37, 41, 43, 47]\n"
          ]
        }
      ]
    },
    {
      "cell_type": "code",
      "source": [
        "# Question 11: Flatten nested list [[1, 2, 3], [4, 5, 6], [7, 8, 9]]\n",
        "print(\"\\nQuestion 11: Flatten nested list [[1, 2, 3], [4, 5, 6], [7, 8, 9]]\")\n",
        "print(\"\\nQuestion 11: Flatten nested list [[1, 2, 3], [4, 5, 6], [7, 8, 9]]\")\n",
        "\n",
        "nested_list = [[1, 2, 3], [4, 5, 6], [7, 8, 9]]\n",
        "flattened_list = [item for sublist in nested_list for item in sublist]\n",
        "\n",
        "print(\"Flattened list:\", flattened_list)\n",
        "\n"
      ],
      "metadata": {
        "id": "dP_raC6tT6mt",
        "colab": {
          "base_uri": "https://localhost:8080/"
        },
        "outputId": "6354a43f-283f-40b3-908f-646199761077"
      },
      "execution_count": 11,
      "outputs": [
        {
          "output_type": "stream",
          "name": "stdout",
          "text": [
            "\n",
            "Question 11: Flatten nested list [[1, 2, 3], [4, 5, 6], [7, 8, 9]]\n",
            "\n",
            "Question 11: Flatten nested list [[1, 2, 3], [4, 5, 6], [7, 8, 9]]\n",
            "Flattened list: [1, 2, 3, 4, 5, 6, 7, 8, 9]\n"
          ]
        }
      ]
    },
    {
      "cell_type": "code",
      "source": [
        "# Question 12: Find common elements between [1, 2, 3, 4, 5] and [4, 5, 6, 7, 8]\n",
        "print(\"\\nQuestion 12: Find common elements between [1, 2, 3, 4, 5] and [4, 5, 6, 7, 8]\")\n",
        "# Your code here\n",
        "print(\"\\nQuestion 12: Find common elements between [1, 2, 3, 4, 5] and [4, 5, 6, 7, 8]\")\n",
        "\n",
        "list1 = [1, 2, 3, 4, 5]\n",
        "list2 = [4, 5, 6, 7, 8]\n",
        "\n",
        "common_elements = list(set(list1) & set(list2))\n",
        "\n",
        "print(\"Common elements:\", common_elements)\n"
      ],
      "metadata": {
        "id": "YwGiZeJHT6st",
        "colab": {
          "base_uri": "https://localhost:8080/"
        },
        "outputId": "d7faeb97-2cfe-45fc-b66b-6d5aada45153"
      },
      "execution_count": 12,
      "outputs": [
        {
          "output_type": "stream",
          "name": "stdout",
          "text": [
            "\n",
            "Question 12: Find common elements between [1, 2, 3, 4, 5] and [4, 5, 6, 7, 8]\n",
            "\n",
            "Question 12: Find common elements between [1, 2, 3, 4, 5] and [4, 5, 6, 7, 8]\n",
            "Common elements: [4, 5]\n"
          ]
        }
      ]
    },
    {
      "cell_type": "code",
      "source": [
        "# Question 13: Create a list of lists: [[1, 2], [3, 4], [5, 6]]\n",
        "print(\"\\nQuestion 13: Create a list of lists: [[1, 2], [3, 4], [5, 6]]\")\n",
        "# Your code here\n",
        "print(\"\\nQuestion 13: Create a list of lists: [[1, 2], [3, 4], [5, 6]]\")\n",
        "\n",
        "list_of_lists = [[1, 2], [3, 4], [5, 6]]\n",
        "\n",
        "print(\"List of lists:\", list_of_lists)\n"
      ],
      "metadata": {
        "id": "iH30y0-cVbvR",
        "colab": {
          "base_uri": "https://localhost:8080/"
        },
        "outputId": "2de5397a-8c6e-4a0c-9021-d380dd2aed9e"
      },
      "execution_count": 13,
      "outputs": [
        {
          "output_type": "stream",
          "name": "stdout",
          "text": [
            "\n",
            "Question 13: Create a list of lists: [[1, 2], [3, 4], [5, 6]]\n",
            "\n",
            "Question 13: Create a list of lists: [[1, 2], [3, 4], [5, 6]]\n",
            "List of lists: [[1, 2], [3, 4], [5, 6]]\n"
          ]
        }
      ]
    },
    {
      "cell_type": "code",
      "source": [
        "# Question 14: Find the sum of each sublist in [[1, 2, 3], [4, 5, 6], [7, 8, 9]]\n",
        "print(\"\\nQuestion 14: Find the sum of each sublist in [[1, 2, 3], [4, 5, 6], [7, 8, 9]]\")\n",
        "# Your code here\n",
        "print(\"\\nQuestion 14: Find the sum of each sublist in [[1, 2, 3], [4, 5, 6], [7, 8, 9]]\")\n",
        "\n",
        "nested_list = [[1, 2, 3], [4, 5, 6], [7, 8, 9]]\n",
        "sums = [sum(sublist) for sublist in nested_list]\n",
        "\n",
        "print(\"Sum of each sublist:\", sums)\n",
        "\n"
      ],
      "metadata": {
        "id": "V4KogBecVb_E",
        "colab": {
          "base_uri": "https://localhost:8080/"
        },
        "outputId": "6575ef6b-1656-46a2-9256-e3fb307c188c"
      },
      "execution_count": 14,
      "outputs": [
        {
          "output_type": "stream",
          "name": "stdout",
          "text": [
            "\n",
            "Question 14: Find the sum of each sublist in [[1, 2, 3], [4, 5, 6], [7, 8, 9]]\n",
            "\n",
            "Question 14: Find the sum of each sublist in [[1, 2, 3], [4, 5, 6], [7, 8, 9]]\n",
            "Sum of each sublist: [6, 15, 24]\n"
          ]
        }
      ]
    },
    {
      "cell_type": "code",
      "source": [
        "# Question 15: Transpose the matrix [[1, 2, 3], [4, 5, 6], [7, 8, 9]]\n",
        "print(\"\\nQuestion 15: Transpose the matrix [[1, 2, 3], [4, 5, 6], [7, 8, 9]]\")\n",
        "# Your code here\n",
        "print(\"\\nQuestion 15: Transpose the matrix [[1, 2, 3], [4, 5, 6], [7, 8, 9]]\")\n",
        "\n",
        "matrix = [[1, 2, 3], [4, 5, 6], [7, 8, 9]]\n",
        "transposed = [list(row) for row in zip(*matrix)]\n",
        "\n",
        "print(\"Transposed matrix:\", transposed)\n"
      ],
      "metadata": {
        "id": "iiaGMb7XVcNh",
        "colab": {
          "base_uri": "https://localhost:8080/"
        },
        "outputId": "5a285eca-1838-4095-85d2-3197e29ec099"
      },
      "execution_count": 15,
      "outputs": [
        {
          "output_type": "stream",
          "name": "stdout",
          "text": [
            "\n",
            "Question 15: Transpose the matrix [[1, 2, 3], [4, 5, 6], [7, 8, 9]]\n",
            "\n",
            "Question 15: Transpose the matrix [[1, 2, 3], [4, 5, 6], [7, 8, 9]]\n",
            "Transposed matrix: [[1, 4, 7], [2, 5, 8], [3, 6, 9]]\n"
          ]
        }
      ]
    },
    {
      "cell_type": "code",
      "source": [
        "# Question 16: Find the maximum value in each sublist of [[1, 5, 3], [9, 2, 7], [4, 8, 6]]\n",
        "print(\"\\nQuestion 16: Find the maximum value in each sublist of [[1, 5, 3], [9, 2, 7], [4, 8, 6]]\")\n",
        "# Your code here\n",
        "print(\"\\nQuestion 16: Find the maximum value in each sublist of [[1, 5, 3], [9, 2, 7], [4, 8, 6]]\")\n",
        "\n",
        "nested_list = [[1, 5, 3], [9, 2, 7], [4, 8, 6]]\n",
        "max_values = [max(sublist) for sublist in nested_list]\n",
        "\n",
        "print(\"Maximum values in each sublist:\", max_values)\n"
      ],
      "metadata": {
        "id": "lkSdVqtIVcZL",
        "colab": {
          "base_uri": "https://localhost:8080/"
        },
        "outputId": "efd8cc42-b00d-4827-f327-4990ebbf98eb"
      },
      "execution_count": 16,
      "outputs": [
        {
          "output_type": "stream",
          "name": "stdout",
          "text": [
            "\n",
            "Question 16: Find the maximum value in each sublist of [[1, 5, 3], [9, 2, 7], [4, 8, 6]]\n",
            "\n",
            "Question 16: Find the maximum value in each sublist of [[1, 5, 3], [9, 2, 7], [4, 8, 6]]\n",
            "Maximum values in each sublist: [5, 9, 8]\n"
          ]
        }
      ]
    },
    {
      "cell_type": "code",
      "source": [
        "# Question 17: Create a 3D list: [[[1, 2], [3, 4]], [[5, 6], [7, 8]]]\n",
        "print(\"\\nQuestion 17: Create a 3D list: [[[1, 2], [3, 4]], [[5, 6], [7, 8]]]\")\n",
        "# Your code here\n",
        "print(\"\\nQuestion 17: Create a 3D list: [[[1, 2], [3, 4]], [[5, 6], [7, 8]]]\")\n",
        "\n",
        "three_d_list = [[[1, 2], [3, 4]], [[5, 6], [7, 8]]]\n",
        "\n",
        "print(\"3D list:\", three_d_list)\n",
        "\n"
      ],
      "metadata": {
        "id": "9cFQQzXpWO0z",
        "colab": {
          "base_uri": "https://localhost:8080/"
        },
        "outputId": "b372f164-76d5-4a52-c60a-5cc9fb0bf60e"
      },
      "execution_count": 17,
      "outputs": [
        {
          "output_type": "stream",
          "name": "stdout",
          "text": [
            "\n",
            "Question 17: Create a 3D list: [[[1, 2], [3, 4]], [[5, 6], [7, 8]]]\n",
            "\n",
            "Question 17: Create a 3D list: [[[1, 2], [3, 4]], [[5, 6], [7, 8]]]\n",
            "3D list: [[[1, 2], [3, 4]], [[5, 6], [7, 8]]]\n"
          ]
        }
      ]
    },
    {
      "cell_type": "code",
      "source": [
        "# Question 18: Find the sum of all elements in 3D list [[[1, 2], [3, 4]], [[5, 6], [7, 8]]]\n",
        "print(\"\\nQuestion 18: Find the sum of all elements in 3D list [[[1, 2], [3, 4]], [[5, 6], [7, 8]]]\")\n",
        "# Your code here\n",
        "print(\"\\nQuestion 18: Find the sum of all elements in 3D list [[[1, 2], [3, 4]], [[5, 6], [7, 8]]]\")\n",
        "\n",
        "three_d_list = [[[1, 2], [3, 4]], [[5, 6], [7, 8]]]\n",
        "total_sum = sum(num for sublist1 in three_d_list for sublist2 in sublist1 for num in sublist2)\n",
        "\n",
        "print(\"Sum of all elements:\", total_sum)\n"
      ],
      "metadata": {
        "id": "zpzkr7ZQWQJk",
        "colab": {
          "base_uri": "https://localhost:8080/"
        },
        "outputId": "7848e35d-4740-406e-a627-f4460e569d2e"
      },
      "execution_count": 18,
      "outputs": [
        {
          "output_type": "stream",
          "name": "stdout",
          "text": [
            "\n",
            "Question 18: Find the sum of all elements in 3D list [[[1, 2], [3, 4]], [[5, 6], [7, 8]]]\n",
            "\n",
            "Question 18: Find the sum of all elements in 3D list [[[1, 2], [3, 4]], [[5, 6], [7, 8]]]\n",
            "Sum of all elements: 36\n"
          ]
        }
      ]
    },
    {
      "cell_type": "code",
      "source": [
        "# Question 19: Extract all even numbers from nested list [[1, 2, 3], [4, 5, 6], [7, 8, 9]]\n",
        "print(\"\\nQuestion 19: Extract all even numbers from nested list [[1, 2, 3], [4, 5, 6], [7, 8, 9]]\")\n",
        "# Your code here\n",
        "print(\"\\nQuestion 19: Extract all even numbers from nested list [[1, 2, 3], [4, 5, 6], [7, 8, 9]]\")\n",
        "\n",
        "nested_list = [[1, 2, 3], [4, 5, 6], [7, 8, 9]]\n",
        "even_numbers = [num for sublist in nested_list for num in sublist if num % 2 == 0]\n",
        "\n",
        "print(\"Even numbers:\", even_numbers)\n"
      ],
      "metadata": {
        "id": "m15sX9AqWQGZ",
        "colab": {
          "base_uri": "https://localhost:8080/"
        },
        "outputId": "a2d79c7e-49f6-4f7f-b487-4f9443026bff"
      },
      "execution_count": 19,
      "outputs": [
        {
          "output_type": "stream",
          "name": "stdout",
          "text": [
            "\n",
            "Question 19: Extract all even numbers from nested list [[1, 2, 3], [4, 5, 6], [7, 8, 9]]\n",
            "\n",
            "Question 19: Extract all even numbers from nested list [[1, 2, 3], [4, 5, 6], [7, 8, 9]]\n",
            "Even numbers: [2, 4, 6, 8]\n"
          ]
        }
      ]
    },
    {
      "cell_type": "code",
      "source": [
        "# Question 20: Create a list of mixed data types: [1, \"hello\", 3.14, True, [1, 2, 3]]\n",
        "print(\"\\nQuestion 20: Create a list of mixed data types: [1, 'hello', 3.14, True, [1, 2, 3]]\")\n",
        "# Your code here\n",
        "print(\"\\nQuestion 20: Create a list of mixed data types: [1, 'hello', 3.14, True, [1, 2, 3]]\")\n",
        "\n",
        "mixed_list = [1, \"hello\", 3.14, True, [1, 2, 3]]\n",
        "\n",
        "print(\"Mixed data type list:\", mixed_list)\n"
      ],
      "metadata": {
        "id": "H36EdObXWP_R",
        "colab": {
          "base_uri": "https://localhost:8080/"
        },
        "outputId": "88c013fc-abdb-4a0e-d00e-640d4c2a6415"
      },
      "execution_count": 20,
      "outputs": [
        {
          "output_type": "stream",
          "name": "stdout",
          "text": [
            "\n",
            "Question 20: Create a list of mixed data types: [1, 'hello', 3.14, True, [1, 2, 3]]\n",
            "\n",
            "Question 20: Create a list of mixed data types: [1, 'hello', 3.14, True, [1, 2, 3]]\n",
            "Mixed data type list: [1, 'hello', 3.14, True, [1, 2, 3]]\n"
          ]
        }
      ]
    },
    {
      "cell_type": "code",
      "source": [
        "# Question 21: Find the length of each string in [\"apple\", \"banana\", \"cherry\", \"date\"]\n",
        "print(\"\\nQuestion 21: Find the length of each string in ['apple', 'banana', 'cherry', 'date']\")\n",
        "# Your code here\n",
        "print(\"\\nQuestion 21: Find the length of each string in ['apple', 'banana', 'cherry', 'date']\")\n",
        "\n",
        "fruits = [\"apple\", \"banana\", \"cherry\", \"date\"]\n",
        "lengths = [len(fruit) for fruit in fruits]\n",
        "\n",
        "print(\"Lengths of each string:\", lengths)\n"
      ],
      "metadata": {
        "id": "7JYQlJ43WP1a",
        "colab": {
          "base_uri": "https://localhost:8080/"
        },
        "outputId": "b5f2df7b-bb5c-45d2-928f-2542c9541bad"
      },
      "execution_count": 21,
      "outputs": [
        {
          "output_type": "stream",
          "name": "stdout",
          "text": [
            "\n",
            "Question 21: Find the length of each string in ['apple', 'banana', 'cherry', 'date']\n",
            "\n",
            "Question 21: Find the length of each string in ['apple', 'banana', 'cherry', 'date']\n",
            "Lengths of each string: [5, 6, 6, 4]\n"
          ]
        }
      ]
    },
    {
      "cell_type": "code",
      "source": [
        "# Question 22: Create a list of tuples: [(1, 'a'), (2, 'b'), (3, 'c')]\n",
        "print(\"\\nQuestion 22: Create a list of tuples: [(1, 'a'), (2, 'b'), (3, 'c')]\")\n",
        "# Your code here\n",
        "print(\"\\nQuestion 22: Create a list of tuples: [(1, 'a'), (2, 'b'), (3, 'c')]\")\n",
        "\n",
        "list_of_tuples = [(1, 'a'), (2, 'b'), (3, 'c')]\n",
        "\n",
        "print(\"List of tuples:\", list_of_tuples)\n"
      ],
      "metadata": {
        "id": "QmqPgpeQWPpF",
        "colab": {
          "base_uri": "https://localhost:8080/"
        },
        "outputId": "23796b63-ba60-40b9-c4d2-46a8bfa50847"
      },
      "execution_count": 22,
      "outputs": [
        {
          "output_type": "stream",
          "name": "stdout",
          "text": [
            "\n",
            "Question 22: Create a list of tuples: [(1, 'a'), (2, 'b'), (3, 'c')]\n",
            "\n",
            "Question 22: Create a list of tuples: [(1, 'a'), (2, 'b'), (3, 'c')]\n",
            "List of tuples: [(1, 'a'), (2, 'b'), (3, 'c')]\n"
          ]
        }
      ]
    },
    {
      "cell_type": "code",
      "source": [
        "# Question 23: Extract first element from each tuple in [(1, 'a'), (2, 'b'), (3, 'c')]\n",
        "print(\"\\nQuestion 23: Extract first element from each tuple in [(1, 'a'), (2, 'b'), (3, 'c')]\")\n",
        "# Your code here\n",
        "print(\"\\nQuestion 23: Extract first element from each tuple in [(1, 'a'), (2, 'b'), (3, 'c')]\")\n",
        "\n",
        "tuple_list = [(1, 'a'), (2, 'b'), (3, 'c')]\n",
        "first_elements = [t[0] for t in tuple_list]\n",
        "\n",
        "print(\"First elements:\", first_elements)\n"
      ],
      "metadata": {
        "colab": {
          "base_uri": "https://localhost:8080/"
        },
        "id": "QFlNBYvKke_c",
        "outputId": "a89e8e2e-d538-4896-f2bc-dede8fadb3f1"
      },
      "execution_count": 23,
      "outputs": [
        {
          "output_type": "stream",
          "name": "stdout",
          "text": [
            "\n",
            "Question 23: Extract first element from each tuple in [(1, 'a'), (2, 'b'), (3, 'c')]\n",
            "\n",
            "Question 23: Extract first element from each tuple in [(1, 'a'), (2, 'b'), (3, 'c')]\n",
            "First elements: [1, 2, 3]\n"
          ]
        }
      ]
    },
    {
      "cell_type": "code",
      "source": [
        "# Question 24: Create a list of dictionaries: [{'name': 'Alice', 'age': 25}, {'name': 'Bob', 'age': 30}]\n",
        "print(\"\\nQuestion 24: Create a list of dictionaries: [{'name': 'Alice', 'age': 25}, {'name': 'Bob', 'age': 30}]\")\n",
        "# Your code here\n",
        "print(\"\\nQuestion 24: Create a list of dictionaries: [{'name': 'Alice', 'age': 25}, {'name': 'Bob', 'age': 30}]\")\n",
        "\n",
        "people = [{'name': 'Alice', 'age': 25}, {'name': 'Bob', 'age': 30}]\n",
        "\n",
        "print(\"List of dictionaries:\", people)\n"
      ],
      "metadata": {
        "colab": {
          "base_uri": "https://localhost:8080/"
        },
        "id": "F0kv836nkfKF",
        "outputId": "b03e8900-cea7-42ab-a021-247c22b0bbe5"
      },
      "execution_count": 24,
      "outputs": [
        {
          "output_type": "stream",
          "name": "stdout",
          "text": [
            "\n",
            "Question 24: Create a list of dictionaries: [{'name': 'Alice', 'age': 25}, {'name': 'Bob', 'age': 30}]\n",
            "\n",
            "Question 24: Create a list of dictionaries: [{'name': 'Alice', 'age': 25}, {'name': 'Bob', 'age': 30}]\n",
            "List of dictionaries: [{'name': 'Alice', 'age': 25}, {'name': 'Bob', 'age': 30}]\n"
          ]
        }
      ]
    },
    {
      "cell_type": "code",
      "source": [
        "# Question 25: Extract all 'name' values from list of dictionaries\n",
        "print(\"\\nQuestion 25: Extract all 'name' values from list of dictionaries\")\n",
        "# Your code here\n",
        "print(\"\\nQuestion 25: Extract all 'name' values from list of dictionaries\")\n",
        "\n",
        "people = [{'name': 'Alice', 'age': 25}, {'name': 'Bob', 'age': 30}]\n",
        "names = [person['name'] for person in people]\n",
        "\n",
        "print(\"Names:\", names)\n",
        "\n"
      ],
      "metadata": {
        "colab": {
          "base_uri": "https://localhost:8080/"
        },
        "id": "sy3pvWZAkfbk",
        "outputId": "eb1ed0fc-f870-494d-936b-85d54dc97e48"
      },
      "execution_count": 25,
      "outputs": [
        {
          "output_type": "stream",
          "name": "stdout",
          "text": [
            "\n",
            "Question 25: Extract all 'name' values from list of dictionaries\n",
            "\n",
            "Question 25: Extract all 'name' values from list of dictionaries\n",
            "Names: ['Alice', 'Bob']\n"
          ]
        }
      ]
    },
    {
      "cell_type": "code",
      "source": [
        "# Question 26: Find the person with maximum age in list of dictionaries\n",
        "print(\"\\nQuestion 26: Find the person with maximum age in list of dictionaries\")\n",
        "# Your code here\n",
        "print(\"\\nQuestion 26: Find the person with maximum age in list of dictionaries\")\n",
        "\n",
        "people = [{'name': 'Alice', 'age': 25}, {'name': 'Bob', 'age': 30}]\n",
        "oldest_person = max(people, key=lambda person: person['age'])\n",
        "\n",
        "print(\"Person with maximum age:\", oldest_person)\n"
      ],
      "metadata": {
        "colab": {
          "base_uri": "https://localhost:8080/"
        },
        "id": "fk-kv-Ybmz-_",
        "outputId": "a52b0138-b311-47f3-a82f-75e842a9ce8a"
      },
      "execution_count": 26,
      "outputs": [
        {
          "output_type": "stream",
          "name": "stdout",
          "text": [
            "\n",
            "Question 26: Find the person with maximum age in list of dictionaries\n",
            "\n",
            "Question 26: Find the person with maximum age in list of dictionaries\n",
            "Person with maximum age: {'name': 'Bob', 'age': 30}\n"
          ]
        }
      ]
    },
    {
      "cell_type": "code",
      "source": [
        "# Question 27: Create a 4D list: [[[[1, 2], [3, 4]], [[5, 6], [7, 8]]], [[[9, 10], [11, 12]], [[13, 14], [15, 16]]]]\n",
        "print(\"\\nQuestion 27: Create a 4D list: [[[[1, 2], [3, 4]], [[5, 6], [7, 8]]], [[[9, 10], [11, 12]], [[13, 14], [15, 16]]]]\")\n",
        "print(\"\\nQuestion 27: Create a 4D list: [[[[1, 2], [3, 4]], [[5, 6], [7, 8]]], [[[9, 10], [11, 12]], [[13, 14], [15, 16]]]]\")\n",
        "\n",
        "four_d_list = [\n",
        "    [  # First 3D block\n",
        "        [[1, 2], [3, 4]],\n",
        "        [[5, 6], [7, 8]]\n",
        "    ],\n",
        "    [  # Second 3D block\n",
        "        [[9, 10], [11, 12]],\n",
        "        [[13, 14], [15, 16]]\n",
        "    ]\n",
        "]\n",
        "\n",
        "print(\"4D list:\", four_d_list)\n"
      ],
      "metadata": {
        "colab": {
          "base_uri": "https://localhost:8080/"
        },
        "id": "Qi0DX15imz7j",
        "outputId": "a911f8ba-d38e-4f3b-c7fb-21fa291ac150"
      },
      "execution_count": 27,
      "outputs": [
        {
          "output_type": "stream",
          "name": "stdout",
          "text": [
            "\n",
            "Question 27: Create a 4D list: [[[[1, 2], [3, 4]], [[5, 6], [7, 8]]], [[[9, 10], [11, 12]], [[13, 14], [15, 16]]]]\n",
            "\n",
            "Question 27: Create a 4D list: [[[[1, 2], [3, 4]], [[5, 6], [7, 8]]], [[[9, 10], [11, 12]], [[13, 14], [15, 16]]]]\n",
            "4D list: [[[[1, 2], [3, 4]], [[5, 6], [7, 8]]], [[[9, 10], [11, 12]], [[13, 14], [15, 16]]]]\n"
          ]
        }
      ]
    },
    {
      "cell_type": "code",
      "source": [
        "# Question 28: Find the maximum value in 4D list\n",
        "print(\"\\nQuestion 28: Find the maximum value in 4D list\")\n",
        "# Your code here\n",
        "print(\"\\nQuestion 28: Find the maximum value in 4D list\")\n",
        "\n",
        "four_d_list = [\n",
        "    [  # First 3D block\n",
        "        [[1, 2], [3, 4]],\n",
        "        [[5, 6], [7, 8]]\n",
        "    ],\n",
        "    [  # Second 3D block\n",
        "        [[9, 10], [11, 12]],\n",
        "        [[13, 14], [15, 16]]\n",
        "    ]\n",
        "]\n",
        "\n",
        "# Flatten and find max\n",
        "max_value = max(num for block3d in four_d_list\n",
        "                    for block2d in block3d\n",
        "                    for block1d in block2d\n",
        "                    for num in block1d)\n",
        "\n",
        "print(\"Maximum value in 4D list:\", max_value)\n"
      ],
      "metadata": {
        "colab": {
          "base_uri": "https://localhost:8080/"
        },
        "id": "RTnbJazXmz44",
        "outputId": "4e144739-5f9d-472c-9e14-51fd061336f0"
      },
      "execution_count": 28,
      "outputs": [
        {
          "output_type": "stream",
          "name": "stdout",
          "text": [
            "\n",
            "Question 28: Find the maximum value in 4D list\n",
            "\n",
            "Question 28: Find the maximum value in 4D list\n",
            "Maximum value in 4D list: 16\n"
          ]
        }
      ]
    },
    {
      "cell_type": "code",
      "source": [
        "# Question 29: Create a list of sets: [{1, 2, 3}, {4, 5, 6}, {7, 8, 9}]\n",
        "print(\"\\nQuestion 29: Create a list of sets: [{1, 2, 3}, {4, 5, 6}, {7, 8, 9}]\")\n",
        "# Your code here\n",
        "print(\"\\nQuestion 29: Create a list of sets: [{1, 2, 3}, {4, 5, 6}, {7, 8, 9}]\")\n",
        "\n",
        "list_of_sets = [{1, 2, 3}, {4, 5, 6}, {7, 8, 9}]\n",
        "\n",
        "print(\"List of sets:\", list_of_sets)\n"
      ],
      "metadata": {
        "colab": {
          "base_uri": "https://localhost:8080/"
        },
        "id": "3JEFCemYmz1_",
        "outputId": "c36ebdb0-60f5-4e28-f22f-dcc7f5f72862"
      },
      "execution_count": 29,
      "outputs": [
        {
          "output_type": "stream",
          "name": "stdout",
          "text": [
            "\n",
            "Question 29: Create a list of sets: [{1, 2, 3}, {4, 5, 6}, {7, 8, 9}]\n",
            "\n",
            "Question 29: Create a list of sets: [{1, 2, 3}, {4, 5, 6}, {7, 8, 9}]\n",
            "List of sets: [{1, 2, 3}, {4, 5, 6}, {8, 9, 7}]\n"
          ]
        }
      ]
    },
    {
      "cell_type": "code",
      "source": [
        "\n",
        "# Question 30: Find the union of all sets in list of sets\n",
        "print(\"\\nQuestion 30: Find the union of all sets in list of sets\")\n",
        "# Your code here\n",
        "print(\"\\nQuestion 30: Find the union of all sets in list of sets\")\n",
        "\n",
        "list_of_sets = [{1, 2, 3}, {4, 5, 6}, {7, 8, 9}]\n",
        "union_set = set().union(*list_of_sets)\n",
        "\n",
        "print(\"Union of all sets:\", union_set)\n"
      ],
      "metadata": {
        "colab": {
          "base_uri": "https://localhost:8080/"
        },
        "id": "00kKPWVcmzzS",
        "outputId": "7948f454-abad-4654-efeb-e559049a4afd"
      },
      "execution_count": 30,
      "outputs": [
        {
          "output_type": "stream",
          "name": "stdout",
          "text": [
            "\n",
            "Question 30: Find the union of all sets in list of sets\n",
            "\n",
            "Question 30: Find the union of all sets in list of sets\n",
            "Union of all sets: {1, 2, 3, 4, 5, 6, 7, 8, 9}\n"
          ]
        }
      ]
    },
    {
      "cell_type": "code",
      "source": [
        "# Question 31: Create a list of complex numbers: [1+2j, 3+4j, 5+6j]\n",
        "print(\"\\nQuestion 31: Create a list of complex numbers: [1+2j, 3+4j, 5+6j]\")\n",
        "# Your code here\n",
        "print(\"\\nQuestion 31: Create a list of complex numbers: [1+2j, 3+4j, 5+6j]\")\n",
        "\n",
        "complex_list = [1+2j, 3+4j, 5+6j]\n",
        "\n",
        "print(\"List of complex numbers:\", complex_list)\n"
      ],
      "metadata": {
        "colab": {
          "base_uri": "https://localhost:8080/"
        },
        "id": "LGESjzJ9mzwk",
        "outputId": "f03d3c35-1156-4348-a803-be0324db40e5"
      },
      "execution_count": 31,
      "outputs": [
        {
          "output_type": "stream",
          "name": "stdout",
          "text": [
            "\n",
            "Question 31: Create a list of complex numbers: [1+2j, 3+4j, 5+6j]\n",
            "\n",
            "Question 31: Create a list of complex numbers: [1+2j, 3+4j, 5+6j]\n",
            "List of complex numbers: [(1+2j), (3+4j), (5+6j)]\n"
          ]
        }
      ]
    },
    {
      "cell_type": "code",
      "source": [
        "# Question 32: Find the magnitude of each complex number in list\n",
        "print(\"\\nQuestion 32: Find the magnitude of each complex number in list\")\n",
        "# Your code here\n",
        "print(\"\\nQuestion 32: Find the magnitude of each complex number in list\")\n",
        "\n",
        "complex_list = [1+2j, 3+4j, 5+6j]\n",
        "magnitudes = [abs(num) for num in complex_list]\n",
        "\n",
        "print(\"Magnitudes of complex numbers:\", magnitudes)\n"
      ],
      "metadata": {
        "colab": {
          "base_uri": "https://localhost:8080/"
        },
        "id": "lXL0-KV7mzt8",
        "outputId": "c028ff4e-66a2-4a95-82d8-b33d74381b98"
      },
      "execution_count": 32,
      "outputs": [
        {
          "output_type": "stream",
          "name": "stdout",
          "text": [
            "\n",
            "Question 32: Find the magnitude of each complex number in list\n",
            "\n",
            "Question 32: Find the magnitude of each complex number in list\n",
            "Magnitudes of complex numbers: [2.23606797749979, 5.0, 7.810249675906654]\n"
          ]
        }
      ]
    },
    {
      "cell_type": "code",
      "source": [
        "# Question 33: Create a nested list with different levels: [1, [2, 3], [4, [5, 6]], 7]\n",
        "print(\"\\nQuestion 33: Create a nested list with different levels: [1, [2, 3], [4, [5, 6]], 7]\")\n",
        "print(\"\\nQuestion 33: Create a nested list with different levels: [1, [2, 3], [4, [5, 6]], 7]\")\n",
        "\n",
        "nested_list = [1, [2, 3], [4, [5, 6]], 7]\n",
        "\n",
        "print(\"Nested list:\", nested_list)\n",
        "\n"
      ],
      "metadata": {
        "colab": {
          "base_uri": "https://localhost:8080/"
        },
        "id": "Bi02Db6vmzr7",
        "outputId": "3ed34aa5-68e7-4dbf-b041-20972dc2a52d"
      },
      "execution_count": 33,
      "outputs": [
        {
          "output_type": "stream",
          "name": "stdout",
          "text": [
            "\n",
            "Question 33: Create a nested list with different levels: [1, [2, 3], [4, [5, 6]], 7]\n",
            "\n",
            "Question 33: Create a nested list with different levels: [1, [2, 3], [4, [5, 6]], 7]\n",
            "Nested list: [1, [2, 3], [4, [5, 6]], 7]\n"
          ]
        }
      ]
    },
    {
      "cell_type": "code",
      "source": [
        "# Question 34: Count the depth of nesting in [1, [2, 3], [4, [5, 6]], 7]\n",
        "print(\"\\nQuestion 34: Count the depth of nesting in [1, [2, 3], [4, [5, 6]], 7]\")\n",
        "# Your code here\n",
        "print(\"\\nQuestion 34: Count the depth of nesting in [1, [2, 3], [4, [5, 6]], 7]\")\n",
        "\n",
        "def count_depth(lst):\n",
        "    if not isinstance(lst, list):\n",
        "        return 0\n",
        "    elif not lst:\n",
        "        return 1\n",
        "    else:\n",
        "        return 1 + max(count_depth(item) for item in lst)\n",
        "\n",
        "nested_list = [1, [2, 3], [4, [5, 6]], 7]\n",
        "depth = count_depth(nested_list)\n",
        "\n",
        "print(\"Depth of nesting:\", depth)\n"
      ],
      "metadata": {
        "colab": {
          "base_uri": "https://localhost:8080/"
        },
        "id": "r3ytjoaymzo7",
        "outputId": "2fd4c94f-4566-4048-e5e1-cdca4b95b1b7"
      },
      "execution_count": 34,
      "outputs": [
        {
          "output_type": "stream",
          "name": "stdout",
          "text": [
            "\n",
            "Question 34: Count the depth of nesting in [1, [2, 3], [4, [5, 6]], 7]\n",
            "\n",
            "Question 34: Count the depth of nesting in [1, [2, 3], [4, [5, 6]], 7]\n",
            "Depth of nesting: 3\n"
          ]
        }
      ]
    },
    {
      "cell_type": "code",
      "source": [
        "# Question 35: Create a list of functions: [len, str, int, float]\n",
        "print(\"\\nQuestion 35: Create a list of functions: [len, str, int, float]\")\n",
        "# Your code here\n",
        "print(\"\\nQuestion 35: Create a list of functions: [len, str, int, float]\")\n",
        "\n",
        "functions_list = [len, str, int, float]\n",
        "\n",
        "print(\"List of functions:\", functions_list)\n",
        "\n",
        "# Example usage:\n",
        "print(\"len('hello'):\", functions_list[0](\"hello\"))\n",
        "print(\"str(123):\", functions_list )\n",
        "print(\"int('456'):\", functions_list[2](\"456\"))\n",
        "print(\"float('3.14'):\", functions_list[3](\"3.14\"))\n"
      ],
      "metadata": {
        "colab": {
          "base_uri": "https://localhost:8080/"
        },
        "id": "zqI9qnuzmzjN",
        "outputId": "8c4101ee-81e0-4ca2-d52b-1c321ffe4959"
      },
      "execution_count": 35,
      "outputs": [
        {
          "output_type": "stream",
          "name": "stdout",
          "text": [
            "\n",
            "Question 35: Create a list of functions: [len, str, int, float]\n",
            "\n",
            "Question 35: Create a list of functions: [len, str, int, float]\n",
            "List of functions: [<built-in function len>, <class 'str'>, <class 'int'>, <class 'float'>]\n",
            "len('hello'): 5\n",
            "str(123): [<built-in function len>, <class 'str'>, <class 'int'>, <class 'float'>]\n",
            "int('456'): 456\n",
            "float('3.14'): 3.14\n"
          ]
        }
      ]
    },
    {
      "cell_type": "code",
      "source": [
        "# Question 36: Apply each function in list to string \"123\"\n",
        "print(\"\\nQuestion 36: Apply each function in list to string '123'\")\n",
        "# Your code here\n",
        "print(\"\\nQuestion 36: Apply each function in list to string '123'\")\n",
        "\n",
        "functions_list = [len, str, int, float]\n",
        "input_str = \"123\"\n",
        "\n",
        "results = [func(input_str) for func in functions_list]\n",
        "\n",
        "print(\"Results of applying each function:\", results)\n"
      ],
      "metadata": {
        "colab": {
          "base_uri": "https://localhost:8080/"
        },
        "id": "NLsOSZh1mzXT",
        "outputId": "0268bb7d-2818-4ad3-8625-fb23adf5af09"
      },
      "execution_count": 36,
      "outputs": [
        {
          "output_type": "stream",
          "name": "stdout",
          "text": [
            "\n",
            "Question 36: Apply each function in list to string '123'\n",
            "\n",
            "Question 36: Apply each function in list to string '123'\n",
            "Results of applying each function: [3, '123', 123, 123.0]\n"
          ]
        }
      ]
    },
    {
      "cell_type": "code",
      "source": [
        "# Question 37: Create a list of lambda functions: [lambda x: x*2, lambda x: x**2, lambda x: x+1]\n",
        "print(\"\\nQuestion 37: Create a list of lambda functions: [lambda x: x*2, lambda x: x**2, lambda x: x+1]\")\n",
        "# Your code here\n",
        "print(\"\\nQuestion 37: Create a list of lambda functions: [lambda x: x*2, lambda x: x**2, lambda x: x+1]\")\n",
        "\n",
        "lambda_functions = [\n",
        "    lambda x: x * 2,\n",
        "    lambda x: x ** 2,\n",
        "    lambda x: x + 1\n",
        "]\n",
        "\n",
        "print(\"List of lambda functions:\", lambda_functions)\n",
        "\n",
        "# Example usage:\n",
        "for func in lambda_functions:\n",
        "    print(func(5))\n"
      ],
      "metadata": {
        "colab": {
          "base_uri": "https://localhost:8080/"
        },
        "id": "vKR-OSF3mzTJ",
        "outputId": "ca02c5ca-cf34-48ee-b5ab-ba45ff197a76"
      },
      "execution_count": 37,
      "outputs": [
        {
          "output_type": "stream",
          "name": "stdout",
          "text": [
            "\n",
            "Question 37: Create a list of lambda functions: [lambda x: x*2, lambda x: x**2, lambda x: x+1]\n",
            "\n",
            "Question 37: Create a list of lambda functions: [lambda x: x*2, lambda x: x**2, lambda x: x+1]\n",
            "List of lambda functions: [<function <lambda> at 0x7a0985c24040>, <function <lambda> at 0x7a0985c24900>, <function <lambda> at 0x7a0985c24b80>]\n",
            "10\n",
            "25\n",
            "6\n"
          ]
        }
      ]
    },
    {
      "cell_type": "code",
      "source": [
        "# Question 38: Apply each lambda function to 5\n",
        "print(\"\\nQuestion 38: Apply each lambda function to 5\")\n",
        "# Your code here\n",
        "print(\"\\nQuestion 38: Apply each lambda function to 5\")\n",
        "\n",
        "lambda_functions = [\n",
        "    lambda x: x * 2,\n",
        "    lambda x: x ** 2,\n",
        "    lambda x: x + 1\n",
        "]\n",
        "\n",
        "results = [func(5) for func in lambda_functions]\n",
        "\n",
        "print(\"Results:\", results)\n"
      ],
      "metadata": {
        "colab": {
          "base_uri": "https://localhost:8080/"
        },
        "id": "YlSmDWA7mzQh",
        "outputId": "c056e712-ebda-4429-fe6d-521bf5852280"
      },
      "execution_count": 38,
      "outputs": [
        {
          "output_type": "stream",
          "name": "stdout",
          "text": [
            "\n",
            "Question 38: Apply each lambda function to 5\n",
            "\n",
            "Question 38: Apply each lambda function to 5\n",
            "Results: [10, 25, 6]\n"
          ]
        }
      ]
    },
    {
      "cell_type": "code",
      "source": [
        "# Question 39: Create a list of classes: [list, dict, set, tuple]\n",
        "print(\"\\nQuestion 39: Create a list of classes: [list, dict, set, tuple]\")\n",
        "# Your code here\n",
        "print(\"\\nQuestion 39: Create a list of classes: [list, dict, set, tuple]\")\n",
        "\n",
        "classes_list = [list, dict, set, tuple]\n",
        "\n",
        "print(\"List of classes:\", classes_list)\n"
      ],
      "metadata": {
        "colab": {
          "base_uri": "https://localhost:8080/"
        },
        "id": "8nDwTIzcmzOK",
        "outputId": "43efab7c-47cd-4736-d002-cc958c1336fc"
      },
      "execution_count": 39,
      "outputs": [
        {
          "output_type": "stream",
          "name": "stdout",
          "text": [
            "\n",
            "Question 39: Create a list of classes: [list, dict, set, tuple]\n",
            "\n",
            "Question 39: Create a list of classes: [list, dict, set, tuple]\n",
            "List of classes: [<class 'list'>, <class 'dict'>, <class 'set'>, <class 'tuple'>]\n"
          ]
        }
      ]
    },
    {
      "cell_type": "code",
      "source": [
        "# Question 40: Create instances of each class in list\n",
        "print(\"\\nQuestion 40: Create instances of each class in list\")\n",
        "# Your code here\n",
        "print(\"\\nQuestion 40: Create instances of each class in list\")\n",
        "\n",
        "classes_list = [list, dict, set, tuple]\n",
        "\n",
        "# Create instances using default constructors\n",
        "instances = [cls() for cls in classes_list]\n",
        "\n",
        "print(\"Instances of each class:\", instances)\n"
      ],
      "metadata": {
        "colab": {
          "base_uri": "https://localhost:8080/"
        },
        "id": "dhnEke1gmzLh",
        "outputId": "164c67ed-025b-4ee4-ab6f-1350d8da5ff6"
      },
      "execution_count": 40,
      "outputs": [
        {
          "output_type": "stream",
          "name": "stdout",
          "text": [
            "\n",
            "Question 40: Create instances of each class in list\n",
            "\n",
            "Question 40: Create instances of each class in list\n",
            "Instances of each class: [[], {}, set(), ()]\n"
          ]
        }
      ]
    },
    {
      "cell_type": "code",
      "source": [
        "# Question 41: Create a list of None values: [None, None, None, None]\n",
        "print(\"\\nQuestion 41: Create a list of None values: [None, None, None, None]\")\n",
        "# Your code here\n",
        "print(\"\\nQuestion 41: Create a list of None values: [None, None, None, None]\")\n",
        "\n",
        "none_list =_\n"
      ],
      "metadata": {
        "colab": {
          "base_uri": "https://localhost:8080/"
        },
        "id": "OF2YMpbNmzJA",
        "outputId": "ef9d3c2a-a744-4ad5-8cec-6088e23b66fb"
      },
      "execution_count": 41,
      "outputs": [
        {
          "output_type": "stream",
          "name": "stdout",
          "text": [
            "\n",
            "Question 41: Create a list of None values: [None, None, None, None]\n",
            "\n",
            "Question 41: Create a list of None values: [None, None, None, None]\n"
          ]
        }
      ]
    },
    {
      "cell_type": "code",
      "source": [
        "# Question 42: Replace all None values with 0 in list\n",
        "print(\"\\nQuestion 42: Replace all None values with 0 in list\")\n",
        "# Your code here\n",
        "print(\"\\nQuestion 42: Replace all None values with 0 in list\")\n",
        "\n",
        "none_list = [None, None, None, None]\n",
        "replaced_list = [0 if x is None else x for x in none_list]\n",
        "\n",
        "print(\"List after replacement:\", replaced_list)\n"
      ],
      "metadata": {
        "colab": {
          "base_uri": "https://localhost:8080/"
        },
        "id": "OBsrr_7imzGH",
        "outputId": "e97a2e2f-037b-435f-9e9e-b63c0c963eb0"
      },
      "execution_count": 42,
      "outputs": [
        {
          "output_type": "stream",
          "name": "stdout",
          "text": [
            "\n",
            "Question 42: Replace all None values with 0 in list\n",
            "\n",
            "Question 42: Replace all None values with 0 in list\n",
            "List after replacement: [0, 0, 0, 0]\n"
          ]
        }
      ]
    },
    {
      "cell_type": "code",
      "source": [
        "# Question 43: Create a list of boolean values: [True, False, True, False]\n",
        "print(\"\\nQuestion 43: Create a list of boolean values: [True, False, True, False]\")\n",
        "# Your code here\n",
        "print(\"\\nQuestion 43: Create a list of boolean values: [True, False, True, False]\")\n",
        "\n",
        "bool_list = [True, False, True, False]\n",
        "\n",
        "print(\"List of boolean values:\", bool_list)\n"
      ],
      "metadata": {
        "colab": {
          "base_uri": "https://localhost:8080/"
        },
        "id": "sEOIRVGrqRUZ",
        "outputId": "0c4a2d01-495f-4086-f185-81717d901f57"
      },
      "execution_count": 43,
      "outputs": [
        {
          "output_type": "stream",
          "name": "stdout",
          "text": [
            "\n",
            "Question 43: Create a list of boolean values: [True, False, True, False]\n",
            "\n",
            "Question 43: Create a list of boolean values: [True, False, True, False]\n",
            "List of boolean values: [True, False, True, False]\n"
          ]
        }
      ]
    },
    {
      "cell_type": "code",
      "source": [
        "# Question 44: Count True values in boolean list\n",
        "print(\"\\nQuestion 44: Count True values in boolean list\")\n",
        "# Your code here\n",
        "print(\"\\nQuestion 44: Count True values in boolean list\")\n",
        "\n",
        "bool_list = [True, False, True, False]\n",
        "\n",
        "true_count = sum(bool_list)\n",
        "\n",
        "print(\"Number of True values:\", true_count)\n"
      ],
      "metadata": {
        "colab": {
          "base_uri": "https://localhost:8080/"
        },
        "id": "3wBe9zj3qRQ8",
        "outputId": "13271f3e-de8f-4f46-b238-3cbfc0546e6c"
      },
      "execution_count": 44,
      "outputs": [
        {
          "output_type": "stream",
          "name": "stdout",
          "text": [
            "\n",
            "Question 44: Count True values in boolean list\n",
            "\n",
            "Question 44: Count True values in boolean list\n",
            "Number of True values: 2\n"
          ]
        }
      ]
    },
    {
      "cell_type": "code",
      "source": [
        "# Question 45: Create a list of ranges: [range(3), range(5), range(2)]\n",
        "print(\"\\nQuestion 45: Create a list of ranges: [range(3), range(5), range(2)]\")\n",
        "# Your code here\n",
        "print(\"\\nQuestion 45: Create a list of ranges: [range(3), range(5), range(2)]\")\n",
        "\n",
        "ranges_list = [range(3), range(5), range(2)]\n",
        "\n",
        "print(\"List of ranges:\", ranges_list)\n",
        "\n",
        "# To display the actual numbers in each range:\n",
        "for r in ranges_list:\n",
        "    print(list(r))\n"
      ],
      "metadata": {
        "colab": {
          "base_uri": "https://localhost:8080/"
        },
        "id": "BjqX9EvJqROE",
        "outputId": "94e8ba04-ca21-4d3e-f9ec-bf7ffc14063a"
      },
      "execution_count": 45,
      "outputs": [
        {
          "output_type": "stream",
          "name": "stdout",
          "text": [
            "\n",
            "Question 45: Create a list of ranges: [range(3), range(5), range(2)]\n",
            "\n",
            "Question 45: Create a list of ranges: [range(3), range(5), range(2)]\n",
            "List of ranges: [range(0, 3), range(0, 5), range(0, 2)]\n",
            "[0, 1, 2]\n",
            "[0, 1, 2, 3, 4]\n",
            "[0, 1]\n"
          ]
        }
      ]
    },
    {
      "cell_type": "code",
      "source": [
        "# Question 46: Convert each range to list\n",
        "print(\"\\nQuestion 46: Convert each range to list\")\n",
        "# Your code here\n",
        "print(\"\\nQuestion 46: Convert each range to list\")\n",
        "\n",
        "ranges_list = [range(3), range(5), range(2)]\n",
        "\n",
        "lists_from_ranges = [list(r) for r in ranges_list]\n",
        "\n",
        "print(\"Converted lists:\", lists_from_ranges)\n"
      ],
      "metadata": {
        "colab": {
          "base_uri": "https://localhost:8080/"
        },
        "id": "xY-39boRqRLH",
        "outputId": "40da0a96-c2a3-4f75-bae5-dee5d8e3c3c4"
      },
      "execution_count": 46,
      "outputs": [
        {
          "output_type": "stream",
          "name": "stdout",
          "text": [
            "\n",
            "Question 46: Convert each range to list\n",
            "\n",
            "Question 46: Convert each range to list\n",
            "Converted lists: [[0, 1, 2], [0, 1, 2, 3, 4], [0, 1]]\n"
          ]
        }
      ]
    },
    {
      "cell_type": "code",
      "source": [
        "# Question 47: Create a list of generators: [(x for x in range(3)), (x for x in range(5))]\n",
        "print(\"\\nQuestion 47: Create a list of generators: [(x for x in range(3)), (x for x in range(5))]\")\n",
        "# Your code here\n",
        "print(\"\\nQuestion 47: Create a list of generators: [(x for x in range(3)), (x for x in range(5))]\")\n",
        "\n",
        "generators_list = [(x for x in range(3)), (x for x in range(5))]\n",
        "\n",
        "print(\"List of generators:\", generators_list)\n",
        "\n",
        "# To see the values generated, you can convert them to lists:\n",
        "for i, gen in enumerate(generators_list, 1):\n",
        "    print(f\"Generator {i} output:\", list(gen))\n"
      ],
      "metadata": {
        "colab": {
          "base_uri": "https://localhost:8080/"
        },
        "id": "mwfx4Q4wqRIi",
        "outputId": "d561ec8f-bd5e-461f-a9a7-1dc32b010f9a"
      },
      "execution_count": 47,
      "outputs": [
        {
          "output_type": "stream",
          "name": "stdout",
          "text": [
            "\n",
            "Question 47: Create a list of generators: [(x for x in range(3)), (x for x in range(5))]\n",
            "\n",
            "Question 47: Create a list of generators: [(x for x in range(3)), (x for x in range(5))]\n",
            "List of generators: [<generator object <genexpr> at 0x7a0996870640>, <generator object <genexpr> at 0x7a0985da9240>]\n",
            "Generator 1 output: [0, 1, 2]\n",
            "Generator 2 output: [0, 1, 2, 3, 4]\n"
          ]
        }
      ]
    },
    {
      "cell_type": "code",
      "source": [
        "# Question 48: Convert each generator to list\n",
        "print(\"\\nQuestion 48: Convert each generator to list\")\n",
        "# Your code here\n",
        "print(\"\\nQuestion 48: Convert each generator to list\")\n",
        "\n",
        "generators_list = [(x for x in range(3)), (x for x in range(5))]\n",
        "\n",
        "converted_lists = [list(gen) for gen in generators_list]\n",
        "\n",
        "print(\"Converted lists from generators:\", converted_lists)\n"
      ],
      "metadata": {
        "colab": {
          "base_uri": "https://localhost:8080/"
        },
        "id": "_41k5Jj_qRF4",
        "outputId": "2d4d0e0c-a8f3-411f-81e4-3a119eab0e49"
      },
      "execution_count": 48,
      "outputs": [
        {
          "output_type": "stream",
          "name": "stdout",
          "text": [
            "\n",
            "Question 48: Convert each generator to list\n",
            "\n",
            "Question 48: Convert each generator to list\n",
            "Converted lists from generators: [[0, 1, 2], [0, 1, 2, 3, 4]]\n"
          ]
        }
      ]
    },
    {
      "cell_type": "code",
      "source": [
        "# Question 49: Create a list of iterators: [iter([1, 2, 3]), iter([4, 5, 6])]\n",
        "print(\"\\nQuestion 49: Create a list of iterators: [iter([1, 2, 3]), iter([4, 5, 6])]\")\n",
        "# Your code here\n",
        "print(\"\\nQuestion 49: Create a list of iterators: [iter([1, 2, 3]), iter([4, 5, 6])]\")\n",
        "\n",
        "iterators_list = [iter([1, 2, 3]), iter([4, 5, 6])]\n",
        "\n",
        "print(\"List of iterators:\", iterators_list)\n",
        "\n",
        "# To see the values from each iterator, convert them to lists:\n",
        "for i, it in enumerate(iterators_list, 1):\n",
        "    print(f\"Iterator {i} output:\", list(it))\n"
      ],
      "metadata": {
        "colab": {
          "base_uri": "https://localhost:8080/"
        },
        "id": "q6Ym5H3dqRDc",
        "outputId": "956787bb-0bf5-48c3-8867-bd29abb79b4b"
      },
      "execution_count": 49,
      "outputs": [
        {
          "output_type": "stream",
          "name": "stdout",
          "text": [
            "\n",
            "Question 49: Create a list of iterators: [iter([1, 2, 3]), iter([4, 5, 6])]\n",
            "\n",
            "Question 49: Create a list of iterators: [iter([1, 2, 3]), iter([4, 5, 6])]\n",
            "List of iterators: [<list_iterator object at 0x7a0985beb1f0>, <list_iterator object at 0x7a0985bea2f0>]\n",
            "Iterator 1 output: [1, 2, 3]\n",
            "Iterator 2 output: [4, 5, 6]\n"
          ]
        }
      ]
    },
    {
      "cell_type": "code",
      "source": [
        "# Question 50: Extract all elements from each iterator\n",
        "print(\"\\nQuestion 50: Extract all elements from each iterator\")\n",
        "print(\"\\nQuestion 50: Extract all elements from each iterator\")\n",
        "\n",
        "iterators_list = [iter([1, 2, 3]), iter([4, 5, 6])]\n",
        "\n",
        "extracted_elements = [list(it) for it in iterators_list]\n",
        "\n",
        "print(\"Extracted elements from each iterator:\", extracted_elements)\n"
      ],
      "metadata": {
        "colab": {
          "base_uri": "https://localhost:8080/"
        },
        "id": "gORNMYNnqQ_t",
        "outputId": "041dd359-e481-49cf-d18e-22790a15982d"
      },
      "execution_count": 50,
      "outputs": [
        {
          "output_type": "stream",
          "name": "stdout",
          "text": [
            "\n",
            "Question 50: Extract all elements from each iterator\n",
            "\n",
            "Question 50: Extract all elements from each iterator\n",
            "Extracted elements from each iterator: [[1, 2, 3], [4, 5, 6]]\n"
          ]
        }
      ]
    },
    {
      "cell_type": "code",
      "source": [],
      "metadata": {
        "id": "bgcNy_7uqQ3y"
      },
      "execution_count": null,
      "outputs": []
    },
    {
      "cell_type": "code",
      "source": [],
      "metadata": {
        "id": "hR24XRMiqQwX"
      },
      "execution_count": null,
      "outputs": []
    },
    {
      "cell_type": "code",
      "source": [],
      "metadata": {
        "id": "3b8OJNdAqQoj"
      },
      "execution_count": null,
      "outputs": []
    },
    {
      "cell_type": "code",
      "source": [],
      "metadata": {
        "id": "syJIHJ0oqQiS"
      },
      "execution_count": null,
      "outputs": []
    },
    {
      "cell_type": "code",
      "source": [],
      "metadata": {
        "id": "rCsTip54qQbV"
      },
      "execution_count": null,
      "outputs": []
    },
    {
      "cell_type": "code",
      "source": [],
      "metadata": {
        "id": "iA21JVTgqQWe"
      },
      "execution_count": null,
      "outputs": []
    },
    {
      "cell_type": "code",
      "source": [],
      "metadata": {
        "id": "43G6z4kMqQM4"
      },
      "execution_count": null,
      "outputs": []
    },
    {
      "cell_type": "code",
      "source": [],
      "metadata": {
        "id": "M61XiTMXkf8W"
      },
      "execution_count": null,
      "outputs": []
    }
  ]
}