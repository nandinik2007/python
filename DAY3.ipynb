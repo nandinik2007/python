{
 "cells": [
  {
   "cell_type": "code",
   "execution_count": 1,
   "id": "ff00aa83-315f-439e-9e8c-4aac90f84445",
   "metadata": {},
   "outputs": [],
   "source": [
    "##List...."
   ]
  },
  {
   "cell_type": "code",
   "execution_count": 4,
   "id": "e1230a06-b12f-415d-ae8d-cd0573751ab6",
   "metadata": {},
   "outputs": [],
   "source": [
    "x=[1,2.6,3,4,'data',2+4j]"
   ]
  },
  {
   "cell_type": "code",
   "execution_count": null,
   "id": "b1b99e39-62da-40d5-af3b-5a5e8ebf1a14",
   "metadata": {},
   "outputs": [],
   "source": []
  },
  {
   "cell_type": "code",
   "execution_count": 8,
   "id": "b3f18494-a953-45a1-acdf-190bbdc91a34",
   "metadata": {},
   "outputs": [
    {
     "name": "stdout",
     "output_type": "stream",
     "text": [
      "[1, 2.6, 3, 4, 'data', (2+4j)]\n"
     ]
    }
   ],
   "source": [
    "print(x)"
   ]
  },
  {
   "cell_type": "code",
   "execution_count": 9,
   "id": "c362d9d5-6d5a-42f6-873b-c553bd3bba67",
   "metadata": {},
   "outputs": [
    {
     "data": {
      "text/plain": [
       "list"
      ]
     },
     "execution_count": 9,
     "metadata": {},
     "output_type": "execute_result"
    }
   ],
   "source": [
    "type(x)"
   ]
  },
  {
   "cell_type": "code",
   "execution_count": null,
   "id": "cb1bd017-5c29-4be9-af9a-ed1f9dcf47bb",
   "metadata": {},
   "outputs": [],
   "source": []
  },
  {
   "cell_type": "code",
   "execution_count": 11,
   "id": "eb66c9be-1940-4378-952c-30573b6df721",
   "metadata": {},
   "outputs": [
    {
     "data": {
      "text/plain": [
       "(int, float, str, complex)"
      ]
     },
     "execution_count": 11,
     "metadata": {},
     "output_type": "execute_result"
    }
   ],
   "source": [
    "type(x[0]),type(x[1]),type(x[-2]),type(x[-1])"
   ]
  },
  {
   "cell_type": "code",
   "execution_count": null,
   "id": "e6f0f04a-9765-41f1-bba5-0af40d018736",
   "metadata": {},
   "outputs": [],
   "source": []
  },
  {
   "cell_type": "code",
   "execution_count": 12,
   "id": "8b5f745b-11b9-4357-af77-9864e9ce876b",
   "metadata": {},
   "outputs": [
    {
     "data": {
      "text/plain": [
       "6"
      ]
     },
     "execution_count": 12,
     "metadata": {},
     "output_type": "execute_result"
    }
   ],
   "source": [
    "len(x) ###length..."
   ]
  },
  {
   "cell_type": "code",
   "execution_count": 13,
   "id": "516e0bc4-5fce-411a-9742-74c3882fca5c",
   "metadata": {},
   "outputs": [],
   "source": [
    "x[0]=22"
   ]
  },
  {
   "cell_type": "code",
   "execution_count": 16,
   "id": "faa63f49-1f67-444b-9e60-bdbe68330324",
   "metadata": {},
   "outputs": [
    {
     "data": {
      "text/plain": [
       "[22, 2.6, 3, 4, 'data', (2+4j)]"
      ]
     },
     "execution_count": 16,
     "metadata": {},
     "output_type": "execute_result"
    }
   ],
   "source": [
    "x"
   ]
  },
  {
   "cell_type": "code",
   "execution_count": null,
   "id": "37f91e9d-be9f-4dff-8db4-663a758ac9af",
   "metadata": {},
   "outputs": [],
   "source": []
  },
  {
   "cell_type": "code",
   "execution_count": 17,
   "id": "d85d2091-5a22-4a4c-85da-731d024379f1",
   "metadata": {},
   "outputs": [],
   "source": [
    "###list is allow to changes therefore its call mutable function"
   ]
  },
  {
   "cell_type": "code",
   "execution_count": 18,
   "id": "a0fefca1-1cbb-4d88-bd20-05e3dc9bb933",
   "metadata": {},
   "outputs": [],
   "source": [
    "x=[1,2,3,[1,2,3]]"
   ]
  },
  {
   "cell_type": "code",
   "execution_count": 19,
   "id": "28169aa6-3733-47fa-ad28-d2eda5757e84",
   "metadata": {},
   "outputs": [
    {
     "data": {
      "text/plain": [
       "[1, 2, 3, [1, 2, 3]]"
      ]
     },
     "execution_count": 19,
     "metadata": {},
     "output_type": "execute_result"
    }
   ],
   "source": [
    "x"
   ]
  },
  {
   "cell_type": "code",
   "execution_count": 20,
   "id": "b72848b9-84a6-4f5f-bef0-2cea61eda7ba",
   "metadata": {},
   "outputs": [
    {
     "data": {
      "text/plain": [
       "4"
      ]
     },
     "execution_count": 20,
     "metadata": {},
     "output_type": "execute_result"
    }
   ],
   "source": [
    "len(x)"
   ]
  },
  {
   "cell_type": "code",
   "execution_count": 22,
   "id": "2bf4f480-bddd-4b04-8d0a-ee64c331c1d5",
   "metadata": {},
   "outputs": [
    {
     "data": {
      "text/plain": [
       "[1, 2, 3]"
      ]
     },
     "execution_count": 22,
     "metadata": {},
     "output_type": "execute_result"
    }
   ],
   "source": [
    "x[3]"
   ]
  },
  {
   "cell_type": "markdown",
   "id": "134856b4-0a95-45c8-a856-91372fdb285b",
   "metadata": {},
   "source": []
  },
  {
   "cell_type": "code",
   "execution_count": 23,
   "id": "391688c0-4fb7-4cbb-b9f2-ac2029433e4b",
   "metadata": {},
   "outputs": [
    {
     "data": {
      "text/plain": [
       "[1, 2, 3, [1, 2, 3]]"
      ]
     },
     "execution_count": 23,
     "metadata": {},
     "output_type": "execute_result"
    }
   ],
   "source": [
    "x"
   ]
  },
  {
   "cell_type": "code",
   "execution_count": 24,
   "id": "0e93ada1-0dbc-4866-b5a4-e06e110b9342",
   "metadata": {},
   "outputs": [
    {
     "data": {
      "text/plain": [
       "3"
      ]
     },
     "execution_count": 24,
     "metadata": {},
     "output_type": "execute_result"
    }
   ],
   "source": [
    "x[3][2]"
   ]
  },
  {
   "cell_type": "code",
   "execution_count": null,
   "id": "544d644d-7f0d-4ef3-971f-cdfaa90fc0f8",
   "metadata": {},
   "outputs": [],
   "source": []
  },
  {
   "cell_type": "code",
   "execution_count": 26,
   "id": "4cab5f29-234d-4742-b9f7-3d79a69e5e68",
   "metadata": {},
   "outputs": [],
   "source": [
    "x=[1,2,3,['data','science','machine'],['learning']]"
   ]
  },
  {
   "cell_type": "code",
   "execution_count": 27,
   "id": "0bf7779c-2361-460f-a91c-8f4ac982e980",
   "metadata": {},
   "outputs": [
    {
     "data": {
      "text/plain": [
       "[1, 2, 3, ['data', 'science', 'machine'], ['learning']]"
      ]
     },
     "execution_count": 27,
     "metadata": {},
     "output_type": "execute_result"
    }
   ],
   "source": [
    "x"
   ]
  },
  {
   "cell_type": "code",
   "execution_count": 28,
   "id": "349a2104-bc60-49f1-aebe-cced20ffdf8a",
   "metadata": {},
   "outputs": [
    {
     "data": {
      "text/plain": [
       "5"
      ]
     },
     "execution_count": 28,
     "metadata": {},
     "output_type": "execute_result"
    }
   ],
   "source": [
    "len((x))"
   ]
  },
  {
   "cell_type": "code",
   "execution_count": 29,
   "id": "c35a62c8-6061-44ed-9dd8-f03ff3c93567",
   "metadata": {},
   "outputs": [
    {
     "data": {
      "text/plain": [
       "['data', 'science', 'machine']"
      ]
     },
     "execution_count": 29,
     "metadata": {},
     "output_type": "execute_result"
    }
   ],
   "source": [
    "x[-2]"
   ]
  },
  {
   "cell_type": "code",
   "execution_count": 31,
   "id": "ae729758-3666-4068-87d7-cd154736b57d",
   "metadata": {},
   "outputs": [
    {
     "data": {
      "text/plain": [
       "'machine'"
      ]
     },
     "execution_count": 31,
     "metadata": {},
     "output_type": "execute_result"
    }
   ],
   "source": [
    "x[-2][-1]"
   ]
  },
  {
   "cell_type": "code",
   "execution_count": 32,
   "id": "98447ad2-217f-4122-bc64-eca63ece5e01",
   "metadata": {},
   "outputs": [
    {
     "data": {
      "text/plain": [
       "'ne'"
      ]
     },
     "execution_count": 32,
     "metadata": {},
     "output_type": "execute_result"
    }
   ],
   "source": [
    "x[-2][-1][-2:]"
   ]
  },
  {
   "cell_type": "code",
   "execution_count": 33,
   "id": "a5a3daab-fa26-40a1-ae38-4a4821e2c670",
   "metadata": {},
   "outputs": [
    {
     "data": {
      "text/plain": [
       "['learning']"
      ]
     },
     "execution_count": 33,
     "metadata": {},
     "output_type": "execute_result"
    }
   ],
   "source": [
    "x[-1][-3:]"
   ]
  },
  {
   "cell_type": "code",
   "execution_count": 34,
   "id": "02cccd19-16e9-4619-97af-2760eceeb8d6",
   "metadata": {},
   "outputs": [
    {
     "data": {
      "text/plain": [
       "'ing'"
      ]
     },
     "execution_count": 34,
     "metadata": {},
     "output_type": "execute_result"
    }
   ],
   "source": [
    "x[-1][-1][-3:]  ###by using -ve index..."
   ]
  },
  {
   "cell_type": "code",
   "execution_count": 36,
   "id": "5f3ddae3-3af4-4035-89d3-60dd96606886",
   "metadata": {},
   "outputs": [
    {
     "data": {
      "text/plain": [
       "'ing'"
      ]
     },
     "execution_count": 36,
     "metadata": {},
     "output_type": "execute_result"
    }
   ],
   "source": [
    "x[4][0][5:]  ###by using +ve index"
   ]
  },
  {
   "cell_type": "code",
   "execution_count": 38,
   "id": "bbc3f541-0a32-468d-a29a-151920d75952",
   "metadata": {},
   "outputs": [
    {
     "data": {
      "text/plain": [
       "'ING'"
      ]
     },
     "execution_count": 38,
     "metadata": {},
     "output_type": "execute_result"
    }
   ],
   "source": [
    "x[-1][-1][-3:].swapcase()"
   ]
  },
  {
   "cell_type": "code",
   "execution_count": 39,
   "id": "881e0a22-be50-48a3-85c3-d217ce28df80",
   "metadata": {},
   "outputs": [
    {
     "data": {
      "text/plain": [
       "'ING'"
      ]
     },
     "execution_count": 39,
     "metadata": {},
     "output_type": "execute_result"
    }
   ],
   "source": [
    "x[-1][-1][-3:].upper()"
   ]
  },
  {
   "cell_type": "code",
   "execution_count": null,
   "id": "8272f0a8-363a-4dd7-a150-32678f9cd404",
   "metadata": {},
   "outputs": [],
   "source": []
  },
  {
   "cell_type": "code",
   "execution_count": 49,
   "id": "671632e4-ee16-47fe-ab73-acd1839dab25",
   "metadata": {},
   "outputs": [],
   "source": [
    "tempereture_data =  [ [   # Week 1\n",
    "        [\"Monday\",    [24.5, 34.2, 22.1, 36.0]],\n",
    "        [\"Tuesday\",   [25.0, 33.5, 23.0, 35.5]],\n",
    "        [\"Wednesday\", [23.8, 32.0, 21.5, 34.0]],\n",
    "    ],\n",
    "    [   # Week 2\n",
    "        [\"Monday\",    [26.1, 35.0, 24.2, 37.2]],\n",
    "        [\"Tuesday\",   [25.8, 34.5, 23.7, 36.1]],\n",
    "        [\"Wednesday\", [24.9, 33.3, 22.5, 35.7]],\n",
    "    ]\n",
    "]"
   ]
  },
  {
   "cell_type": "code",
   "execution_count": 50,
   "id": "11fd46b1-dfd6-4c79-be26-a6e10513aca4",
   "metadata": {},
   "outputs": [
    {
     "data": {
      "text/plain": [
       "[['Monday', [24.5, 34.2, 22.1, 36.0]],\n",
       " ['Tuesday', [25.0, 33.5, 23.0, 35.5]],\n",
       " ['Wednesday', [23.8, 32.0, 21.5, 34.0]]]"
      ]
     },
     "execution_count": 50,
     "metadata": {},
     "output_type": "execute_result"
    }
   ],
   "source": [
    "tempereture_data[0]"
   ]
  },
  {
   "cell_type": "code",
   "execution_count": 54,
   "id": "80767482-73cc-4b24-af9d-8fe54705eadb",
   "metadata": {},
   "outputs": [
    {
     "data": {
      "text/plain": [
       "[23.8, 32.0, 21.5, 34.0]"
      ]
     },
     "execution_count": 54,
     "metadata": {},
     "output_type": "execute_result"
    }
   ],
   "source": [
    "tempereture_data[0][2][1]"
   ]
  },
  {
   "cell_type": "code",
   "execution_count": 55,
   "id": "ec5bafe8-4bad-4e16-9318-adf7de91f207",
   "metadata": {},
   "outputs": [
    {
     "data": {
      "text/plain": [
       "21.5"
      ]
     },
     "execution_count": 55,
     "metadata": {},
     "output_type": "execute_result"
    }
   ],
   "source": [
    "tempereture_data[0][2][1][2]"
   ]
  },
  {
   "cell_type": "code",
   "execution_count": null,
   "id": "4f65da02-5a5d-4e51-a631-235e46c51bb7",
   "metadata": {},
   "outputs": [],
   "source": []
  },
  {
   "cell_type": "code",
   "execution_count": 57,
   "id": "8ef2aaf8-129a-4af5-b3b5-401f0ed218bf",
   "metadata": {},
   "outputs": [
    {
     "data": {
      "text/plain": [
       "36.1"
      ]
     },
     "execution_count": 57,
     "metadata": {},
     "output_type": "execute_result"
    }
   ],
   "source": [
    "tempereture_data[1][1][1][-1]"
   ]
  },
  {
   "cell_type": "code",
   "execution_count": null,
   "id": "e9d9dca0-bfaa-4872-b002-b445f1c60326",
   "metadata": {},
   "outputs": [],
   "source": []
  },
  {
   "cell_type": "code",
   "execution_count": 58,
   "id": "40cbf492-08e8-47a6-954d-349e5db7b250",
   "metadata": {},
   "outputs": [
    {
     "data": {
      "text/plain": [
       "36.1"
      ]
     },
     "execution_count": 58,
     "metadata": {},
     "output_type": "execute_result"
    }
   ],
   "source": [
    "tempereture_data[-1][-2][-1][-1]"
   ]
  },
  {
   "cell_type": "code",
   "execution_count": null,
   "id": "827b44c8-f08c-43ad-9177-67b5179d0f42",
   "metadata": {},
   "outputs": [],
   "source": []
  },
  {
   "cell_type": "code",
   "execution_count": 59,
   "id": "56dfe36a-4f41-4edf-a37c-76a7669659e5",
   "metadata": {},
   "outputs": [],
   "source": [
    "### Append...."
   ]
  },
  {
   "cell_type": "code",
   "execution_count": 60,
   "id": "b728b905-9fa2-4729-b101-8ab654c300d8",
   "metadata": {},
   "outputs": [],
   "source": [
    "x=[1,2,3]"
   ]
  },
  {
   "cell_type": "code",
   "execution_count": 61,
   "id": "a7805999-5f65-44b3-ba82-51cabc4cb346",
   "metadata": {},
   "outputs": [
    {
     "data": {
      "text/plain": [
       "[1, 2, 3]"
      ]
     },
     "execution_count": 61,
     "metadata": {},
     "output_type": "execute_result"
    }
   ],
   "source": [
    "x\n"
   ]
  },
  {
   "cell_type": "code",
   "execution_count": 64,
   "id": "4c2648ea-0f7d-4b42-af47-1d50ba8af577",
   "metadata": {},
   "outputs": [],
   "source": [
    "x.append(4)"
   ]
  },
  {
   "cell_type": "code",
   "execution_count": null,
   "id": "5ddb9502-8248-4455-bc2a-b8a66983ac35",
   "metadata": {},
   "outputs": [],
   "source": []
  },
  {
   "cell_type": "code",
   "execution_count": 65,
   "id": "9d55e7f0-e091-49cd-8735-237a91da4b5f",
   "metadata": {},
   "outputs": [
    {
     "data": {
      "text/plain": [
       "[1, 2, 3, 4]"
      ]
     },
     "execution_count": 65,
     "metadata": {},
     "output_type": "execute_result"
    }
   ],
   "source": [
    "x\n"
   ]
  },
  {
   "cell_type": "code",
   "execution_count": 66,
   "id": "fe2aa125-69c3-4807-84ea-13cf349d4396",
   "metadata": {},
   "outputs": [],
   "source": [
    "x.append('data')"
   ]
  },
  {
   "cell_type": "code",
   "execution_count": 67,
   "id": "2aa7f2ef-c292-45aa-a954-17750aba2688",
   "metadata": {},
   "outputs": [
    {
     "data": {
      "text/plain": [
       "[1, 2, 3, 4, 'data']"
      ]
     },
     "execution_count": 67,
     "metadata": {},
     "output_type": "execute_result"
    }
   ],
   "source": [
    "x"
   ]
  },
  {
   "cell_type": "code",
   "execution_count": 68,
   "id": "d5c87f27-ec3f-4bdf-a069-cca81c4c29a2",
   "metadata": {},
   "outputs": [],
   "source": [
    "x.append([1,2,3])"
   ]
  },
  {
   "cell_type": "code",
   "execution_count": 69,
   "id": "dd7152c3-9975-461b-98ff-6b68f9d5bef8",
   "metadata": {},
   "outputs": [
    {
     "data": {
      "text/plain": [
       "[1, 2, 3, 4, 'data', [1, 2, 3]]"
      ]
     },
     "execution_count": 69,
     "metadata": {},
     "output_type": "execute_result"
    }
   ],
   "source": [
    "x"
   ]
  },
  {
   "cell_type": "code",
   "execution_count": null,
   "id": "8ce87b7e-c943-467f-a36f-d6f17c18ad53",
   "metadata": {},
   "outputs": [],
   "source": []
  },
  {
   "cell_type": "code",
   "execution_count": 70,
   "id": "e03ec589-0417-4cca-a4e8-0cb6cbdeee61",
   "metadata": {},
   "outputs": [],
   "source": [
    "x=[1,2,3]"
   ]
  },
  {
   "cell_type": "code",
   "execution_count": 71,
   "id": "0596b84f-97c8-450c-9501-a15dc7982037",
   "metadata": {},
   "outputs": [
    {
     "data": {
      "text/plain": [
       "[1, 2, 3]"
      ]
     },
     "execution_count": 71,
     "metadata": {},
     "output_type": "execute_result"
    }
   ],
   "source": [
    "x\n"
   ]
  },
  {
   "cell_type": "code",
   "execution_count": null,
   "id": "5cf37f1b-18e5-4ada-80af-d752afa24fb6",
   "metadata": {},
   "outputs": [],
   "source": []
  },
  {
   "cell_type": "code",
   "execution_count": 72,
   "id": "5f2284d8-cef2-4e14-b202-ac97cc83444d",
   "metadata": {},
   "outputs": [],
   "source": [
    "###Extend..."
   ]
  },
  {
   "cell_type": "code",
   "execution_count": 74,
   "id": "25d24983-dd9f-4140-bfc5-fb09d985800f",
   "metadata": {},
   "outputs": [
    {
     "data": {
      "text/plain": [
       "[1, 2, 3]"
      ]
     },
     "execution_count": 74,
     "metadata": {},
     "output_type": "execute_result"
    }
   ],
   "source": [
    "x"
   ]
  },
  {
   "cell_type": "code",
   "execution_count": 75,
   "id": "2489fd30-eeda-4287-b2fe-b3dba14044b7",
   "metadata": {},
   "outputs": [],
   "source": [
    "x.extend([1,2,3])"
   ]
  },
  {
   "cell_type": "code",
   "execution_count": 76,
   "id": "5ae933f0-05ba-4a1f-9626-b50a169d5ad3",
   "metadata": {},
   "outputs": [
    {
     "data": {
      "text/plain": [
       "[1, 2, 3, 1, 2, 3]"
      ]
     },
     "execution_count": 76,
     "metadata": {},
     "output_type": "execute_result"
    }
   ],
   "source": [
    "x\n"
   ]
  },
  {
   "cell_type": "code",
   "execution_count": null,
   "id": "f95a83ad-422e-4767-a3d9-444b52ede53a",
   "metadata": {},
   "outputs": [],
   "source": []
  },
  {
   "cell_type": "code",
   "execution_count": 77,
   "id": "b08889d4-c906-427e-a56e-8740c9ce2531",
   "metadata": {},
   "outputs": [],
   "source": [
    "x.extend('data')"
   ]
  },
  {
   "cell_type": "code",
   "execution_count": null,
   "id": "d5d503c1-f65f-4b4a-995c-838b19e67c28",
   "metadata": {},
   "outputs": [],
   "source": []
  },
  {
   "cell_type": "code",
   "execution_count": 78,
   "id": "4676bf77-38af-4f08-9975-08e2c3cb5ded",
   "metadata": {},
   "outputs": [
    {
     "data": {
      "text/plain": [
       "[1, 2, 3, 1, 2, 3, 'd', 'a', 't', 'a']"
      ]
     },
     "execution_count": 78,
     "metadata": {},
     "output_type": "execute_result"
    }
   ],
   "source": [
    "x\n"
   ]
  },
  {
   "cell_type": "code",
   "execution_count": null,
   "id": "ae4fab5e-4439-4e1d-9463-528c9e6f1028",
   "metadata": {},
   "outputs": [],
   "source": []
  },
  {
   "cell_type": "code",
   "execution_count": 79,
   "id": "4e03289a-28bf-4de0-8931-7c295ccb6887",
   "metadata": {},
   "outputs": [],
   "source": [
    "x.extend(['data'])"
   ]
  },
  {
   "cell_type": "code",
   "execution_count": 80,
   "id": "840356ea-3026-41b7-a1aa-b77e44ecb94c",
   "metadata": {},
   "outputs": [
    {
     "data": {
      "text/plain": [
       "[1, 2, 3, 1, 2, 3, 'd', 'a', 't', 'a', 'data']"
      ]
     },
     "execution_count": 80,
     "metadata": {},
     "output_type": "execute_result"
    }
   ],
   "source": [
    "x"
   ]
  },
  {
   "cell_type": "code",
   "execution_count": null,
   "id": "6bc120df-b961-4a2b-9695-a7ce706f0a92",
   "metadata": {},
   "outputs": [],
   "source": [
    "####Remove....."
   ]
  },
  {
   "cell_type": "code",
   "execution_count": 81,
   "id": "87c366d4-9aa5-4708-8efa-fe946b92ed11",
   "metadata": {},
   "outputs": [],
   "source": [
    "x=[1,2,3,4,5]"
   ]
  },
  {
   "cell_type": "code",
   "execution_count": null,
   "id": "321e5ba0-eacc-4939-88d6-945f8d21644e",
   "metadata": {},
   "outputs": [],
   "source": []
  },
  {
   "cell_type": "code",
   "execution_count": 82,
   "id": "b5ae957e-05bd-49a0-a157-5e9ea723a853",
   "metadata": {},
   "outputs": [
    {
     "data": {
      "text/plain": [
       "[1, 2, 3, 4, 5]"
      ]
     },
     "execution_count": 82,
     "metadata": {},
     "output_type": "execute_result"
    }
   ],
   "source": [
    "x"
   ]
  },
  {
   "cell_type": "code",
   "execution_count": 83,
   "id": "5c960818-4350-4d85-b097-1ef4396c0b38",
   "metadata": {},
   "outputs": [],
   "source": [
    "x.remove(1)"
   ]
  },
  {
   "cell_type": "code",
   "execution_count": 84,
   "id": "5d76261c-a440-406a-a467-1957caeb389b",
   "metadata": {},
   "outputs": [
    {
     "data": {
      "text/plain": [
       "[2, 3, 4, 5]"
      ]
     },
     "execution_count": 84,
     "metadata": {},
     "output_type": "execute_result"
    }
   ],
   "source": [
    "x"
   ]
  },
  {
   "cell_type": "code",
   "execution_count": 86,
   "id": "754ef827-d443-427e-b29e-bc30f5576fbe",
   "metadata": {},
   "outputs": [
    {
     "data": {
      "text/plain": [
       "[2, 3, 4, 5]"
      ]
     },
     "execution_count": 86,
     "metadata": {},
     "output_type": "execute_result"
    }
   ],
   "source": [
    "x"
   ]
  },
  {
   "cell_type": "code",
   "execution_count": 87,
   "id": "9b7c9f25-9f67-43c2-84c8-ba381f88ceaa",
   "metadata": {},
   "outputs": [],
   "source": [
    "x.remove(5)"
   ]
  },
  {
   "cell_type": "code",
   "execution_count": 88,
   "id": "7935e9ef-49b8-416e-8e36-ceaafca17751",
   "metadata": {},
   "outputs": [
    {
     "data": {
      "text/plain": [
       "[2, 3, 4]"
      ]
     },
     "execution_count": 88,
     "metadata": {},
     "output_type": "execute_result"
    }
   ],
   "source": [
    "x"
   ]
  },
  {
   "cell_type": "code",
   "execution_count": null,
   "id": "6e4ad89d-1183-47b1-89aa-0111c9495ed3",
   "metadata": {},
   "outputs": [],
   "source": []
  },
  {
   "cell_type": "code",
   "execution_count": 89,
   "id": "30e53b72-a935-4637-a2f4-0607ad38a32d",
   "metadata": {},
   "outputs": [],
   "source": [
    "####Insert...."
   ]
  },
  {
   "cell_type": "code",
   "execution_count": 90,
   "id": "efdf5831-1d2c-4403-b519-600029378a9c",
   "metadata": {},
   "outputs": [],
   "source": [
    "x.insert(2,'data')"
   ]
  },
  {
   "cell_type": "code",
   "execution_count": 91,
   "id": "c41d280f-d784-4f83-9a0f-246a55601c0d",
   "metadata": {},
   "outputs": [
    {
     "data": {
      "text/plain": [
       "[2, 3, 'data', 4]"
      ]
     },
     "execution_count": 91,
     "metadata": {},
     "output_type": "execute_result"
    }
   ],
   "source": [
    "x"
   ]
  },
  {
   "cell_type": "code",
   "execution_count": null,
   "id": "0d4e1db6-aae7-40e8-9106-afca49e52c3c",
   "metadata": {},
   "outputs": [],
   "source": [
    "####Sort....."
   ]
  },
  {
   "cell_type": "code",
   "execution_count": 96,
   "id": "67e45121-3ab8-4dfd-a6b6-c300f5da8a02",
   "metadata": {},
   "outputs": [],
   "source": [
    "x=[1,2,22.3,3,6,10]"
   ]
  },
  {
   "cell_type": "code",
   "execution_count": 97,
   "id": "aaac671c-18c6-491a-8834-503b56ff4d05",
   "metadata": {},
   "outputs": [
    {
     "data": {
      "text/plain": [
       "[1, 2, 22.3, 3, 6, 10]"
      ]
     },
     "execution_count": 97,
     "metadata": {},
     "output_type": "execute_result"
    }
   ],
   "source": [
    "x"
   ]
  },
  {
   "cell_type": "code",
   "execution_count": 98,
   "id": "e8df12e6-f84c-4615-8124-61dc0fd83f12",
   "metadata": {},
   "outputs": [],
   "source": [
    "x.sort()"
   ]
  },
  {
   "cell_type": "code",
   "execution_count": 99,
   "id": "ad7d091a-63ab-46cf-83b0-c93f495dd5a6",
   "metadata": {},
   "outputs": [
    {
     "data": {
      "text/plain": [
       "[1, 2, 3, 6, 10, 22.3]"
      ]
     },
     "execution_count": 99,
     "metadata": {},
     "output_type": "execute_result"
    }
   ],
   "source": [
    "x"
   ]
  },
  {
   "cell_type": "code",
   "execution_count": null,
   "id": "5da53983-28c3-4081-b932-50ffa7b52bb1",
   "metadata": {},
   "outputs": [],
   "source": []
  },
  {
   "cell_type": "code",
   "execution_count": 102,
   "id": "21d08ffa-789e-46b5-825f-572245ac030b",
   "metadata": {},
   "outputs": [],
   "source": [
    "x=['adb','sef','xvz','qwe']"
   ]
  },
  {
   "cell_type": "code",
   "execution_count": 103,
   "id": "714e42ab-3497-4d37-a973-b4f366be171d",
   "metadata": {},
   "outputs": [
    {
     "data": {
      "text/plain": [
       "['adb', 'sef', 'xvz', 'qwe']"
      ]
     },
     "execution_count": 103,
     "metadata": {},
     "output_type": "execute_result"
    }
   ],
   "source": [
    "x\n"
   ]
  },
  {
   "cell_type": "code",
   "execution_count": 104,
   "id": "e60d1b8b-9341-48db-8b9a-7de38a6ffd91",
   "metadata": {},
   "outputs": [],
   "source": [
    "x.sort()"
   ]
  },
  {
   "cell_type": "code",
   "execution_count": 105,
   "id": "4f014792-6be6-4a8a-97af-4879055ed724",
   "metadata": {},
   "outputs": [
    {
     "data": {
      "text/plain": [
       "['adb', 'qwe', 'sef', 'xvz']"
      ]
     },
     "execution_count": 105,
     "metadata": {},
     "output_type": "execute_result"
    }
   ],
   "source": [
    "x"
   ]
  },
  {
   "cell_type": "code",
   "execution_count": null,
   "id": "093cf735-f509-43a9-b310-e4a87e46f0bd",
   "metadata": {},
   "outputs": [],
   "source": []
  },
  {
   "cell_type": "code",
   "execution_count": 106,
   "id": "e8f5a34a-dee6-4248-adf5-57fb5711a04d",
   "metadata": {},
   "outputs": [],
   "source": [
    "####To Sort Data At descending Order....."
   ]
  },
  {
   "cell_type": "code",
   "execution_count": 108,
   "id": "1cc89072-5df8-476b-859f-ec6557c2e565",
   "metadata": {},
   "outputs": [],
   "source": [
    "x.sort(reverse=True)"
   ]
  },
  {
   "cell_type": "code",
   "execution_count": 109,
   "id": "7708243b-a6d2-43a1-ad73-db19f412982a",
   "metadata": {},
   "outputs": [
    {
     "data": {
      "text/plain": [
       "['xvz', 'sef', 'qwe', 'adb']"
      ]
     },
     "execution_count": 109,
     "metadata": {},
     "output_type": "execute_result"
    }
   ],
   "source": [
    "x"
   ]
  },
  {
   "cell_type": "code",
   "execution_count": 110,
   "id": "7b8776c6-1f21-4f0f-a6bc-266520bc8ed8",
   "metadata": {},
   "outputs": [],
   "source": [
    "x=[1,2,22.3,3,6,10]"
   ]
  },
  {
   "cell_type": "code",
   "execution_count": 111,
   "id": "3b8a4310-92c6-4cd6-affc-866f43ab17f5",
   "metadata": {},
   "outputs": [
    {
     "data": {
      "text/plain": [
       "[1, 2, 22.3, 3, 6, 10]"
      ]
     },
     "execution_count": 111,
     "metadata": {},
     "output_type": "execute_result"
    }
   ],
   "source": [
    "x"
   ]
  },
  {
   "cell_type": "code",
   "execution_count": 112,
   "id": "5db6bb2b-4888-45e4-934e-edf94ad29197",
   "metadata": {},
   "outputs": [],
   "source": [
    "x.sort(reverse=True)"
   ]
  },
  {
   "cell_type": "code",
   "execution_count": 113,
   "id": "a487a860-aebd-4c0a-a104-fb947cdb922c",
   "metadata": {},
   "outputs": [
    {
     "data": {
      "text/plain": [
       "[22.3, 10, 6, 3, 2, 1]"
      ]
     },
     "execution_count": 113,
     "metadata": {},
     "output_type": "execute_result"
    }
   ],
   "source": [
    "x"
   ]
  },
  {
   "cell_type": "code",
   "execution_count": null,
   "id": "8cf11e1c-39a3-4334-8e5a-9e0649792f08",
   "metadata": {},
   "outputs": [],
   "source": []
  },
  {
   "cell_type": "code",
   "execution_count": 114,
   "id": "21e126d4-9132-4659-91e9-8f6b32ae545a",
   "metadata": {},
   "outputs": [],
   "source": [
    "####reverse.....only get data in reverse(mirror) Format"
   ]
  },
  {
   "cell_type": "code",
   "execution_count": 115,
   "id": "ebc37006-86bd-41de-8597-27486b2987f4",
   "metadata": {},
   "outputs": [],
   "source": [
    "x=[1,2,22.3,3,6,10]"
   ]
  },
  {
   "cell_type": "code",
   "execution_count": 116,
   "id": "15095880-e56f-4b1e-9616-be29dc6f658c",
   "metadata": {},
   "outputs": [
    {
     "data": {
      "text/plain": [
       "[1, 2, 22.3, 3, 6, 10]"
      ]
     },
     "execution_count": 116,
     "metadata": {},
     "output_type": "execute_result"
    }
   ],
   "source": [
    "x"
   ]
  },
  {
   "cell_type": "code",
   "execution_count": 117,
   "id": "07aed624-8e92-45e5-bbfd-44bb0d0eb5b3",
   "metadata": {},
   "outputs": [],
   "source": [
    "x.reverse()"
   ]
  },
  {
   "cell_type": "code",
   "execution_count": 118,
   "id": "3534361c-c8e9-4432-b135-99dd75582895",
   "metadata": {},
   "outputs": [
    {
     "data": {
      "text/plain": [
       "[10, 6, 3, 22.3, 2, 1]"
      ]
     },
     "execution_count": 118,
     "metadata": {},
     "output_type": "execute_result"
    }
   ],
   "source": [
    "x"
   ]
  },
  {
   "cell_type": "code",
   "execution_count": 119,
   "id": "5e7a1321-5fba-481f-bb2c-446a911ff119",
   "metadata": {},
   "outputs": [],
   "source": [
    "x=['data',1,4,6,'shubham']"
   ]
  },
  {
   "cell_type": "code",
   "execution_count": 120,
   "id": "e0dc17f5-129f-4115-bdcf-3c34d6d7a5bc",
   "metadata": {},
   "outputs": [
    {
     "data": {
      "text/plain": [
       "['data', 1, 4, 6, 'shubham']"
      ]
     },
     "execution_count": 120,
     "metadata": {},
     "output_type": "execute_result"
    }
   ],
   "source": [
    "x\n"
   ]
  },
  {
   "cell_type": "code",
   "execution_count": 121,
   "id": "c10b3300-c583-49e2-abf9-ebd3b95100b2",
   "metadata": {},
   "outputs": [],
   "source": [
    "x.reverse()"
   ]
  },
  {
   "cell_type": "code",
   "execution_count": 122,
   "id": "1c200945-c607-4282-ab37-9e85c65ab7d8",
   "metadata": {},
   "outputs": [
    {
     "data": {
      "text/plain": [
       "['shubham', 6, 4, 1, 'data']"
      ]
     },
     "execution_count": 122,
     "metadata": {},
     "output_type": "execute_result"
    }
   ],
   "source": [
    "x"
   ]
  },
  {
   "cell_type": "code",
   "execution_count": null,
   "id": "9a20dde6-2ae5-4e8c-8f6f-ceb992535c33",
   "metadata": {},
   "outputs": [],
   "source": []
  },
  {
   "cell_type": "code",
   "execution_count": null,
   "id": "584b3fd9-573b-4734-9014-cc2248571106",
   "metadata": {},
   "outputs": [],
   "source": []
  }
 ],
 "metadata": {
  "kernelspec": {
   "display_name": "Python 3 (ipykernel)",
   "language": "python",
   "name": "python3"
  },
  "language_info": {
   "codemirror_mode": {
    "name": "ipython",
    "version": 3
   },
   "file_extension": ".py",
   "mimetype": "text/x-python",
   "name": "python",
   "nbconvert_exporter": "python",
   "pygments_lexer": "ipython3",
   "version": "3.13.5"
  }
 },
 "nbformat": 4,
 "nbformat_minor": 5
}
