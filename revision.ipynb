{
 "cells": [
  {
   "cell_type": "code",
   "execution_count": 4,
   "id": "a2cc51a2-4cc4-4ff8-aaa0-25e9d00ad8a4",
   "metadata": {},
   "outputs": [],
   "source": [
    "x=\"123\""
   ]
  },
  {
   "cell_type": "code",
   "execution_count": 5,
   "id": "15b95847-d278-462a-ad1f-1fe2d629baf1",
   "metadata": {},
   "outputs": [
    {
     "data": {
      "text/plain": [
       "True"
      ]
     },
     "execution_count": 5,
     "metadata": {},
     "output_type": "execute_result"
    }
   ],
   "source": [
    "x.isdigit()"
   ]
  },
  {
   "cell_type": "code",
   "execution_count": 6,
   "id": "8800ad13-7717-47cf-8e9c-3dd07bf097bc",
   "metadata": {},
   "outputs": [
    {
     "data": {
      "text/plain": [
       "['SHUBHAM', 'SARADE']"
      ]
     },
     "execution_count": 6,
     "metadata": {},
     "output_type": "execute_result"
    }
   ],
   "source": [
    "x='SHUBHAM SARADE'\n",
    "x.split()"
   ]
  },
  {
   "cell_type": "code",
   "execution_count": 9,
   "id": "9cf6cd2f-76bb-4deb-a7d4-d8c01b528a8b",
   "metadata": {},
   "outputs": [
    {
     "data": {
      "text/plain": [
       "['shubham', 'sarade']"
      ]
     },
     "execution_count": 9,
     "metadata": {},
     "output_type": "execute_result"
    }
   ],
   "source": [
    "x=\"shubham=sarade\"\n",
    "x.split('=')"
   ]
  },
  {
   "cell_type": "code",
   "execution_count": 10,
   "id": "d6f11c57-946c-4967-8bf3-d3441849ccec",
   "metadata": {},
   "outputs": [
    {
     "data": {
      "text/plain": [
       "['shubha', 'sarade']"
      ]
     },
     "execution_count": 10,
     "metadata": {},
     "output_type": "execute_result"
    }
   ],
   "source": [
    "x='shubhamsarade'\n",
    "x.split('m')"
   ]
  },
  {
   "cell_type": "code",
   "execution_count": 12,
   "id": "5382fb2c-c2e8-47c8-ba79-e0392008d87e",
   "metadata": {},
   "outputs": [
    {
     "data": {
      "text/plain": [
       "['shubh', 'ms', 'r', 'de']"
      ]
     },
     "execution_count": 12,
     "metadata": {},
     "output_type": "execute_result"
    }
   ],
   "source": [
    "x.split('a')"
   ]
  },
  {
   "cell_type": "code",
   "execution_count": 14,
   "id": "8220abe6-f964-4bcd-8d5d-e695a901b55b",
   "metadata": {},
   "outputs": [
    {
     "data": {
      "text/plain": [
       "['d', 't', '']"
      ]
     },
     "execution_count": 14,
     "metadata": {},
     "output_type": "execute_result"
    }
   ],
   "source": [
    "x='data'\n",
    "x.split('a')"
   ]
  },
  {
   "cell_type": "code",
   "execution_count": 15,
   "id": "2991bd83-8a6b-4118-84ee-20894786d901",
   "metadata": {},
   "outputs": [
    {
     "data": {
      "text/plain": [
       "2"
      ]
     },
     "execution_count": 15,
     "metadata": {},
     "output_type": "execute_result"
    }
   ],
   "source": [
    "x.count('a')"
   ]
  },
  {
   "cell_type": "code",
   "execution_count": 17,
   "id": "70deeaa8-0424-494c-b323-922f06b97ecd",
   "metadata": {},
   "outputs": [
    {
     "data": {
      "text/plain": [
       "1"
      ]
     },
     "execution_count": 17,
     "metadata": {},
     "output_type": "execute_result"
    }
   ],
   "source": [
    "x.count('d')"
   ]
  },
  {
   "cell_type": "code",
   "execution_count": 24,
   "id": "0b4abc6d-dfd3-4747-9bb4-70f05594a98e",
   "metadata": {},
   "outputs": [
    {
     "data": {
      "text/plain": [
       "'bala sarade'"
      ]
     },
     "execution_count": 24,
     "metadata": {},
     "output_type": "execute_result"
    }
   ],
   "source": [
    "x='shubham sarade'\n",
    "x.replace('shubham','bala')\n",
    "\n",
    "\n"
   ]
  },
  {
   "cell_type": "code",
   "execution_count": 25,
   "id": "84fff911-9786-463d-ba2f-7244e9e7949d",
   "metadata": {},
   "outputs": [
    {
     "data": {
      "text/plain": [
       "'shubham sarade'"
      ]
     },
     "execution_count": 25,
     "metadata": {},
     "output_type": "execute_result"
    }
   ],
   "source": [
    "x"
   ]
  },
  {
   "cell_type": "code",
   "execution_count": 26,
   "id": "a138b134-f429-4251-a1e7-9679e5412494",
   "metadata": {},
   "outputs": [
    {
     "data": {
      "text/plain": [
       "0"
      ]
     },
     "execution_count": 26,
     "metadata": {},
     "output_type": "execute_result"
    }
   ],
   "source": [
    "x.index('s')\n"
   ]
  },
  {
   "cell_type": "code",
   "execution_count": 29,
   "id": "b827fcb2-d447-4302-ae5d-4265b56e8e74",
   "metadata": {},
   "outputs": [
    {
     "data": {
      "text/plain": [
       "8"
      ]
     },
     "execution_count": 29,
     "metadata": {},
     "output_type": "execute_result"
    }
   ],
   "source": [
    "x.index('s',1)"
   ]
  },
  {
   "cell_type": "markdown",
   "id": "d9f321ba-0c73-4316-8ae5-13979f337752",
   "metadata": {},
   "source": []
  },
  {
   "cell_type": "code",
   "execution_count": 30,
   "id": "a4554547-19a1-415f-bd0c-879dc722f89c",
   "metadata": {},
   "outputs": [
    {
     "data": {
      "text/plain": [
       "'shubh'"
      ]
     },
     "execution_count": 30,
     "metadata": {},
     "output_type": "execute_result"
    }
   ],
   "source": [
    "x[0:5]"
   ]
  },
  {
   "cell_type": "code",
   "execution_count": 32,
   "id": "2872a5dc-3e54-4746-bf7a-828445071ea8",
   "metadata": {},
   "outputs": [
    {
     "data": {
      "text/plain": [
       "'shubham'"
      ]
     },
     "execution_count": 32,
     "metadata": {},
     "output_type": "execute_result"
    }
   ],
   "source": [
    "x[:7]"
   ]
  },
  {
   "cell_type": "code",
   "execution_count": 33,
   "id": "2170d9d7-602a-4e35-a228-7a3ce66407c5",
   "metadata": {},
   "outputs": [
    {
     "data": {
      "text/plain": [
       "'sarade'"
      ]
     },
     "execution_count": 33,
     "metadata": {},
     "output_type": "execute_result"
    }
   ],
   "source": [
    "x[8:]"
   ]
  },
  {
   "cell_type": "code",
   "execution_count": 34,
   "id": "d7382c8c-5f41-4b6c-960a-33ff7e7f6028",
   "metadata": {},
   "outputs": [
    {
     "data": {
      "text/plain": [
       "'shubham sarade'"
      ]
     },
     "execution_count": 34,
     "metadata": {},
     "output_type": "execute_result"
    }
   ],
   "source": [
    "x"
   ]
  },
  {
   "cell_type": "code",
   "execution_count": 35,
   "id": "e6cccd16-4b93-460e-885f-568aea8bc6b4",
   "metadata": {},
   "outputs": [
    {
     "data": {
      "text/plain": [
       "'ADE'"
      ]
     },
     "execution_count": 35,
     "metadata": {},
     "output_type": "execute_result"
    }
   ],
   "source": [
    "x.upper()[-3:]"
   ]
  },
  {
   "cell_type": "code",
   "execution_count": 43,
   "id": "9845e505-48ae-4add-b2f4-f33261d94c61",
   "metadata": {},
   "outputs": [
    {
     "data": {
      "text/plain": [
       "'SARADE'"
      ]
     },
     "execution_count": 43,
     "metadata": {},
     "output_type": "execute_result"
    }
   ],
   "source": [
    "x.split(' ')[1].swapcase()\n"
   ]
  },
  {
   "cell_type": "code",
   "execution_count": 44,
   "id": "64513ee8-1ec9-4175-9442-af30da7e96f9",
   "metadata": {},
   "outputs": [
    {
     "data": {
      "text/plain": [
       "'shubham sarade'"
      ]
     },
     "execution_count": 44,
     "metadata": {},
     "output_type": "execute_result"
    }
   ],
   "source": [
    "x"
   ]
  },
  {
   "cell_type": "code",
   "execution_count": 45,
   "id": "8fa26576-b3be-427d-a796-a6372c67e98a",
   "metadata": {},
   "outputs": [
    {
     "data": {
      "text/plain": [
       "0"
      ]
     },
     "execution_count": 45,
     "metadata": {},
     "output_type": "execute_result"
    }
   ],
   "source": [
    "x.find('s')"
   ]
  },
  {
   "cell_type": "code",
   "execution_count": 46,
   "id": "d3b9d485-78e2-4c71-acac-0f19401d568d",
   "metadata": {},
   "outputs": [
    {
     "data": {
      "text/plain": [
       "8"
      ]
     },
     "execution_count": 46,
     "metadata": {},
     "output_type": "execute_result"
    }
   ],
   "source": [
    "x.find('s',1)"
   ]
  },
  {
   "cell_type": "code",
   "execution_count": 53,
   "id": "3acf990d-f61b-4170-a5fc-955a06120aab",
   "metadata": {},
   "outputs": [
    {
     "data": {
      "text/plain": [
       "'*****shubham******'"
      ]
     },
     "execution_count": 53,
     "metadata": {},
     "output_type": "execute_result"
    }
   ],
   "source": [
    "x.center(18,'*')"
   ]
  },
  {
   "cell_type": "code",
   "execution_count": 52,
   "id": "71acd48c-dd74-4a39-a6c5-4557fe8ff907",
   "metadata": {},
   "outputs": [
    {
     "data": {
      "text/plain": [
       "'@@@@shubham@@@@'"
      ]
     },
     "execution_count": 52,
     "metadata": {},
     "output_type": "execute_result"
    }
   ],
   "source": [
    "x=\"shubham\"\n",
    "x.center(15,\"@\")"
   ]
  },
  {
   "cell_type": "code",
   "execution_count": 54,
   "id": "7824de47-586c-4751-b21b-2b58612bddd4",
   "metadata": {},
   "outputs": [
    {
     "data": {
      "text/plain": [
       "'###shubham Sarade###'"
      ]
     },
     "execution_count": 54,
     "metadata": {},
     "output_type": "execute_result"
    }
   ],
   "source": [
    "x=\"shubham Sarade\"\n",
    "x.center(20,'#')"
   ]
  },
  {
   "cell_type": "code",
   "execution_count": null,
   "id": "cee76166-baf0-45b9-80e7-242f54105256",
   "metadata": {},
   "outputs": [],
   "source": [
    "\n",
    "\n",
    "\n",
    "\n"
   ]
  },
  {
   "cell_type": "code",
   "execution_count": 55,
   "id": "875fcdba-9a31-4d8e-b686-ce3534c498cc",
   "metadata": {},
   "outputs": [],
   "source": [
    "x=\"   shubham sarade      \""
   ]
  },
  {
   "cell_type": "code",
   "execution_count": 56,
   "id": "49850b0c-6682-4317-890f-3d45fefb9a66",
   "metadata": {},
   "outputs": [
    {
     "data": {
      "text/plain": [
       "'shubham sarade      '"
      ]
     },
     "execution_count": 56,
     "metadata": {},
     "output_type": "execute_result"
    }
   ],
   "source": [
    "x.lstrip()"
   ]
  },
  {
   "cell_type": "code",
   "execution_count": 57,
   "id": "bcfff7fd-d144-4820-9c61-800243d3e6cf",
   "metadata": {},
   "outputs": [
    {
     "data": {
      "text/plain": [
       "'   shubham sarade'"
      ]
     },
     "execution_count": 57,
     "metadata": {},
     "output_type": "execute_result"
    }
   ],
   "source": [
    "x.rstrip()"
   ]
  },
  {
   "cell_type": "code",
   "execution_count": 58,
   "id": "6d0b201a-6bb3-45de-9804-b6b20d91d2c1",
   "metadata": {},
   "outputs": [
    {
     "data": {
      "text/plain": [
       "'shubham sarade'"
      ]
     },
     "execution_count": 58,
     "metadata": {},
     "output_type": "execute_result"
    }
   ],
   "source": [
    "x.strip()"
   ]
  },
  {
   "cell_type": "code",
   "execution_count": 61,
   "id": "c1874c8f-b263-4ec5-b574-30357ffa73fd",
   "metadata": {},
   "outputs": [],
   "source": [
    "x=\"data\""
   ]
  },
  {
   "cell_type": "code",
   "execution_count": 65,
   "id": "5a2d9e5d-2545-4e47-90e3-d4c82cbda5a2",
   "metadata": {},
   "outputs": [
    {
     "data": {
      "text/plain": [
       "'data@@@@@@@@@@@'"
      ]
     },
     "execution_count": 65,
     "metadata": {},
     "output_type": "execute_result"
    }
   ],
   "source": [
    "x.ljust(15,\"@\")"
   ]
  },
  {
   "cell_type": "code",
   "execution_count": 66,
   "id": "e35f1353-c6f5-4d4c-a634-fcdf3fa0c534",
   "metadata": {},
   "outputs": [
    {
     "data": {
      "text/plain": [
       "'%%%%%%%%%%%%%%%%data'"
      ]
     },
     "execution_count": 66,
     "metadata": {},
     "output_type": "execute_result"
    }
   ],
   "source": [
    "x.rjust(20,'%')"
   ]
  },
  {
   "cell_type": "code",
   "execution_count": 68,
   "id": "252ea023-4f37-4fc1-80dd-b2bbe4c8db01",
   "metadata": {},
   "outputs": [
    {
     "ename": "AttributeError",
     "evalue": "'str' object has no attribute 'just'",
     "output_type": "error",
     "traceback": [
      "\u001b[31m---------------------------------------------------------------------------\u001b[39m",
      "\u001b[31mAttributeError\u001b[39m                            Traceback (most recent call last)",
      "\u001b[36mCell\u001b[39m\u001b[36m \u001b[39m\u001b[32mIn[68]\u001b[39m\u001b[32m, line 1\u001b[39m\n\u001b[32m----> \u001b[39m\u001b[32m1\u001b[39m \u001b[43mx\u001b[49m\u001b[43m.\u001b[49m\u001b[43mjust\u001b[49m(\u001b[32m15\u001b[39m,\u001b[33m'\u001b[39m\u001b[33m@\u001b[39m\u001b[33m'\u001b[39m)\n",
      "\u001b[31mAttributeError\u001b[39m: 'str' object has no attribute 'just'"
     ]
    }
   ],
   "source": [
    "x.just(15,'@')"
   ]
  },
  {
   "cell_type": "code",
   "execution_count": 69,
   "id": "d2441c30-2ad7-4bab-a78b-d91c1e377aba",
   "metadata": {},
   "outputs": [],
   "source": [
    "######LIST......."
   ]
  },
  {
   "cell_type": "code",
   "execution_count": null,
   "id": "9ac3e224-50e4-48eb-8a88-87093c27aa48",
   "metadata": {},
   "outputs": [],
   "source": []
  },
  {
   "cell_type": "code",
   "execution_count": 72,
   "id": "6f478024-3397-4ec2-9eca-7815d011a441",
   "metadata": {},
   "outputs": [],
   "source": [
    "x=[1,2.3,\"data\",2+3j]"
   ]
  },
  {
   "cell_type": "code",
   "execution_count": 73,
   "id": "73732e6c-8550-409a-8437-717dec01c000",
   "metadata": {},
   "outputs": [
    {
     "data": {
      "text/plain": [
       "list"
      ]
     },
     "execution_count": 73,
     "metadata": {},
     "output_type": "execute_result"
    }
   ],
   "source": [
    "type(x)"
   ]
  },
  {
   "cell_type": "code",
   "execution_count": 74,
   "id": "58f57684-08e1-43f5-a496-d196da49962a",
   "metadata": {},
   "outputs": [
    {
     "data": {
      "text/plain": [
       "(int, float, str, complex)"
      ]
     },
     "execution_count": 74,
     "metadata": {},
     "output_type": "execute_result"
    }
   ],
   "source": [
    "type(x[0]),type(x[1]),type(x[2]),type(x[3])"
   ]
  },
  {
   "cell_type": "code",
   "execution_count": 75,
   "id": "be91fefb-425d-43ef-b999-70b0b0d04044",
   "metadata": {},
   "outputs": [],
   "source": [
    "x[0]=11"
   ]
  },
  {
   "cell_type": "code",
   "execution_count": 76,
   "id": "75a88765-848f-442d-8a21-e04d60fe6783",
   "metadata": {},
   "outputs": [
    {
     "data": {
      "text/plain": [
       "[11, 2.3, 'data', (2+3j)]"
      ]
     },
     "execution_count": 76,
     "metadata": {},
     "output_type": "execute_result"
    }
   ],
   "source": [
    "x"
   ]
  },
  {
   "cell_type": "code",
   "execution_count": 77,
   "id": "50df7721-618b-4861-9ce1-c56cc63f2800",
   "metadata": {},
   "outputs": [],
   "source": [
    "x[2]=\"machine\""
   ]
  },
  {
   "cell_type": "code",
   "execution_count": 78,
   "id": "8bc55ea1-0a62-47b9-a744-8955e6c756c3",
   "metadata": {},
   "outputs": [
    {
     "data": {
      "text/plain": [
       "[11, 2.3, 'machine', (2+3j)]"
      ]
     },
     "execution_count": 78,
     "metadata": {},
     "output_type": "execute_result"
    }
   ],
   "source": [
    "x"
   ]
  },
  {
   "cell_type": "code",
   "execution_count": 79,
   "id": "ac92c0b3-c95f-4f5e-9cbf-6291a1b2b08c",
   "metadata": {},
   "outputs": [],
   "source": [
    "x=[1,2,3,[1,2,3]]"
   ]
  },
  {
   "cell_type": "code",
   "execution_count": 84,
   "id": "42136c0d-2032-4c0f-ba79-5d3a9c7bdb71",
   "metadata": {},
   "outputs": [],
   "source": [
    "x[3][0]=5"
   ]
  },
  {
   "cell_type": "code",
   "execution_count": 85,
   "id": "dbd39b50-c31f-4f86-beb2-3a73a43d2ae9",
   "metadata": {},
   "outputs": [
    {
     "data": {
      "text/plain": [
       "[1, 2, 3, [5, 2, 3]]"
      ]
     },
     "execution_count": 85,
     "metadata": {},
     "output_type": "execute_result"
    }
   ],
   "source": [
    "x"
   ]
  },
  {
   "cell_type": "code",
   "execution_count": 86,
   "id": "851c47b0-e868-47b0-80de-5d4d1978c8af",
   "metadata": {},
   "outputs": [],
   "source": [
    "x=[1,2,3,'data','science','learning']"
   ]
  },
  {
   "cell_type": "code",
   "execution_count": 88,
   "id": "9bcbc134-78df-4b38-8ba9-4b0249543680",
   "metadata": {},
   "outputs": [
    {
     "data": {
      "text/plain": [
       "'DAT'"
      ]
     },
     "execution_count": 88,
     "metadata": {},
     "output_type": "execute_result"
    }
   ],
   "source": [
    "x[3][0:3].swapcase()"
   ]
  },
  {
   "cell_type": "code",
   "execution_count": 89,
   "id": "4ab4403e-353c-4523-a06f-ee62f00d06e3",
   "metadata": {},
   "outputs": [
    {
     "data": {
      "text/plain": [
       "[1, 2, 3, 'data', 'science', 'learning']"
      ]
     },
     "execution_count": 89,
     "metadata": {},
     "output_type": "execute_result"
    }
   ],
   "source": [
    "x"
   ]
  },
  {
   "cell_type": "code",
   "execution_count": 92,
   "id": "2506c19f-c9fa-4cb4-93d8-c2793209a0ed",
   "metadata": {},
   "outputs": [
    {
     "name": "stdout",
     "output_type": "stream",
     "text": [
      "\n",
      "Question 14: Add 'orange' to the 'fruits' list in nested dictionary{'fruits': ['apple', 'banana'], 'colors': ['red', 'blue']}\n"
     ]
    }
   ],
   "source": [
    "# Question 14: Add 'orange' to the 'fruits' list in nested dictionary\n",
    "print(\"\\nQuestion 14: Add 'orange' to the 'fruits' list in nested dictionary{'fruits': ['apple', 'banana'], 'colors': ['red', 'blue']}\")\n",
    "# Your code here\")\n",
    "# Your code here"
   ]
  },
  {
   "cell_type": "code",
   "execution_count": 109,
   "id": "6257a033-7683-4d8c-8ab8-e034b74681fb",
   "metadata": {},
   "outputs": [
    {
     "name": "stdout",
     "output_type": "stream",
     "text": [
      "{'fruits': ['apple', 'banana'], 'colors': ['red', 'blue']}\n"
     ]
    }
   ],
   "source": [
    "x={'fruits': ['apple', 'banana'], 'colors': ['red', 'blue']}\n",
    "print(x)"
   ]
  },
  {
   "cell_type": "code",
   "execution_count": 110,
   "id": "6137c926-d74c-4ff2-8731-22468e34f36c",
   "metadata": {},
   "outputs": [
    {
     "ename": "TypeError",
     "evalue": "list indices must be integers or slices, not str",
     "output_type": "error",
     "traceback": [
      "\u001b[31m---------------------------------------------------------------------------\u001b[39m",
      "\u001b[31mTypeError\u001b[39m                                 Traceback (most recent call last)",
      "\u001b[36mCell\u001b[39m\u001b[36m \u001b[39m\u001b[32mIn[110]\u001b[39m\u001b[32m, line 1\u001b[39m\n\u001b[32m----> \u001b[39m\u001b[32m1\u001b[39m \u001b[43mx\u001b[49m\u001b[43m[\u001b[49m\u001b[33;43m'\u001b[39;49m\u001b[33;43mfruits\u001b[39;49m\u001b[33;43m'\u001b[39;49m\u001b[43m]\u001b[49m\u001b[43m[\u001b[49m\u001b[33;43m'\u001b[39;49m\u001b[33;43mcolors\u001b[39;49m\u001b[33;43m'\u001b[39;49m\u001b[43m]\u001b[49m=\u001b[33m'\u001b[39m\u001b[33morange\u001b[39m\u001b[33m'\u001b[39m\n\u001b[32m      2\u001b[39m \u001b[38;5;28mprint\u001b[39m(x)\n",
      "\u001b[31mTypeError\u001b[39m: list indices must be integers or slices, not str"
     ]
    }
   ],
   "source": [
    "x['fruits']['colors']='orange'\n",
    "print(x)"
   ]
  },
  {
   "cell_type": "code",
   "execution_count": null,
   "id": "51e9c9fd-5720-4cd1-ba41-d4e61131cb09",
   "metadata": {},
   "outputs": [],
   "source": []
  },
  {
   "cell_type": "code",
   "execution_count": 102,
   "id": "43f89164-1c6f-4483-9693-73d666052d2d",
   "metadata": {},
   "outputs": [
    {
     "name": "stdout",
     "output_type": "stream",
     "text": [
      "{'fruits': {'yellow': 'mango', 'pink': 'dragon fruit', 'color': 'orange'}}\n"
     ]
    }
   ],
   "source": [
    "x = {'fruits':{'yellow': 'mango', 'pink': 'dragon fruit'} }\n",
    "y = x['fruits']['color'] = 'orange'\n",
    "print(x)"
   ]
  },
  {
   "cell_type": "code",
   "execution_count": 106,
   "id": "eb5e9c72-45b2-4f00-a314-43115832804b",
   "metadata": {},
   "outputs": [
    {
     "ename": "TypeError",
     "evalue": "'builtin_function_or_method' object is not subscriptable",
     "output_type": "error",
     "traceback": [
      "\u001b[31m---------------------------------------------------------------------------\u001b[39m",
      "\u001b[31mTypeError\u001b[39m                                 Traceback (most recent call last)",
      "\u001b[36mCell\u001b[39m\u001b[36m \u001b[39m\u001b[32mIn[106]\u001b[39m\u001b[32m, line 2\u001b[39m\n\u001b[32m      1\u001b[39m data = {\u001b[33m'\u001b[39m\u001b[33mfruits\u001b[39m\u001b[33m'\u001b[39m: [\u001b[33m'\u001b[39m\u001b[33mapple\u001b[39m\u001b[33m'\u001b[39m, \u001b[33m'\u001b[39m\u001b[33mbanana\u001b[39m\u001b[33m'\u001b[39m], \u001b[33m'\u001b[39m\u001b[33mcolors\u001b[39m\u001b[33m'\u001b[39m: [\u001b[33m'\u001b[39m\u001b[33mred\u001b[39m\u001b[33m'\u001b[39m, \u001b[33m'\u001b[39m\u001b[33mblue\u001b[39m\u001b[33m'\u001b[39m]}\n\u001b[32m----> \u001b[39m\u001b[32m2\u001b[39m \u001b[43mdata\u001b[49m\u001b[43m[\u001b[49m\u001b[33;43m'\u001b[39;49m\u001b[33;43mfruits\u001b[39;49m\u001b[33;43m'\u001b[39;49m\u001b[43m]\u001b[49m\u001b[43m.\u001b[49m\u001b[43mappend\u001b[49m\u001b[43m[\u001b[49m\u001b[33;43m'\u001b[39;49m\u001b[33;43morange\u001b[39;49m\u001b[33;43m'\u001b[39;49m\u001b[43m]\u001b[49m\n",
      "\u001b[31mTypeError\u001b[39m: 'builtin_function_or_method' object is not subscriptable"
     ]
    }
   ],
   "source": [
    "data = {'fruits': ['apple', 'banana'], 'colors': ['red', 'blue']}\n",
    "data['fruits'].append['orange']"
   ]
  },
  {
   "cell_type": "code",
   "execution_count": 2,
   "id": "6f140859-a87d-4b35-9331-d5f9f33adfb8",
   "metadata": {},
   "outputs": [
    {
     "data": {
      "text/plain": [
       "'ING'"
      ]
     },
     "execution_count": 2,
     "metadata": {},
     "output_type": "execute_result"
    }
   ],
   "source": [
    "x=[1,2,3,['data','science','machine'],['learning']]\n",
    "x[-1][-1][-3:].swapcase()"
   ]
  },
  {
   "cell_type": "code",
   "execution_count": 5,
   "id": "7198fb8b-779f-4a8d-a44a-3c83e458a4f7",
   "metadata": {},
   "outputs": [],
   "source": [
    "x=[1,2,3]\n",
    "x.append(10)\n",
    "####append add extra data in last"
   ]
  },
  {
   "cell_type": "code",
   "execution_count": 6,
   "id": "14aa0083-de86-473d-9a64-cd74fec8f3cb",
   "metadata": {},
   "outputs": [
    {
     "name": "stdout",
     "output_type": "stream",
     "text": [
      "[1, 2, 3, 10]\n"
     ]
    }
   ],
   "source": [
    "print(x)"
   ]
  },
  {
   "cell_type": "code",
   "execution_count": 7,
   "id": "e0a5a184-3a47-4d0a-880a-cbb1c88c5fb1",
   "metadata": {},
   "outputs": [],
   "source": [
    "x.append([4,5,6])"
   ]
  },
  {
   "cell_type": "code",
   "execution_count": 8,
   "id": "a9ce86ea-1a75-4147-959d-e5d80d7db6f8",
   "metadata": {},
   "outputs": [
    {
     "name": "stdout",
     "output_type": "stream",
     "text": [
      "[1, 2, 3, 10, [4, 5, 6]]\n"
     ]
    }
   ],
   "source": [
    "print(x)"
   ]
  },
  {
   "cell_type": "code",
   "execution_count": 10,
   "id": "125e43dd-0695-4cc6-80d0-8fdbc3c7883a",
   "metadata": {},
   "outputs": [
    {
     "data": {
      "text/plain": [
       "[1, 2, 3, 10, [4, 5, 6], 'd', 'a', 't', 'a']"
      ]
     },
     "execution_count": 10,
     "metadata": {},
     "output_type": "execute_result"
    }
   ],
   "source": [
    "x.extend('data')\n",
    "x"
   ]
  },
  {
   "cell_type": "code",
   "execution_count": 15,
   "id": "b3340c69-1146-477f-bdc6-f784571e90c2",
   "metadata": {},
   "outputs": [
    {
     "data": {
      "text/plain": [
       "[1, 2, 3, 10, [4, 5, 6], 'd', 'a', 't', 'a', 'data', 'data', 'data']"
      ]
     },
     "execution_count": 15,
     "metadata": {},
     "output_type": "execute_result"
    }
   ],
   "source": [
    "x.extend(['data'])\n",
    "x"
   ]
  },
  {
   "cell_type": "code",
   "execution_count": 16,
   "id": "24ea213a-86f4-40b8-8d61-6c6012f64757",
   "metadata": {},
   "outputs": [
    {
     "data": {
      "text/plain": [
       "[1, 2, 3, 10, [4, 5, 6], 'd', 'a', 't', 'a', 'data', 'data', 'data', 'shubham']"
      ]
     },
     "execution_count": 16,
     "metadata": {},
     "output_type": "execute_result"
    }
   ],
   "source": [
    "x.extend(['shubham'])\n",
    "x"
   ]
  },
  {
   "cell_type": "code",
   "execution_count": 17,
   "id": "6ed2ac94-2bd5-4062-b34a-59eee658d6e0",
   "metadata": {},
   "outputs": [
    {
     "data": {
      "text/plain": [
       "[1, 2, 3, 10, [4, 5, 6], 'd', 'a', 't', 'a', 'data', 'data', 'shubham']"
      ]
     },
     "execution_count": 17,
     "metadata": {},
     "output_type": "execute_result"
    }
   ],
   "source": [
    "x.remove('data')\n",
    "x"
   ]
  },
  {
   "cell_type": "code",
   "execution_count": 18,
   "id": "8b66434d-bd28-4ce8-8246-447aa9275b93",
   "metadata": {},
   "outputs": [],
   "source": [
    "####remove function use to remove specific data"
   ]
  },
  {
   "cell_type": "code",
   "execution_count": 19,
   "id": "324f9a59-21f9-4776-b27a-dbe8aeb5f184",
   "metadata": {},
   "outputs": [
    {
     "data": {
      "text/plain": [
       "[1,\n",
       " 2,\n",
       " 3,\n",
       " 'machin',\n",
       " 10,\n",
       " [4, 5, 6],\n",
       " 'd',\n",
       " 'a',\n",
       " 't',\n",
       " 'a',\n",
       " 'data',\n",
       " 'data',\n",
       " 'shubham']"
      ]
     },
     "execution_count": 19,
     "metadata": {},
     "output_type": "execute_result"
    }
   ],
   "source": [
    "x.insert(3,'machin')\n",
    "x"
   ]
  },
  {
   "cell_type": "code",
   "execution_count": 21,
   "id": "998952f0-c7b6-4828-892e-cdd5e8f86b3b",
   "metadata": {},
   "outputs": [
    {
     "data": {
      "text/plain": [
       "[]"
      ]
     },
     "execution_count": 21,
     "metadata": {},
     "output_type": "execute_result"
    }
   ],
   "source": [
    "x.clear()\n",
    "x"
   ]
  },
  {
   "cell_type": "code",
   "execution_count": 1,
   "id": "9905662a-984f-432f-a6ec-2765c3553600",
   "metadata": {},
   "outputs": [],
   "source": [
    "##x=y shalow copy\n",
    "###y=x.copy() deep copy.... onlya changes in y .. x kep as it is\n",
    "####x.count().. conting \n",
    "###x.pop() remove data refering with index>>...\n",
    "####x.remove() removing element with respect to position"
   ]
  },
  {
   "cell_type": "code",
   "execution_count": null,
   "id": "45f8dedb-e629-46c1-893c-b354b8e6b223",
   "metadata": {},
   "outputs": [],
   "source": [
    "####tuple \n",
    "###its a immutable data type"
   ]
  },
  {
   "cell_type": "code",
   "execution_count": 2,
   "id": "6fda62bf-4c58-45b8-8bd1-05d1491bef64",
   "metadata": {},
   "outputs": [
    {
     "data": {
      "text/plain": [
       "tuple"
      ]
     },
     "execution_count": 2,
     "metadata": {},
     "output_type": "execute_result"
    }
   ],
   "source": [
    "\n",
    "x=(1,2,3)\n",
    "type(x)"
   ]
  },
  {
   "cell_type": "code",
   "execution_count": 3,
   "id": "f3941bb8-504d-41a6-a9fe-3a704ac5b6ee",
   "metadata": {},
   "outputs": [
    {
     "data": {
      "text/plain": [
       "1"
      ]
     },
     "execution_count": 3,
     "metadata": {},
     "output_type": "execute_result"
    }
   ],
   "source": [
    "x.count(1)\n"
   ]
  },
  {
   "cell_type": "code",
   "execution_count": 5,
   "id": "f4ed9186-e880-4334-a692-89f8fc9e2c32",
   "metadata": {},
   "outputs": [
    {
     "data": {
      "text/plain": [
       "1"
      ]
     },
     "execution_count": 5,
     "metadata": {},
     "output_type": "execute_result"
    }
   ],
   "source": [
    "x[0]"
   ]
  },
  {
   "cell_type": "code",
   "execution_count": 6,
   "id": "e69c01f4-2bfe-4f2c-8c7e-632eaa8be37c",
   "metadata": {},
   "outputs": [
    {
     "data": {
      "text/plain": [
       "0"
      ]
     },
     "execution_count": 6,
     "metadata": {},
     "output_type": "execute_result"
    }
   ],
   "source": [
    "x.index(1)"
   ]
  },
  {
   "cell_type": "code",
   "execution_count": 7,
   "id": "e94d21b4-d551-4615-9e61-82b8abe404a4",
   "metadata": {},
   "outputs": [
    {
     "data": {
      "text/plain": [
       "1"
      ]
     },
     "execution_count": 7,
     "metadata": {},
     "output_type": "execute_result"
    }
   ],
   "source": [
    "x.index(2)"
   ]
  },
  {
   "cell_type": "code",
   "execution_count": 8,
   "id": "573bdb95-f133-4713-9e11-6b2064027048",
   "metadata": {},
   "outputs": [],
   "source": [
    "####diff betn tuple and list\n",
    "####tuple== 1) it is a immutable data type\n",
    "#2) method are limited (index and count only)\n",
    "#3)fixed data (constant,cordinates etc)\n",
    "#4)faster as compare to list\n",
    "#5) less memory"
   ]
  },
  {
   "cell_type": "code",
   "execution_count": 9,
   "id": "f8222183-2953-466d-bd77-20966b787ce4",
   "metadata": {},
   "outputs": [],
   "source": [
    "####List=====1) itis a mutable data type\n",
    "#2) many method (append,pop,sort etc)\n",
    "#3)Dynamic data\n",
    "#4) slow as compare to tuple\n",
    "#5)required more memory"
   ]
  },
  {
   "cell_type": "code",
   "execution_count": null,
   "id": "c4dc2b51-6f36-41cb-bac1-497420763d2c",
   "metadata": {},
   "outputs": [],
   "source": []
  }
 ],
 "metadata": {
  "kernelspec": {
   "display_name": "Python 3 (ipykernel)",
   "language": "python",
   "name": "python3"
  },
  "language_info": {
   "codemirror_mode": {
    "name": "ipython",
    "version": 3
   },
   "file_extension": ".py",
   "mimetype": "text/x-python",
   "name": "python",
   "nbconvert_exporter": "python",
   "pygments_lexer": "ipython3",
   "version": "3.13.5"
  }
 },
 "nbformat": 4,
 "nbformat_minor": 5
}
